{
 "cells": [
  {
   "attachments": {},
   "cell_type": "markdown",
   "metadata": {},
   "source": [
    "# UVOD U MACHINE LEARNING\n",
    "## Upravljanje podacima: Uvod u Pandas i Numpy za ML\n",
    "\n",
    "Feedback should be send to [goran.milovanovic@datakolektiv.com](mailto:goran.milovanovic@datakolektiv.com). \n"
   ]
  },
  {
   "attachments": {},
   "cell_type": "markdown",
   "metadata": {},
   "source": [
    "![](MLSS03_WebPage_Notebook_Banner.png)"
   ]
  },
  {
   "attachments": {},
   "cell_type": "markdown",
   "metadata": {},
   "source": [
    "### Lecturers\n",
    "\n",
    "[Goran S. Milovanović, PhD, DataKolektiv, Chief Scientist & Owner](https://www.linkedin.com/in/gmilovanovic/)\n",
    "\n",
    "[Aleksandar Cvetković, PhD, DataKolektiv, Consultant](https://www.linkedin.com/in/alegzndr/)\n",
    "\n",
    "[Ilija Lazarević, MA, DataKolektiv, Consultant](https://www.linkedin.com/in/ilijalazarevic/)"
   ]
  },
  {
   "attachments": {},
   "cell_type": "markdown",
   "metadata": {},
   "source": [
    "![](DK_Logo_100.png)"
   ]
  },
  {
   "attachments": {},
   "cell_type": "markdown",
   "metadata": {},
   "source": [
    "## Pandas introduction"
   ]
  },
  {
   "attachments": {},
   "cell_type": "markdown",
   "metadata": {},
   "source": [
    "Pandas is a popular open-source data manipulation and analysis library in Python. It provides powerful tools and data structures for efficiently working with structured data, making it an essential framework for data scientists, analysts, and developers. With its intuitive syntax and extensive functionality, Pandas simplifies the process of data cleaning, transformation, exploration, and visualization.\n",
    "\n",
    "At the core of the Pandas framework are two fundamental data structures: **Series** and **DataFrame**. A Series is a one-dimensional labeled array that can hold various data types, such as integers, floats, strings, or even Python objects. It is similar to a column in a spreadsheet or a single column of a table in a relational database. On the other hand, a DataFrame is a two-dimensional labeled data structure, consisting of rows and columns, which represents a tabular, spreadsheet-like structure. It is highly flexible and allows for the manipulation and analysis of structured data, including operations like filtering, sorting, merging, and grouping.\n",
    "\n",
    "Pandas offers a wide range of functions and methods to perform common data operations effortlessly. It provides powerful tools for data cleaning, such as handling missing data, removing duplicates, and transforming data formats. Additionally, Pandas enables data exploration and analysis through functionalities like filtering and sorting data, statistical calculations, and handling time series data. It also seamlessly **integrates** with other popular Python libraries, such as **NumPy** for numerical computing and **Matplotlib** for data visualization, further enhancing its capabilities for data analysis and visualization tasks. Whether you are working with small or large datasets, Pandas provides efficient and scalable solutions for data manipulation and analysis in Python."
   ]
  },
  {
   "attachments": {},
   "cell_type": "markdown",
   "metadata": {},
   "source": [
    "Before starting with Pandas and NumPy, let's import these libraries.\n",
    "\n",
    "There are some standards that we shall abide here. It is more of a good practice, and you will see other engineers import these in the same way. Why is this good practice? You are used to these names, and once you import them, you just use them from then on."
   ]
  },
  {
   "cell_type": "code",
   "execution_count": 1,
   "metadata": {},
   "outputs": [],
   "source": [
    "import numpy as np\n",
    "import pandas as pd"
   ]
  },
  {
   "attachments": {},
   "cell_type": "markdown",
   "metadata": {},
   "source": [
    "### Creating structures"
   ]
  },
  {
   "attachments": {},
   "cell_type": "markdown",
   "metadata": {},
   "source": [
    "As already stated, at the core of the Pandas framework are two fundamental data structures: **Series** and **DataFrame**.\n",
    "\n",
    "How does these look like?"
   ]
  },
  {
   "cell_type": "code",
   "execution_count": 2,
   "metadata": {},
   "outputs": [],
   "source": [
    "series_test1 = pd.Series([1,2,3,4,5])"
   ]
  },
  {
   "cell_type": "code",
   "execution_count": 3,
   "metadata": {},
   "outputs": [
    {
     "data": {
      "text/plain": [
       "0    1\n",
       "1    2\n",
       "2    3\n",
       "3    4\n",
       "4    5\n",
       "dtype: int64"
      ]
     },
     "execution_count": 3,
     "metadata": {},
     "output_type": "execute_result"
    }
   ],
   "source": [
    "series_test1"
   ]
  },
  {
   "attachments": {},
   "cell_type": "markdown",
   "metadata": {},
   "source": [
    "These two columns are: \n",
    "- indices, and\n",
    "- Series values.\n",
    "\n",
    "Indices are more or less for the same reason as there are for Python lists. It is just that you can see them here for easier manipulation with your Series instance.\n",
    "\n",
    "`dtype: int64` is the data type for your Series. For now, we will just say that your Series is of type *integer*, and that means it contains only integer values."
   ]
  },
  {
   "cell_type": "code",
   "execution_count": 4,
   "metadata": {},
   "outputs": [],
   "source": [
    "series_test2 = pd.Series([1,2.2,3,4,5])"
   ]
  },
  {
   "cell_type": "code",
   "execution_count": 5,
   "metadata": {},
   "outputs": [
    {
     "data": {
      "text/plain": [
       "0    1.0\n",
       "1    2.2\n",
       "2    3.0\n",
       "3    4.0\n",
       "4    5.0\n",
       "dtype: float64"
      ]
     },
     "execution_count": 5,
     "metadata": {},
     "output_type": "execute_result"
    }
   ],
   "source": [
    "series_test2"
   ]
  },
  {
   "attachments": {},
   "cell_type": "markdown",
   "metadata": {},
   "source": [
    "Now, you can see `dtype: float64` and this means your Series contains float numbers only. But wait, we created it with `[1, 2.2, 3, 4, 5]`, where only one value was of type `float`. Well, since float numbers are superset of integer numbers, all of the values are converted to float.\n",
    "\n",
    "What else do we have. Strings are valid values too."
   ]
  },
  {
   "cell_type": "code",
   "execution_count": 6,
   "metadata": {},
   "outputs": [],
   "source": [
    "series_test3 = pd.Series(['marko', 'jovana', 'mirko', 'dragana'])"
   ]
  },
  {
   "cell_type": "code",
   "execution_count": 7,
   "metadata": {},
   "outputs": [
    {
     "data": {
      "text/plain": [
       "0      marko\n",
       "1     jovana\n",
       "2      mirko\n",
       "3    dragana\n",
       "dtype: object"
      ]
     },
     "execution_count": 7,
     "metadata": {},
     "output_type": "execute_result"
    }
   ],
   "source": [
    "series_test3"
   ]
  },
  {
   "attachments": {},
   "cell_type": "markdown",
   "metadata": {},
   "source": [
    "This is perfectly valid instance of Series too. Working with strings in Pandas is just as usual as working with numbers. Pandas recognizes these strings as `objects`. But you can be explicit and do a conversion to string."
   ]
  },
  {
   "cell_type": "code",
   "execution_count": 8,
   "metadata": {},
   "outputs": [
    {
     "data": {
      "text/plain": [
       "0      marko\n",
       "1     jovana\n",
       "2      mirko\n",
       "3    dragana\n",
       "dtype: string"
      ]
     },
     "execution_count": 8,
     "metadata": {},
     "output_type": "execute_result"
    }
   ],
   "source": [
    "series_test3 = series_test3.astype('string')\n",
    "\n",
    "series_test3"
   ]
  },
  {
   "attachments": {},
   "cell_type": "markdown",
   "metadata": {},
   "source": [
    "Now that we mentioned conversion, you can do this the same way with numbers too."
   ]
  },
  {
   "cell_type": "code",
   "execution_count": 9,
   "metadata": {},
   "outputs": [
    {
     "data": {
      "text/plain": [
       "0    1\n",
       "1    2\n",
       "2    3\n",
       "3    4\n",
       "4    5\n",
       "dtype: int64"
      ]
     },
     "execution_count": 9,
     "metadata": {},
     "output_type": "execute_result"
    }
   ],
   "source": [
    "series_test1"
   ]
  },
  {
   "cell_type": "code",
   "execution_count": 10,
   "metadata": {},
   "outputs": [
    {
     "data": {
      "text/plain": [
       "0    1.0\n",
       "1    2.0\n",
       "2    3.0\n",
       "3    4.0\n",
       "4    5.0\n",
       "dtype: float64"
      ]
     },
     "execution_count": 10,
     "metadata": {},
     "output_type": "execute_result"
    }
   ],
   "source": [
    "series_test1.astype('float')"
   ]
  },
  {
   "attachments": {},
   "cell_type": "markdown",
   "metadata": {},
   "source": [
    "Or do the other way around."
   ]
  },
  {
   "cell_type": "code",
   "execution_count": 11,
   "metadata": {},
   "outputs": [
    {
     "data": {
      "text/plain": [
       "0    1.0\n",
       "1    2.2\n",
       "2    3.0\n",
       "3    4.0\n",
       "4    5.0\n",
       "dtype: float64"
      ]
     },
     "execution_count": 11,
     "metadata": {},
     "output_type": "execute_result"
    }
   ],
   "source": [
    "series_test2"
   ]
  },
  {
   "cell_type": "code",
   "execution_count": 12,
   "metadata": {},
   "outputs": [
    {
     "data": {
      "text/plain": [
       "0    1\n",
       "1    2\n",
       "2    3\n",
       "3    4\n",
       "4    5\n",
       "dtype: int64"
      ]
     },
     "execution_count": 12,
     "metadata": {},
     "output_type": "execute_result"
    }
   ],
   "source": [
    "series_test2.astype('int')"
   ]
  },
  {
   "attachments": {},
   "cell_type": "markdown",
   "metadata": {},
   "source": [
    "Very easy.\n",
    "\n",
    "And what about *DataFrame*, how can we create it?\n",
    "\n",
    "Well, there are multiple ways to create it. Let's see couple of different ones."
   ]
  },
  {
   "cell_type": "code",
   "execution_count": 13,
   "metadata": {},
   "outputs": [
    {
     "data": {
      "text/html": [
       "<div>\n",
       "<style scoped>\n",
       "    .dataframe tbody tr th:only-of-type {\n",
       "        vertical-align: middle;\n",
       "    }\n",
       "\n",
       "    .dataframe tbody tr th {\n",
       "        vertical-align: top;\n",
       "    }\n",
       "\n",
       "    .dataframe thead th {\n",
       "        text-align: right;\n",
       "    }\n",
       "</style>\n",
       "<table border=\"1\" class=\"dataframe\">\n",
       "  <thead>\n",
       "    <tr style=\"text-align: right;\">\n",
       "      <th></th>\n",
       "      <th>0</th>\n",
       "    </tr>\n",
       "  </thead>\n",
       "  <tbody>\n",
       "    <tr>\n",
       "      <th>0</th>\n",
       "      <td>1</td>\n",
       "    </tr>\n",
       "    <tr>\n",
       "      <th>1</th>\n",
       "      <td>2</td>\n",
       "    </tr>\n",
       "    <tr>\n",
       "      <th>2</th>\n",
       "      <td>3</td>\n",
       "    </tr>\n",
       "    <tr>\n",
       "      <th>3</th>\n",
       "      <td>4</td>\n",
       "    </tr>\n",
       "    <tr>\n",
       "      <th>4</th>\n",
       "      <td>5</td>\n",
       "    </tr>\n",
       "  </tbody>\n",
       "</table>\n",
       "</div>"
      ],
      "text/plain": [
       "   0\n",
       "0  1\n",
       "1  2\n",
       "2  3\n",
       "3  4\n",
       "4  5"
      ]
     },
     "execution_count": 13,
     "metadata": {},
     "output_type": "execute_result"
    }
   ],
   "source": [
    "df_test1 = pd.DataFrame([1,2,3,4,5])\n",
    "df_test1"
   ]
  },
  {
   "attachments": {},
   "cell_type": "markdown",
   "metadata": {},
   "source": [
    "Strangely, this looks almost like the Series object, but it is displayed a bit differently. We assure you, it is indeed different data structure. \n",
    "\n",
    "Pandas DataFrame is like a tabular data structure. With rows and columns. Something you would see in databases or Excel sheets."
   ]
  },
  {
   "cell_type": "code",
   "execution_count": 14,
   "metadata": {},
   "outputs": [
    {
     "data": {
      "text/html": [
       "<div>\n",
       "<style scoped>\n",
       "    .dataframe tbody tr th:only-of-type {\n",
       "        vertical-align: middle;\n",
       "    }\n",
       "\n",
       "    .dataframe tbody tr th {\n",
       "        vertical-align: top;\n",
       "    }\n",
       "\n",
       "    .dataframe thead th {\n",
       "        text-align: right;\n",
       "    }\n",
       "</style>\n",
       "<table border=\"1\" class=\"dataframe\">\n",
       "  <thead>\n",
       "    <tr style=\"text-align: right;\">\n",
       "      <th></th>\n",
       "      <th>numbers</th>\n",
       "    </tr>\n",
       "  </thead>\n",
       "  <tbody>\n",
       "    <tr>\n",
       "      <th>0</th>\n",
       "      <td>1</td>\n",
       "    </tr>\n",
       "    <tr>\n",
       "      <th>1</th>\n",
       "      <td>2</td>\n",
       "    </tr>\n",
       "    <tr>\n",
       "      <th>2</th>\n",
       "      <td>3</td>\n",
       "    </tr>\n",
       "    <tr>\n",
       "      <th>3</th>\n",
       "      <td>4</td>\n",
       "    </tr>\n",
       "    <tr>\n",
       "      <th>4</th>\n",
       "      <td>5</td>\n",
       "    </tr>\n",
       "  </tbody>\n",
       "</table>\n",
       "</div>"
      ],
      "text/plain": [
       "   numbers\n",
       "0        1\n",
       "1        2\n",
       "2        3\n",
       "3        4\n",
       "4        5"
      ]
     },
     "execution_count": 14,
     "metadata": {},
     "output_type": "execute_result"
    }
   ],
   "source": [
    "df_test2 = pd.DataFrame([1,2,3,4,5], columns=['numbers'])\n",
    "df_test2"
   ]
  },
  {
   "attachments": {},
   "cell_type": "markdown",
   "metadata": {},
   "source": [
    "Nice! You can name your columns. Can we add more columns?"
   ]
  },
  {
   "cell_type": "code",
   "execution_count": 15,
   "metadata": {},
   "outputs": [
    {
     "data": {
      "text/html": [
       "<div>\n",
       "<style scoped>\n",
       "    .dataframe tbody tr th:only-of-type {\n",
       "        vertical-align: middle;\n",
       "    }\n",
       "\n",
       "    .dataframe tbody tr th {\n",
       "        vertical-align: top;\n",
       "    }\n",
       "\n",
       "    .dataframe thead th {\n",
       "        text-align: right;\n",
       "    }\n",
       "</style>\n",
       "<table border=\"1\" class=\"dataframe\">\n",
       "  <thead>\n",
       "    <tr style=\"text-align: right;\">\n",
       "      <th></th>\n",
       "      <th>rank</th>\n",
       "      <th>name</th>\n",
       "    </tr>\n",
       "  </thead>\n",
       "  <tbody>\n",
       "    <tr>\n",
       "      <th>0</th>\n",
       "      <td>1</td>\n",
       "      <td>marko</td>\n",
       "    </tr>\n",
       "    <tr>\n",
       "      <th>1</th>\n",
       "      <td>2</td>\n",
       "      <td>jovana</td>\n",
       "    </tr>\n",
       "    <tr>\n",
       "      <th>2</th>\n",
       "      <td>3</td>\n",
       "      <td>mirko</td>\n",
       "    </tr>\n",
       "    <tr>\n",
       "      <th>3</th>\n",
       "      <td>4</td>\n",
       "      <td>dragana</td>\n",
       "    </tr>\n",
       "    <tr>\n",
       "      <th>4</th>\n",
       "      <td>5</td>\n",
       "      <td>nikola</td>\n",
       "    </tr>\n",
       "  </tbody>\n",
       "</table>\n",
       "</div>"
      ],
      "text/plain": [
       "   rank     name\n",
       "0     1    marko\n",
       "1     2   jovana\n",
       "2     3    mirko\n",
       "3     4  dragana\n",
       "4     5   nikola"
      ]
     },
     "execution_count": 15,
     "metadata": {},
     "output_type": "execute_result"
    }
   ],
   "source": [
    "df_test3 = pd.DataFrame([[1, 'marko'],[2, 'jovana'], [3, 'mirko'], [4, 'dragana'], [5, 'nikola']], columns=['rank', 'name'])\n",
    "df_test3"
   ]
  },
  {
   "attachments": {},
   "cell_type": "markdown",
   "metadata": {},
   "source": [
    "Well, this is convenient. And yet, it can be very tiring to create DataFrame like this. Let's use Python to help us with it's functions."
   ]
  },
  {
   "cell_type": "code",
   "execution_count": 16,
   "metadata": {},
   "outputs": [
    {
     "data": {
      "text/html": [
       "<div>\n",
       "<style scoped>\n",
       "    .dataframe tbody tr th:only-of-type {\n",
       "        vertical-align: middle;\n",
       "    }\n",
       "\n",
       "    .dataframe tbody tr th {\n",
       "        vertical-align: top;\n",
       "    }\n",
       "\n",
       "    .dataframe thead th {\n",
       "        text-align: right;\n",
       "    }\n",
       "</style>\n",
       "<table border=\"1\" class=\"dataframe\">\n",
       "  <thead>\n",
       "    <tr style=\"text-align: right;\">\n",
       "      <th></th>\n",
       "      <th>rank</th>\n",
       "      <th>name</th>\n",
       "      <th>grade</th>\n",
       "    </tr>\n",
       "  </thead>\n",
       "  <tbody>\n",
       "    <tr>\n",
       "      <th>0</th>\n",
       "      <td>0</td>\n",
       "      <td>marko</td>\n",
       "      <td>4.0</td>\n",
       "    </tr>\n",
       "    <tr>\n",
       "      <th>1</th>\n",
       "      <td>1</td>\n",
       "      <td>jovana</td>\n",
       "      <td>3.0</td>\n",
       "    </tr>\n",
       "    <tr>\n",
       "      <th>2</th>\n",
       "      <td>2</td>\n",
       "      <td>mirko</td>\n",
       "      <td>2.5</td>\n",
       "    </tr>\n",
       "    <tr>\n",
       "      <th>3</th>\n",
       "      <td>3</td>\n",
       "      <td>dragana</td>\n",
       "      <td>1.0</td>\n",
       "    </tr>\n",
       "    <tr>\n",
       "      <th>4</th>\n",
       "      <td>4</td>\n",
       "      <td>nikola</td>\n",
       "      <td>2.0</td>\n",
       "    </tr>\n",
       "  </tbody>\n",
       "</table>\n",
       "</div>"
      ],
      "text/plain": [
       "   rank     name  grade\n",
       "0     0    marko    4.0\n",
       "1     1   jovana    3.0\n",
       "2     2    mirko    2.5\n",
       "3     3  dragana    1.0\n",
       "4     4   nikola    2.0"
      ]
     },
     "execution_count": 16,
     "metadata": {},
     "output_type": "execute_result"
    }
   ],
   "source": [
    "_ranks = list(range(5))\n",
    "_names = ['marko', 'jovana', 'mirko', 'dragana', 'nikola']\n",
    "_ocene = [4, 3, 2.5, 1, 2]\n",
    "\n",
    "df_test3 = pd.DataFrame(list(zip(_ranks, _names, _ocene)), columns=['rank', 'name', 'grade'])\n",
    "\n",
    "df_test3"
   ]
  },
  {
   "attachments": {},
   "cell_type": "markdown",
   "metadata": {},
   "source": [
    "What did we do here? We used Python's `zip` and `list` functions to make it easier for us to create DataFrame.\n",
    "\n",
    "How do these work?"
   ]
  },
  {
   "cell_type": "code",
   "execution_count": 17,
   "metadata": {},
   "outputs": [
    {
     "data": {
      "text/plain": [
       "<zip at 0x7f3654208e80>"
      ]
     },
     "execution_count": 17,
     "metadata": {},
     "output_type": "execute_result"
    }
   ],
   "source": [
    "zip([1,2,3], [1,2,3])"
   ]
  },
  {
   "cell_type": "code",
   "execution_count": 18,
   "metadata": {},
   "outputs": [
    {
     "data": {
      "text/plain": [
       "[(1, 5), (2, 6), (3, 7)]"
      ]
     },
     "execution_count": 18,
     "metadata": {},
     "output_type": "execute_result"
    }
   ],
   "source": [
    "list(zip([1,2,3], [5,6,7]))"
   ]
  },
  {
   "attachments": {},
   "cell_type": "markdown",
   "metadata": {},
   "source": [
    "`zip` pairs your lists so that each list's value at the same index goes into the same resulting tuple. If we have 2 lists with 3 values, the result will be 3 tuples, each with 2 values. \n",
    "\n",
    "`list` is used to unwrap this from the `zip` response. `zip` is a *generator*, but disregard that for now. It is an advanced concept in Python.\n",
    "\n",
    "Anyway, you can use these with more separate lists, like we did in our example. There we combined 3 lists with ranks, names and grades.\n",
    "\n",
    "How else can we create DataFrame..."
   ]
  },
  {
   "cell_type": "code",
   "execution_count": 19,
   "metadata": {},
   "outputs": [],
   "source": [
    "_data = {\n",
    "    'ranks': [1,2,3,4],\n",
    "    'colors': ['red', 'blue', 'green', 'yellow'],\n",
    "    'shape': ['square', 'circle', 'cloud', 'heart']\n",
    "}\n",
    "\n",
    "df_test4 = pd.DataFrame(_data)"
   ]
  },
  {
   "cell_type": "code",
   "execution_count": 20,
   "metadata": {},
   "outputs": [
    {
     "data": {
      "text/html": [
       "<div>\n",
       "<style scoped>\n",
       "    .dataframe tbody tr th:only-of-type {\n",
       "        vertical-align: middle;\n",
       "    }\n",
       "\n",
       "    .dataframe tbody tr th {\n",
       "        vertical-align: top;\n",
       "    }\n",
       "\n",
       "    .dataframe thead th {\n",
       "        text-align: right;\n",
       "    }\n",
       "</style>\n",
       "<table border=\"1\" class=\"dataframe\">\n",
       "  <thead>\n",
       "    <tr style=\"text-align: right;\">\n",
       "      <th></th>\n",
       "      <th>ranks</th>\n",
       "      <th>colors</th>\n",
       "      <th>shape</th>\n",
       "    </tr>\n",
       "  </thead>\n",
       "  <tbody>\n",
       "    <tr>\n",
       "      <th>0</th>\n",
       "      <td>1</td>\n",
       "      <td>red</td>\n",
       "      <td>square</td>\n",
       "    </tr>\n",
       "    <tr>\n",
       "      <th>1</th>\n",
       "      <td>2</td>\n",
       "      <td>blue</td>\n",
       "      <td>circle</td>\n",
       "    </tr>\n",
       "    <tr>\n",
       "      <th>2</th>\n",
       "      <td>3</td>\n",
       "      <td>green</td>\n",
       "      <td>cloud</td>\n",
       "    </tr>\n",
       "    <tr>\n",
       "      <th>3</th>\n",
       "      <td>4</td>\n",
       "      <td>yellow</td>\n",
       "      <td>heart</td>\n",
       "    </tr>\n",
       "  </tbody>\n",
       "</table>\n",
       "</div>"
      ],
      "text/plain": [
       "   ranks  colors   shape\n",
       "0      1     red  square\n",
       "1      2    blue  circle\n",
       "2      3   green   cloud\n",
       "3      4  yellow   heart"
      ]
     },
     "execution_count": 20,
     "metadata": {},
     "output_type": "execute_result"
    }
   ],
   "source": [
    "df_test4"
   ]
  },
  {
   "attachments": {},
   "cell_type": "markdown",
   "metadata": {},
   "source": [
    "See how we do not have to name the columns explicitly. DataFrame recognizes that column names are coming from dictionary's keys.\n",
    "\n",
    "One more way how we can create DataFrame:"
   ]
  },
  {
   "cell_type": "code",
   "execution_count": 21,
   "metadata": {},
   "outputs": [],
   "source": [
    "_data = {\n",
    "    'rank': {0: 1, 1: 3, 2: 4, 4: 5},\n",
    "    'name': {0: 'marko', 1: 'nikola', 2: 'jovana', 4: 'dragana'},\n",
    "    'grade': {0: 4.3, 1: 2, 2: 5, 4: 4.5}\n",
    "}\n",
    "\n",
    "df_test5 = pd.DataFrame(_data)"
   ]
  },
  {
   "cell_type": "code",
   "execution_count": 22,
   "metadata": {},
   "outputs": [
    {
     "data": {
      "text/html": [
       "<div>\n",
       "<style scoped>\n",
       "    .dataframe tbody tr th:only-of-type {\n",
       "        vertical-align: middle;\n",
       "    }\n",
       "\n",
       "    .dataframe tbody tr th {\n",
       "        vertical-align: top;\n",
       "    }\n",
       "\n",
       "    .dataframe thead th {\n",
       "        text-align: right;\n",
       "    }\n",
       "</style>\n",
       "<table border=\"1\" class=\"dataframe\">\n",
       "  <thead>\n",
       "    <tr style=\"text-align: right;\">\n",
       "      <th></th>\n",
       "      <th>rank</th>\n",
       "      <th>name</th>\n",
       "      <th>grade</th>\n",
       "    </tr>\n",
       "  </thead>\n",
       "  <tbody>\n",
       "    <tr>\n",
       "      <th>0</th>\n",
       "      <td>1</td>\n",
       "      <td>marko</td>\n",
       "      <td>4.3</td>\n",
       "    </tr>\n",
       "    <tr>\n",
       "      <th>1</th>\n",
       "      <td>3</td>\n",
       "      <td>nikola</td>\n",
       "      <td>2.0</td>\n",
       "    </tr>\n",
       "    <tr>\n",
       "      <th>2</th>\n",
       "      <td>4</td>\n",
       "      <td>jovana</td>\n",
       "      <td>5.0</td>\n",
       "    </tr>\n",
       "    <tr>\n",
       "      <th>4</th>\n",
       "      <td>5</td>\n",
       "      <td>dragana</td>\n",
       "      <td>4.5</td>\n",
       "    </tr>\n",
       "  </tbody>\n",
       "</table>\n",
       "</div>"
      ],
      "text/plain": [
       "   rank     name  grade\n",
       "0     1    marko    4.3\n",
       "1     3   nikola    2.0\n",
       "2     4   jovana    5.0\n",
       "4     5  dragana    4.5"
      ]
     },
     "execution_count": 22,
     "metadata": {},
     "output_type": "execute_result"
    }
   ],
   "source": [
    "df_test5"
   ]
  },
  {
   "attachments": {},
   "cell_type": "markdown",
   "metadata": {},
   "source": [
    "All good except the indices at the first 'column'. The one showing indices. We call it *index*. Values are not succesive numbers like before. We were able to define these too. More on this later."
   ]
  },
  {
   "attachments": {},
   "cell_type": "markdown",
   "metadata": {},
   "source": [
    "### Getting to know your data structure"
   ]
  },
  {
   "attachments": {},
   "cell_type": "markdown",
   "metadata": {},
   "source": [
    "So far we have seen how Series and DataFrame are created. Now we will show how to play around with the data.\n",
    "\n",
    "We will start with simple example and then use already existing dataset."
   ]
  },
  {
   "cell_type": "code",
   "execution_count": 23,
   "metadata": {},
   "outputs": [
    {
     "data": {
      "text/html": [
       "<div>\n",
       "<style scoped>\n",
       "    .dataframe tbody tr th:only-of-type {\n",
       "        vertical-align: middle;\n",
       "    }\n",
       "\n",
       "    .dataframe tbody tr th {\n",
       "        vertical-align: top;\n",
       "    }\n",
       "\n",
       "    .dataframe thead th {\n",
       "        text-align: right;\n",
       "    }\n",
       "</style>\n",
       "<table border=\"1\" class=\"dataframe\">\n",
       "  <thead>\n",
       "    <tr style=\"text-align: right;\">\n",
       "      <th></th>\n",
       "      <th>rank</th>\n",
       "      <th>name</th>\n",
       "      <th>grade</th>\n",
       "    </tr>\n",
       "  </thead>\n",
       "  <tbody>\n",
       "    <tr>\n",
       "      <th>0</th>\n",
       "      <td>1</td>\n",
       "      <td>marko</td>\n",
       "      <td>4.3</td>\n",
       "    </tr>\n",
       "    <tr>\n",
       "      <th>1</th>\n",
       "      <td>3</td>\n",
       "      <td>nikola</td>\n",
       "      <td>2.0</td>\n",
       "    </tr>\n",
       "    <tr>\n",
       "      <th>2</th>\n",
       "      <td>4</td>\n",
       "      <td>jovana</td>\n",
       "      <td>5.0</td>\n",
       "    </tr>\n",
       "    <tr>\n",
       "      <th>4</th>\n",
       "      <td>5</td>\n",
       "      <td>dragana</td>\n",
       "      <td>4.5</td>\n",
       "    </tr>\n",
       "  </tbody>\n",
       "</table>\n",
       "</div>"
      ],
      "text/plain": [
       "   rank     name  grade\n",
       "0     1    marko    4.3\n",
       "1     3   nikola    2.0\n",
       "2     4   jovana    5.0\n",
       "4     5  dragana    4.5"
      ]
     },
     "execution_count": 23,
     "metadata": {},
     "output_type": "execute_result"
    }
   ],
   "source": [
    "df_test5"
   ]
  },
  {
   "attachments": {},
   "cell_type": "markdown",
   "metadata": {},
   "source": [
    "As we said DataFrame is a data structure, somewhat similar to the tables you have seen in databases or even in Excel sheets. However, these are real objects in Python, and as objects have their attributes and methods. These objects contain certain state. Part of this state is the data these objects hold.\n",
    "\n",
    "Let's go and see how we can interact with DataFrames and Series and what information do these objects contain beside the data that we see."
   ]
  },
  {
   "attachments": {},
   "cell_type": "markdown",
   "metadata": {},
   "source": [
    "We can get detailed description of our DataFrame from the perspective of data types and memory used for storing it in memory."
   ]
  },
  {
   "cell_type": "code",
   "execution_count": 24,
   "metadata": {},
   "outputs": [
    {
     "name": "stdout",
     "output_type": "stream",
     "text": [
      "<class 'pandas.core.frame.DataFrame'>\n",
      "Index: 4 entries, 0 to 4\n",
      "Data columns (total 3 columns):\n",
      " #   Column  Non-Null Count  Dtype  \n",
      "---  ------  --------------  -----  \n",
      " 0   rank    4 non-null      int64  \n",
      " 1   name    4 non-null      object \n",
      " 2   grade   4 non-null      float64\n",
      "dtypes: float64(1), int64(1), object(1)\n",
      "memory usage: 128.0+ bytes\n"
     ]
    }
   ],
   "source": [
    "df_test5.info()"
   ]
  },
  {
   "attachments": {},
   "cell_type": "markdown",
   "metadata": {},
   "source": [
    "From this overview we can see:\n",
    "- number of rows (4),\n",
    "- number of columns (3),\n",
    "- names of columns,\n",
    "- data type for each column\n",
    "- memory usage for this data frame (kind of*).\n",
    "\n",
    "Kind of is just a note to know that this may not show real memory footprint, but we will not go into details about this on this course.\n",
    "\n",
    "Next, we can access parts of this overview in the following ways.\n",
    "\n",
    "How about we can dimensions of our DataFrame. When we say dimensions, you can view our table as a matrix, which it is, in essence, and then dimensions are number of rows and columns of that matrix."
   ]
  },
  {
   "cell_type": "code",
   "execution_count": 25,
   "metadata": {},
   "outputs": [
    {
     "data": {
      "text/plain": [
       "(4, 3)"
      ]
     },
     "execution_count": 25,
     "metadata": {},
     "output_type": "execute_result"
    }
   ],
   "source": [
    "df_test5.shape"
   ]
  },
  {
   "attachments": {},
   "cell_type": "markdown",
   "metadata": {},
   "source": [
    "Or get names of columns..."
   ]
  },
  {
   "cell_type": "code",
   "execution_count": 26,
   "metadata": {},
   "outputs": [
    {
     "data": {
      "text/plain": [
       "Index(['rank', 'name', 'grade'], dtype='object')"
      ]
     },
     "execution_count": 26,
     "metadata": {},
     "output_type": "execute_result"
    }
   ],
   "source": [
    "df_test5.columns"
   ]
  },
  {
   "attachments": {},
   "cell_type": "markdown",
   "metadata": {},
   "source": [
    "Disregard this `Index` object at this point. It is just another data structure and we can use it as the list.\n",
    "\n",
    "Example:"
   ]
  },
  {
   "cell_type": "code",
   "execution_count": 27,
   "metadata": {},
   "outputs": [
    {
     "data": {
      "text/plain": [
       "'rank'"
      ]
     },
     "execution_count": 27,
     "metadata": {},
     "output_type": "execute_result"
    }
   ],
   "source": [
    "df_test5.columns[0]"
   ]
  },
  {
   "attachments": {},
   "cell_type": "markdown",
   "metadata": {},
   "source": [
    "Then, we can get the indices for each row. Again, it's one subtype of `Index` class, but for integers now."
   ]
  },
  {
   "cell_type": "code",
   "execution_count": 28,
   "metadata": {},
   "outputs": [
    {
     "data": {
      "text/plain": [
       "Index([0, 1, 2, 4], dtype='int64')"
      ]
     },
     "execution_count": 28,
     "metadata": {},
     "output_type": "execute_result"
    }
   ],
   "source": [
    "df_test5.index"
   ]
  },
  {
   "attachments": {},
   "cell_type": "markdown",
   "metadata": {},
   "source": [
    "We can go and select specific columns like this:"
   ]
  },
  {
   "cell_type": "code",
   "execution_count": 29,
   "metadata": {},
   "outputs": [
    {
     "data": {
      "text/html": [
       "<div>\n",
       "<style scoped>\n",
       "    .dataframe tbody tr th:only-of-type {\n",
       "        vertical-align: middle;\n",
       "    }\n",
       "\n",
       "    .dataframe tbody tr th {\n",
       "        vertical-align: top;\n",
       "    }\n",
       "\n",
       "    .dataframe thead th {\n",
       "        text-align: right;\n",
       "    }\n",
       "</style>\n",
       "<table border=\"1\" class=\"dataframe\">\n",
       "  <thead>\n",
       "    <tr style=\"text-align: right;\">\n",
       "      <th></th>\n",
       "      <th>name</th>\n",
       "    </tr>\n",
       "  </thead>\n",
       "  <tbody>\n",
       "    <tr>\n",
       "      <th>0</th>\n",
       "      <td>marko</td>\n",
       "    </tr>\n",
       "    <tr>\n",
       "      <th>1</th>\n",
       "      <td>nikola</td>\n",
       "    </tr>\n",
       "    <tr>\n",
       "      <th>2</th>\n",
       "      <td>jovana</td>\n",
       "    </tr>\n",
       "    <tr>\n",
       "      <th>4</th>\n",
       "      <td>dragana</td>\n",
       "    </tr>\n",
       "  </tbody>\n",
       "</table>\n",
       "</div>"
      ],
      "text/plain": [
       "      name\n",
       "0    marko\n",
       "1   nikola\n",
       "2   jovana\n",
       "4  dragana"
      ]
     },
     "execution_count": 29,
     "metadata": {},
     "output_type": "execute_result"
    }
   ],
   "source": [
    "df_test5[['name']]"
   ]
  },
  {
   "cell_type": "code",
   "execution_count": 30,
   "metadata": {},
   "outputs": [
    {
     "data": {
      "text/html": [
       "<div>\n",
       "<style scoped>\n",
       "    .dataframe tbody tr th:only-of-type {\n",
       "        vertical-align: middle;\n",
       "    }\n",
       "\n",
       "    .dataframe tbody tr th {\n",
       "        vertical-align: top;\n",
       "    }\n",
       "\n",
       "    .dataframe thead th {\n",
       "        text-align: right;\n",
       "    }\n",
       "</style>\n",
       "<table border=\"1\" class=\"dataframe\">\n",
       "  <thead>\n",
       "    <tr style=\"text-align: right;\">\n",
       "      <th></th>\n",
       "      <th>name</th>\n",
       "      <th>rank</th>\n",
       "    </tr>\n",
       "  </thead>\n",
       "  <tbody>\n",
       "    <tr>\n",
       "      <th>0</th>\n",
       "      <td>marko</td>\n",
       "      <td>1</td>\n",
       "    </tr>\n",
       "    <tr>\n",
       "      <th>1</th>\n",
       "      <td>nikola</td>\n",
       "      <td>3</td>\n",
       "    </tr>\n",
       "    <tr>\n",
       "      <th>2</th>\n",
       "      <td>jovana</td>\n",
       "      <td>4</td>\n",
       "    </tr>\n",
       "    <tr>\n",
       "      <th>4</th>\n",
       "      <td>dragana</td>\n",
       "      <td>5</td>\n",
       "    </tr>\n",
       "  </tbody>\n",
       "</table>\n",
       "</div>"
      ],
      "text/plain": [
       "      name  rank\n",
       "0    marko     1\n",
       "1   nikola     3\n",
       "2   jovana     4\n",
       "4  dragana     5"
      ]
     },
     "execution_count": 30,
     "metadata": {},
     "output_type": "execute_result"
    }
   ],
   "source": [
    "df_test5[['name', 'rank']]"
   ]
  },
  {
   "cell_type": "code",
   "execution_count": 31,
   "metadata": {},
   "outputs": [
    {
     "data": {
      "text/plain": [
       "0      marko\n",
       "1     nikola\n",
       "2     jovana\n",
       "4    dragana\n",
       "Name: name, dtype: object"
      ]
     },
     "execution_count": 31,
     "metadata": {},
     "output_type": "execute_result"
    }
   ],
   "source": [
    "df_test5['name']"
   ]
  },
  {
   "attachments": {},
   "cell_type": "markdown",
   "metadata": {},
   "source": [
    "So, what is the difference with last example? Well, if you use `df_test5[['name']]` then you select that column but the result is DataFrame. \n",
    "\n",
    "On the other side, if you select column with `df_test5['name']` then you get the Pandas Series."
   ]
  },
  {
   "cell_type": "code",
   "execution_count": 32,
   "metadata": {},
   "outputs": [
    {
     "data": {
      "text/plain": [
       "pandas.core.series.Series"
      ]
     },
     "execution_count": 32,
     "metadata": {},
     "output_type": "execute_result"
    }
   ],
   "source": [
    "type(df_test5['name'])"
   ]
  },
  {
   "attachments": {},
   "cell_type": "markdown",
   "metadata": {},
   "source": [
    "Next, let's see how we can check th e data types of columns."
   ]
  },
  {
   "cell_type": "code",
   "execution_count": 33,
   "metadata": {},
   "outputs": [
    {
     "data": {
      "text/plain": [
       "rank       int64\n",
       "name      object\n",
       "grade    float64\n",
       "dtype: object"
      ]
     },
     "execution_count": 33,
     "metadata": {},
     "output_type": "execute_result"
    }
   ],
   "source": [
    "df_test5.dtypes"
   ]
  },
  {
   "attachments": {},
   "cell_type": "markdown",
   "metadata": {},
   "source": [
    "In real life you will have multiple columns of the same type, but different groups in general. Then, you will want to select specific data types. Here is how you do it:"
   ]
  },
  {
   "cell_type": "code",
   "execution_count": 34,
   "metadata": {},
   "outputs": [
    {
     "data": {
      "text/html": [
       "<div>\n",
       "<style scoped>\n",
       "    .dataframe tbody tr th:only-of-type {\n",
       "        vertical-align: middle;\n",
       "    }\n",
       "\n",
       "    .dataframe tbody tr th {\n",
       "        vertical-align: top;\n",
       "    }\n",
       "\n",
       "    .dataframe thead th {\n",
       "        text-align: right;\n",
       "    }\n",
       "</style>\n",
       "<table border=\"1\" class=\"dataframe\">\n",
       "  <thead>\n",
       "    <tr style=\"text-align: right;\">\n",
       "      <th></th>\n",
       "      <th>name</th>\n",
       "    </tr>\n",
       "  </thead>\n",
       "  <tbody>\n",
       "    <tr>\n",
       "      <th>0</th>\n",
       "      <td>marko</td>\n",
       "    </tr>\n",
       "    <tr>\n",
       "      <th>1</th>\n",
       "      <td>nikola</td>\n",
       "    </tr>\n",
       "    <tr>\n",
       "      <th>2</th>\n",
       "      <td>jovana</td>\n",
       "    </tr>\n",
       "    <tr>\n",
       "      <th>4</th>\n",
       "      <td>dragana</td>\n",
       "    </tr>\n",
       "  </tbody>\n",
       "</table>\n",
       "</div>"
      ],
      "text/plain": [
       "      name\n",
       "0    marko\n",
       "1   nikola\n",
       "2   jovana\n",
       "4  dragana"
      ]
     },
     "execution_count": 34,
     "metadata": {},
     "output_type": "execute_result"
    }
   ],
   "source": [
    "df_test5.select_dtypes(include='object')"
   ]
  },
  {
   "cell_type": "code",
   "execution_count": 35,
   "metadata": {},
   "outputs": [
    {
     "data": {
      "text/html": [
       "<div>\n",
       "<style scoped>\n",
       "    .dataframe tbody tr th:only-of-type {\n",
       "        vertical-align: middle;\n",
       "    }\n",
       "\n",
       "    .dataframe tbody tr th {\n",
       "        vertical-align: top;\n",
       "    }\n",
       "\n",
       "    .dataframe thead th {\n",
       "        text-align: right;\n",
       "    }\n",
       "</style>\n",
       "<table border=\"1\" class=\"dataframe\">\n",
       "  <thead>\n",
       "    <tr style=\"text-align: right;\">\n",
       "      <th></th>\n",
       "      <th>rank</th>\n",
       "      <th>grade</th>\n",
       "    </tr>\n",
       "  </thead>\n",
       "  <tbody>\n",
       "    <tr>\n",
       "      <th>0</th>\n",
       "      <td>1</td>\n",
       "      <td>4.3</td>\n",
       "    </tr>\n",
       "    <tr>\n",
       "      <th>1</th>\n",
       "      <td>3</td>\n",
       "      <td>2.0</td>\n",
       "    </tr>\n",
       "    <tr>\n",
       "      <th>2</th>\n",
       "      <td>4</td>\n",
       "      <td>5.0</td>\n",
       "    </tr>\n",
       "    <tr>\n",
       "      <th>4</th>\n",
       "      <td>5</td>\n",
       "      <td>4.5</td>\n",
       "    </tr>\n",
       "  </tbody>\n",
       "</table>\n",
       "</div>"
      ],
      "text/plain": [
       "   rank  grade\n",
       "0     1    4.3\n",
       "1     3    2.0\n",
       "2     4    5.0\n",
       "4     5    4.5"
      ]
     },
     "execution_count": 35,
     "metadata": {},
     "output_type": "execute_result"
    }
   ],
   "source": [
    "df_test5.select_dtypes(exclude='object')"
   ]
  },
  {
   "cell_type": "code",
   "execution_count": 36,
   "metadata": {},
   "outputs": [
    {
     "data": {
      "text/html": [
       "<div>\n",
       "<style scoped>\n",
       "    .dataframe tbody tr th:only-of-type {\n",
       "        vertical-align: middle;\n",
       "    }\n",
       "\n",
       "    .dataframe tbody tr th {\n",
       "        vertical-align: top;\n",
       "    }\n",
       "\n",
       "    .dataframe thead th {\n",
       "        text-align: right;\n",
       "    }\n",
       "</style>\n",
       "<table border=\"1\" class=\"dataframe\">\n",
       "  <thead>\n",
       "    <tr style=\"text-align: right;\">\n",
       "      <th></th>\n",
       "      <th>rank</th>\n",
       "    </tr>\n",
       "  </thead>\n",
       "  <tbody>\n",
       "    <tr>\n",
       "      <th>0</th>\n",
       "      <td>1</td>\n",
       "    </tr>\n",
       "    <tr>\n",
       "      <th>1</th>\n",
       "      <td>3</td>\n",
       "    </tr>\n",
       "    <tr>\n",
       "      <th>2</th>\n",
       "      <td>4</td>\n",
       "    </tr>\n",
       "    <tr>\n",
       "      <th>4</th>\n",
       "      <td>5</td>\n",
       "    </tr>\n",
       "  </tbody>\n",
       "</table>\n",
       "</div>"
      ],
      "text/plain": [
       "   rank\n",
       "0     1\n",
       "1     3\n",
       "2     4\n",
       "4     5"
      ]
     },
     "execution_count": 36,
     "metadata": {},
     "output_type": "execute_result"
    }
   ],
   "source": [
    "df_test5.select_dtypes(include='integer')"
   ]
  },
  {
   "attachments": {},
   "cell_type": "markdown",
   "metadata": {},
   "source": [
    "### Basic data manipulation"
   ]
  },
  {
   "attachments": {},
   "cell_type": "markdown",
   "metadata": {},
   "source": [
    "And what about selecting rows? \n",
    "\n",
    "In Pandas there are two most popular approaches in how you explicitly select rows. By using `log` and `iloc`.\n",
    "\n",
    "Let's try them out and then explain how each works.\n",
    "\n",
    "Remember, **indexing in Python starts at 0 and so does in Pandas**!!"
   ]
  },
  {
   "cell_type": "code",
   "execution_count": 37,
   "metadata": {},
   "outputs": [
    {
     "data": {
      "text/html": [
       "<div>\n",
       "<style scoped>\n",
       "    .dataframe tbody tr th:only-of-type {\n",
       "        vertical-align: middle;\n",
       "    }\n",
       "\n",
       "    .dataframe tbody tr th {\n",
       "        vertical-align: top;\n",
       "    }\n",
       "\n",
       "    .dataframe thead th {\n",
       "        text-align: right;\n",
       "    }\n",
       "</style>\n",
       "<table border=\"1\" class=\"dataframe\">\n",
       "  <thead>\n",
       "    <tr style=\"text-align: right;\">\n",
       "      <th></th>\n",
       "      <th>rank</th>\n",
       "      <th>name</th>\n",
       "      <th>grade</th>\n",
       "    </tr>\n",
       "  </thead>\n",
       "  <tbody>\n",
       "    <tr>\n",
       "      <th>0</th>\n",
       "      <td>1</td>\n",
       "      <td>marko</td>\n",
       "      <td>4.3</td>\n",
       "    </tr>\n",
       "    <tr>\n",
       "      <th>1</th>\n",
       "      <td>3</td>\n",
       "      <td>nikola</td>\n",
       "      <td>2.0</td>\n",
       "    </tr>\n",
       "    <tr>\n",
       "      <th>2</th>\n",
       "      <td>4</td>\n",
       "      <td>jovana</td>\n",
       "      <td>5.0</td>\n",
       "    </tr>\n",
       "    <tr>\n",
       "      <th>4</th>\n",
       "      <td>5</td>\n",
       "      <td>dragana</td>\n",
       "      <td>4.5</td>\n",
       "    </tr>\n",
       "  </tbody>\n",
       "</table>\n",
       "</div>"
      ],
      "text/plain": [
       "   rank     name  grade\n",
       "0     1    marko    4.3\n",
       "1     3   nikola    2.0\n",
       "2     4   jovana    5.0\n",
       "4     5  dragana    4.5"
      ]
     },
     "execution_count": 37,
     "metadata": {},
     "output_type": "execute_result"
    }
   ],
   "source": [
    "# refresher\n",
    "df_test5"
   ]
  },
  {
   "cell_type": "code",
   "execution_count": 38,
   "metadata": {},
   "outputs": [
    {
     "data": {
      "text/plain": [
       "rank         1\n",
       "name     marko\n",
       "grade      4.3\n",
       "Name: 0, dtype: object"
      ]
     },
     "execution_count": 38,
     "metadata": {},
     "output_type": "execute_result"
    }
   ],
   "source": [
    "df_test5.loc[0]"
   ]
  },
  {
   "cell_type": "code",
   "execution_count": 39,
   "metadata": {},
   "outputs": [
    {
     "data": {
      "text/plain": [
       "rank          4\n",
       "name     jovana\n",
       "grade       5.0\n",
       "Name: 2, dtype: object"
      ]
     },
     "execution_count": 39,
     "metadata": {},
     "output_type": "execute_result"
    }
   ],
   "source": [
    "df_test5.loc[2]"
   ]
  },
  {
   "cell_type": "code",
   "execution_count": 40,
   "metadata": {},
   "outputs": [],
   "source": [
    "# This wont work\n",
    "# df_test5.loc[3]"
   ]
  },
  {
   "attachments": {},
   "cell_type": "markdown",
   "metadata": {},
   "source": [
    "Oops. What happened here? Well, the way `loc` works is complex. For now keep in mind that it will look at row index values. If there is no row with value 3, it will throw an error like in the previous example. So you have to make sure that your row index value exists if you want to query it using `loc`. "
   ]
  },
  {
   "cell_type": "code",
   "execution_count": 41,
   "metadata": {
    "notebookRunGroups": {
     "groupValue": ""
    }
   },
   "outputs": [
    {
     "data": {
      "text/plain": [
       "rank           5\n",
       "name     dragana\n",
       "grade        4.5\n",
       "Name: 4, dtype: object"
      ]
     },
     "execution_count": 41,
     "metadata": {},
     "output_type": "execute_result"
    }
   ],
   "source": [
    "df_test5.loc[4]"
   ]
  },
  {
   "attachments": {},
   "cell_type": "markdown",
   "metadata": {},
   "source": [
    "This makes sense having in mind previous explanation.\n",
    "\n",
    "But what if you want to select multiple rows, in a range of values."
   ]
  },
  {
   "cell_type": "code",
   "execution_count": 42,
   "metadata": {},
   "outputs": [
    {
     "data": {
      "text/html": [
       "<div>\n",
       "<style scoped>\n",
       "    .dataframe tbody tr th:only-of-type {\n",
       "        vertical-align: middle;\n",
       "    }\n",
       "\n",
       "    .dataframe tbody tr th {\n",
       "        vertical-align: top;\n",
       "    }\n",
       "\n",
       "    .dataframe thead th {\n",
       "        text-align: right;\n",
       "    }\n",
       "</style>\n",
       "<table border=\"1\" class=\"dataframe\">\n",
       "  <thead>\n",
       "    <tr style=\"text-align: right;\">\n",
       "      <th></th>\n",
       "      <th>rank</th>\n",
       "      <th>name</th>\n",
       "      <th>grade</th>\n",
       "    </tr>\n",
       "  </thead>\n",
       "  <tbody>\n",
       "    <tr>\n",
       "      <th>2</th>\n",
       "      <td>4</td>\n",
       "      <td>jovana</td>\n",
       "      <td>5.0</td>\n",
       "    </tr>\n",
       "    <tr>\n",
       "      <th>4</th>\n",
       "      <td>5</td>\n",
       "      <td>dragana</td>\n",
       "      <td>4.5</td>\n",
       "    </tr>\n",
       "  </tbody>\n",
       "</table>\n",
       "</div>"
      ],
      "text/plain": [
       "   rank     name  grade\n",
       "2     4   jovana    5.0\n",
       "4     5  dragana    4.5"
      ]
     },
     "execution_count": 42,
     "metadata": {},
     "output_type": "execute_result"
    }
   ],
   "source": [
    "df_test5.loc[2: 4]"
   ]
  },
  {
   "attachments": {},
   "cell_type": "markdown",
   "metadata": {},
   "source": [
    "Again, this is Python and this works in Pythonic way.\n",
    "\n",
    "How about `iloc`? Well, `iloc` works by getting the positional index of the row. It disregards the values in indices. This means that our DataFrame can be queried in next way:"
   ]
  },
  {
   "cell_type": "code",
   "execution_count": 43,
   "metadata": {},
   "outputs": [
    {
     "data": {
      "text/html": [
       "<div>\n",
       "<style scoped>\n",
       "    .dataframe tbody tr th:only-of-type {\n",
       "        vertical-align: middle;\n",
       "    }\n",
       "\n",
       "    .dataframe tbody tr th {\n",
       "        vertical-align: top;\n",
       "    }\n",
       "\n",
       "    .dataframe thead th {\n",
       "        text-align: right;\n",
       "    }\n",
       "</style>\n",
       "<table border=\"1\" class=\"dataframe\">\n",
       "  <thead>\n",
       "    <tr style=\"text-align: right;\">\n",
       "      <th></th>\n",
       "      <th>rank</th>\n",
       "      <th>name</th>\n",
       "      <th>grade</th>\n",
       "    </tr>\n",
       "  </thead>\n",
       "  <tbody>\n",
       "    <tr>\n",
       "      <th>0</th>\n",
       "      <td>1</td>\n",
       "      <td>marko</td>\n",
       "      <td>4.3</td>\n",
       "    </tr>\n",
       "    <tr>\n",
       "      <th>1</th>\n",
       "      <td>3</td>\n",
       "      <td>nikola</td>\n",
       "      <td>2.0</td>\n",
       "    </tr>\n",
       "    <tr>\n",
       "      <th>2</th>\n",
       "      <td>4</td>\n",
       "      <td>jovana</td>\n",
       "      <td>5.0</td>\n",
       "    </tr>\n",
       "    <tr>\n",
       "      <th>4</th>\n",
       "      <td>5</td>\n",
       "      <td>dragana</td>\n",
       "      <td>4.5</td>\n",
       "    </tr>\n",
       "  </tbody>\n",
       "</table>\n",
       "</div>"
      ],
      "text/plain": [
       "   rank     name  grade\n",
       "0     1    marko    4.3\n",
       "1     3   nikola    2.0\n",
       "2     4   jovana    5.0\n",
       "4     5  dragana    4.5"
      ]
     },
     "execution_count": 43,
     "metadata": {},
     "output_type": "execute_result"
    }
   ],
   "source": [
    "# refresher\n",
    "df_test5"
   ]
  },
  {
   "cell_type": "code",
   "execution_count": 44,
   "metadata": {},
   "outputs": [
    {
     "data": {
      "text/plain": [
       "rank         1\n",
       "name     marko\n",
       "grade      4.3\n",
       "Name: 0, dtype: object"
      ]
     },
     "execution_count": 44,
     "metadata": {},
     "output_type": "execute_result"
    }
   ],
   "source": [
    "df_test5.iloc[0]"
   ]
  },
  {
   "cell_type": "code",
   "execution_count": 45,
   "metadata": {},
   "outputs": [
    {
     "data": {
      "text/plain": [
       "rank           5\n",
       "name     dragana\n",
       "grade        4.5\n",
       "Name: 4, dtype: object"
      ]
     },
     "execution_count": 45,
     "metadata": {},
     "output_type": "execute_result"
    }
   ],
   "source": [
    "df_test5.iloc[3]"
   ]
  },
  {
   "attachments": {},
   "cell_type": "markdown",
   "metadata": {},
   "source": [
    "Or you can do it specifying the range of values, just like you would do with Python lists."
   ]
  },
  {
   "cell_type": "code",
   "execution_count": 46,
   "metadata": {},
   "outputs": [
    {
     "data": {
      "text/html": [
       "<div>\n",
       "<style scoped>\n",
       "    .dataframe tbody tr th:only-of-type {\n",
       "        vertical-align: middle;\n",
       "    }\n",
       "\n",
       "    .dataframe tbody tr th {\n",
       "        vertical-align: top;\n",
       "    }\n",
       "\n",
       "    .dataframe thead th {\n",
       "        text-align: right;\n",
       "    }\n",
       "</style>\n",
       "<table border=\"1\" class=\"dataframe\">\n",
       "  <thead>\n",
       "    <tr style=\"text-align: right;\">\n",
       "      <th></th>\n",
       "      <th>rank</th>\n",
       "      <th>name</th>\n",
       "      <th>grade</th>\n",
       "    </tr>\n",
       "  </thead>\n",
       "  <tbody>\n",
       "    <tr>\n",
       "      <th>0</th>\n",
       "      <td>1</td>\n",
       "      <td>marko</td>\n",
       "      <td>4.3</td>\n",
       "    </tr>\n",
       "    <tr>\n",
       "      <th>1</th>\n",
       "      <td>3</td>\n",
       "      <td>nikola</td>\n",
       "      <td>2.0</td>\n",
       "    </tr>\n",
       "  </tbody>\n",
       "</table>\n",
       "</div>"
      ],
      "text/plain": [
       "   rank    name  grade\n",
       "0     1   marko    4.3\n",
       "1     3  nikola    2.0"
      ]
     },
     "execution_count": 46,
     "metadata": {},
     "output_type": "execute_result"
    }
   ],
   "source": [
    "df_test5.iloc[0: 2]"
   ]
  },
  {
   "attachments": {},
   "cell_type": "markdown",
   "metadata": {},
   "source": [
    "And now, how about we use `loc` and `iloc` to subset our DataFrame along the rows and columns axes."
   ]
  },
  {
   "cell_type": "code",
   "execution_count": 47,
   "metadata": {},
   "outputs": [
    {
     "data": {
      "text/html": [
       "<div>\n",
       "<style scoped>\n",
       "    .dataframe tbody tr th:only-of-type {\n",
       "        vertical-align: middle;\n",
       "    }\n",
       "\n",
       "    .dataframe tbody tr th {\n",
       "        vertical-align: top;\n",
       "    }\n",
       "\n",
       "    .dataframe thead th {\n",
       "        text-align: right;\n",
       "    }\n",
       "</style>\n",
       "<table border=\"1\" class=\"dataframe\">\n",
       "  <thead>\n",
       "    <tr style=\"text-align: right;\">\n",
       "      <th></th>\n",
       "      <th>rank</th>\n",
       "      <th>name</th>\n",
       "      <th>grade</th>\n",
       "    </tr>\n",
       "  </thead>\n",
       "  <tbody>\n",
       "    <tr>\n",
       "      <th>0</th>\n",
       "      <td>1</td>\n",
       "      <td>marko</td>\n",
       "      <td>4.3</td>\n",
       "    </tr>\n",
       "    <tr>\n",
       "      <th>1</th>\n",
       "      <td>3</td>\n",
       "      <td>nikola</td>\n",
       "      <td>2.0</td>\n",
       "    </tr>\n",
       "    <tr>\n",
       "      <th>2</th>\n",
       "      <td>4</td>\n",
       "      <td>jovana</td>\n",
       "      <td>5.0</td>\n",
       "    </tr>\n",
       "    <tr>\n",
       "      <th>4</th>\n",
       "      <td>5</td>\n",
       "      <td>dragana</td>\n",
       "      <td>4.5</td>\n",
       "    </tr>\n",
       "  </tbody>\n",
       "</table>\n",
       "</div>"
      ],
      "text/plain": [
       "   rank     name  grade\n",
       "0     1    marko    4.3\n",
       "1     3   nikola    2.0\n",
       "2     4   jovana    5.0\n",
       "4     5  dragana    4.5"
      ]
     },
     "execution_count": 47,
     "metadata": {},
     "output_type": "execute_result"
    }
   ],
   "source": [
    "# refresher\n",
    "df_test5"
   ]
  },
  {
   "cell_type": "code",
   "execution_count": 48,
   "metadata": {},
   "outputs": [
    {
     "data": {
      "text/html": [
       "<div>\n",
       "<style scoped>\n",
       "    .dataframe tbody tr th:only-of-type {\n",
       "        vertical-align: middle;\n",
       "    }\n",
       "\n",
       "    .dataframe tbody tr th {\n",
       "        vertical-align: top;\n",
       "    }\n",
       "\n",
       "    .dataframe thead th {\n",
       "        text-align: right;\n",
       "    }\n",
       "</style>\n",
       "<table border=\"1\" class=\"dataframe\">\n",
       "  <thead>\n",
       "    <tr style=\"text-align: right;\">\n",
       "      <th></th>\n",
       "      <th>name</th>\n",
       "      <th>grade</th>\n",
       "    </tr>\n",
       "  </thead>\n",
       "  <tbody>\n",
       "    <tr>\n",
       "      <th>0</th>\n",
       "      <td>marko</td>\n",
       "      <td>4.3</td>\n",
       "    </tr>\n",
       "    <tr>\n",
       "      <th>4</th>\n",
       "      <td>dragana</td>\n",
       "      <td>4.5</td>\n",
       "    </tr>\n",
       "  </tbody>\n",
       "</table>\n",
       "</div>"
      ],
      "text/plain": [
       "      name  grade\n",
       "0    marko    4.3\n",
       "4  dragana    4.5"
      ]
     },
     "execution_count": 48,
     "metadata": {},
     "output_type": "execute_result"
    }
   ],
   "source": [
    "df_test5.loc[[0, 4], ['name', 'grade']]"
   ]
  },
  {
   "attachments": {},
   "cell_type": "markdown",
   "metadata": {},
   "source": [
    "Hmm, we have used another way of selecting rows. Good. Now you know another alternative.\n",
    "\n",
    "Important thing to note here is what happens in `df_test5.loc[ ... , ...]` part:\n",
    "- First `...` is oriented toward rows in data frame and selecting them. \n",
    "- Second `...` is oriented toward columns and selecting them. This works the same way with `iloc`.\n",
    "\n",
    "One thing to remember is that `loc` slices based on labels. Labels of row index values and labels (names) of columns.\n",
    "\n",
    "`iloc` on the other side uses just positional index values."
   ]
  },
  {
   "cell_type": "code",
   "execution_count": 49,
   "metadata": {},
   "outputs": [
    {
     "data": {
      "text/html": [
       "<div>\n",
       "<style scoped>\n",
       "    .dataframe tbody tr th:only-of-type {\n",
       "        vertical-align: middle;\n",
       "    }\n",
       "\n",
       "    .dataframe tbody tr th {\n",
       "        vertical-align: top;\n",
       "    }\n",
       "\n",
       "    .dataframe thead th {\n",
       "        text-align: right;\n",
       "    }\n",
       "</style>\n",
       "<table border=\"1\" class=\"dataframe\">\n",
       "  <thead>\n",
       "    <tr style=\"text-align: right;\">\n",
       "      <th></th>\n",
       "      <th>rank</th>\n",
       "      <th>name</th>\n",
       "      <th>grade</th>\n",
       "    </tr>\n",
       "  </thead>\n",
       "  <tbody>\n",
       "    <tr>\n",
       "      <th>0</th>\n",
       "      <td>1</td>\n",
       "      <td>marko</td>\n",
       "      <td>4.3</td>\n",
       "    </tr>\n",
       "    <tr>\n",
       "      <th>1</th>\n",
       "      <td>3</td>\n",
       "      <td>nikola</td>\n",
       "      <td>2.0</td>\n",
       "    </tr>\n",
       "    <tr>\n",
       "      <th>2</th>\n",
       "      <td>4</td>\n",
       "      <td>jovana</td>\n",
       "      <td>5.0</td>\n",
       "    </tr>\n",
       "    <tr>\n",
       "      <th>4</th>\n",
       "      <td>5</td>\n",
       "      <td>dragana</td>\n",
       "      <td>4.5</td>\n",
       "    </tr>\n",
       "  </tbody>\n",
       "</table>\n",
       "</div>"
      ],
      "text/plain": [
       "   rank     name  grade\n",
       "0     1    marko    4.3\n",
       "1     3   nikola    2.0\n",
       "2     4   jovana    5.0\n",
       "4     5  dragana    4.5"
      ]
     },
     "execution_count": 49,
     "metadata": {},
     "output_type": "execute_result"
    }
   ],
   "source": [
    "# refresher\n",
    "df_test5"
   ]
  },
  {
   "cell_type": "code",
   "execution_count": 50,
   "metadata": {},
   "outputs": [
    {
     "data": {
      "text/html": [
       "<div>\n",
       "<style scoped>\n",
       "    .dataframe tbody tr th:only-of-type {\n",
       "        vertical-align: middle;\n",
       "    }\n",
       "\n",
       "    .dataframe tbody tr th {\n",
       "        vertical-align: top;\n",
       "    }\n",
       "\n",
       "    .dataframe thead th {\n",
       "        text-align: right;\n",
       "    }\n",
       "</style>\n",
       "<table border=\"1\" class=\"dataframe\">\n",
       "  <thead>\n",
       "    <tr style=\"text-align: right;\">\n",
       "      <th></th>\n",
       "      <th>rank</th>\n",
       "    </tr>\n",
       "  </thead>\n",
       "  <tbody>\n",
       "    <tr>\n",
       "      <th>0</th>\n",
       "      <td>1</td>\n",
       "    </tr>\n",
       "    <tr>\n",
       "      <th>2</th>\n",
       "      <td>4</td>\n",
       "    </tr>\n",
       "    <tr>\n",
       "      <th>4</th>\n",
       "      <td>5</td>\n",
       "    </tr>\n",
       "  </tbody>\n",
       "</table>\n",
       "</div>"
      ],
      "text/plain": [
       "   rank\n",
       "0     1\n",
       "2     4\n",
       "4     5"
      ]
     },
     "execution_count": 50,
     "metadata": {},
     "output_type": "execute_result"
    }
   ],
   "source": [
    "df_test5.iloc[[0, 2, 3], [0]]"
   ]
  },
  {
   "cell_type": "code",
   "execution_count": 51,
   "metadata": {},
   "outputs": [
    {
     "data": {
      "text/html": [
       "<div>\n",
       "<style scoped>\n",
       "    .dataframe tbody tr th:only-of-type {\n",
       "        vertical-align: middle;\n",
       "    }\n",
       "\n",
       "    .dataframe tbody tr th {\n",
       "        vertical-align: top;\n",
       "    }\n",
       "\n",
       "    .dataframe thead th {\n",
       "        text-align: right;\n",
       "    }\n",
       "</style>\n",
       "<table border=\"1\" class=\"dataframe\">\n",
       "  <thead>\n",
       "    <tr style=\"text-align: right;\">\n",
       "      <th></th>\n",
       "      <th>name</th>\n",
       "      <th>grade</th>\n",
       "    </tr>\n",
       "  </thead>\n",
       "  <tbody>\n",
       "    <tr>\n",
       "      <th>1</th>\n",
       "      <td>nikola</td>\n",
       "      <td>2.0</td>\n",
       "    </tr>\n",
       "    <tr>\n",
       "      <th>4</th>\n",
       "      <td>dragana</td>\n",
       "      <td>4.5</td>\n",
       "    </tr>\n",
       "  </tbody>\n",
       "</table>\n",
       "</div>"
      ],
      "text/plain": [
       "      name  grade\n",
       "1   nikola    2.0\n",
       "4  dragana    4.5"
      ]
     },
     "execution_count": 51,
     "metadata": {},
     "output_type": "execute_result"
    }
   ],
   "source": [
    "df_test5.iloc[[1, 3], [1, 2]]"
   ]
  },
  {
   "attachments": {},
   "cell_type": "markdown",
   "metadata": {},
   "source": [
    "This difference between `iloc` and `loc` will be a lot clearer now. We will introduce one interesting way of altering your tabular data. Namely, changing the index."
   ]
  },
  {
   "cell_type": "code",
   "execution_count": 52,
   "metadata": {},
   "outputs": [
    {
     "data": {
      "text/plain": [
       "Index([0, 1, 2, 4], dtype='int64')"
      ]
     },
     "execution_count": 52,
     "metadata": {},
     "output_type": "execute_result"
    }
   ],
   "source": [
    "df_test5.index"
   ]
  },
  {
   "cell_type": "code",
   "execution_count": 53,
   "metadata": {},
   "outputs": [
    {
     "data": {
      "text/html": [
       "<div>\n",
       "<style scoped>\n",
       "    .dataframe tbody tr th:only-of-type {\n",
       "        vertical-align: middle;\n",
       "    }\n",
       "\n",
       "    .dataframe tbody tr th {\n",
       "        vertical-align: top;\n",
       "    }\n",
       "\n",
       "    .dataframe thead th {\n",
       "        text-align: right;\n",
       "    }\n",
       "</style>\n",
       "<table border=\"1\" class=\"dataframe\">\n",
       "  <thead>\n",
       "    <tr style=\"text-align: right;\">\n",
       "      <th></th>\n",
       "      <th>rank</th>\n",
       "      <th>grade</th>\n",
       "    </tr>\n",
       "    <tr>\n",
       "      <th>name</th>\n",
       "      <th></th>\n",
       "      <th></th>\n",
       "    </tr>\n",
       "  </thead>\n",
       "  <tbody>\n",
       "    <tr>\n",
       "      <th>marko</th>\n",
       "      <td>1</td>\n",
       "      <td>4.3</td>\n",
       "    </tr>\n",
       "    <tr>\n",
       "      <th>nikola</th>\n",
       "      <td>3</td>\n",
       "      <td>2.0</td>\n",
       "    </tr>\n",
       "    <tr>\n",
       "      <th>jovana</th>\n",
       "      <td>4</td>\n",
       "      <td>5.0</td>\n",
       "    </tr>\n",
       "    <tr>\n",
       "      <th>dragana</th>\n",
       "      <td>5</td>\n",
       "      <td>4.5</td>\n",
       "    </tr>\n",
       "  </tbody>\n",
       "</table>\n",
       "</div>"
      ],
      "text/plain": [
       "         rank  grade\n",
       "name                \n",
       "marko       1    4.3\n",
       "nikola      3    2.0\n",
       "jovana      4    5.0\n",
       "dragana     5    4.5"
      ]
     },
     "execution_count": 53,
     "metadata": {},
     "output_type": "execute_result"
    }
   ],
   "source": [
    "df_test6 = df_test5.set_index('name')\n",
    "\n",
    "df_test6"
   ]
  },
  {
   "attachments": {},
   "cell_type": "markdown",
   "metadata": {},
   "source": [
    "How do we go about using `loc` and `iloc` now?"
   ]
  },
  {
   "cell_type": "code",
   "execution_count": 54,
   "metadata": {},
   "outputs": [
    {
     "data": {
      "text/plain": [
       "rank     1.0\n",
       "grade    4.3\n",
       "Name: marko, dtype: float64"
      ]
     },
     "execution_count": 54,
     "metadata": {},
     "output_type": "execute_result"
    }
   ],
   "source": [
    "df_test6.loc['marko']"
   ]
  },
  {
   "cell_type": "code",
   "execution_count": 55,
   "metadata": {},
   "outputs": [
    {
     "data": {
      "text/html": [
       "<div>\n",
       "<style scoped>\n",
       "    .dataframe tbody tr th:only-of-type {\n",
       "        vertical-align: middle;\n",
       "    }\n",
       "\n",
       "    .dataframe tbody tr th {\n",
       "        vertical-align: top;\n",
       "    }\n",
       "\n",
       "    .dataframe thead th {\n",
       "        text-align: right;\n",
       "    }\n",
       "</style>\n",
       "<table border=\"1\" class=\"dataframe\">\n",
       "  <thead>\n",
       "    <tr style=\"text-align: right;\">\n",
       "      <th></th>\n",
       "      <th>rank</th>\n",
       "      <th>grade</th>\n",
       "    </tr>\n",
       "    <tr>\n",
       "      <th>name</th>\n",
       "      <th></th>\n",
       "      <th></th>\n",
       "    </tr>\n",
       "  </thead>\n",
       "  <tbody>\n",
       "    <tr>\n",
       "      <th>marko</th>\n",
       "      <td>1</td>\n",
       "      <td>4.3</td>\n",
       "    </tr>\n",
       "  </tbody>\n",
       "</table>\n",
       "</div>"
      ],
      "text/plain": [
       "       rank  grade\n",
       "name              \n",
       "marko     1    4.3"
      ]
     },
     "execution_count": 55,
     "metadata": {},
     "output_type": "execute_result"
    }
   ],
   "source": [
    "df_test6.loc[['marko']]"
   ]
  },
  {
   "cell_type": "code",
   "execution_count": 56,
   "metadata": {},
   "outputs": [
    {
     "data": {
      "text/html": [
       "<div>\n",
       "<style scoped>\n",
       "    .dataframe tbody tr th:only-of-type {\n",
       "        vertical-align: middle;\n",
       "    }\n",
       "\n",
       "    .dataframe tbody tr th {\n",
       "        vertical-align: top;\n",
       "    }\n",
       "\n",
       "    .dataframe thead th {\n",
       "        text-align: right;\n",
       "    }\n",
       "</style>\n",
       "<table border=\"1\" class=\"dataframe\">\n",
       "  <thead>\n",
       "    <tr style=\"text-align: right;\">\n",
       "      <th></th>\n",
       "      <th>rank</th>\n",
       "      <th>grade</th>\n",
       "    </tr>\n",
       "    <tr>\n",
       "      <th>name</th>\n",
       "      <th></th>\n",
       "      <th></th>\n",
       "    </tr>\n",
       "  </thead>\n",
       "  <tbody>\n",
       "    <tr>\n",
       "      <th>marko</th>\n",
       "      <td>1</td>\n",
       "      <td>4.3</td>\n",
       "    </tr>\n",
       "    <tr>\n",
       "      <th>jovana</th>\n",
       "      <td>4</td>\n",
       "      <td>5.0</td>\n",
       "    </tr>\n",
       "  </tbody>\n",
       "</table>\n",
       "</div>"
      ],
      "text/plain": [
       "        rank  grade\n",
       "name               \n",
       "marko      1    4.3\n",
       "jovana     4    5.0"
      ]
     },
     "execution_count": 56,
     "metadata": {},
     "output_type": "execute_result"
    }
   ],
   "source": [
    "df_test6.loc[['marko', 'jovana']]"
   ]
  },
  {
   "cell_type": "code",
   "execution_count": 57,
   "metadata": {},
   "outputs": [
    {
     "data": {
      "text/html": [
       "<div>\n",
       "<style scoped>\n",
       "    .dataframe tbody tr th:only-of-type {\n",
       "        vertical-align: middle;\n",
       "    }\n",
       "\n",
       "    .dataframe tbody tr th {\n",
       "        vertical-align: top;\n",
       "    }\n",
       "\n",
       "    .dataframe thead th {\n",
       "        text-align: right;\n",
       "    }\n",
       "</style>\n",
       "<table border=\"1\" class=\"dataframe\">\n",
       "  <thead>\n",
       "    <tr style=\"text-align: right;\">\n",
       "      <th></th>\n",
       "      <th>grade</th>\n",
       "    </tr>\n",
       "    <tr>\n",
       "      <th>name</th>\n",
       "      <th></th>\n",
       "    </tr>\n",
       "  </thead>\n",
       "  <tbody>\n",
       "    <tr>\n",
       "      <th>marko</th>\n",
       "      <td>4.3</td>\n",
       "    </tr>\n",
       "    <tr>\n",
       "      <th>jovana</th>\n",
       "      <td>5.0</td>\n",
       "    </tr>\n",
       "  </tbody>\n",
       "</table>\n",
       "</div>"
      ],
      "text/plain": [
       "        grade\n",
       "name         \n",
       "marko     4.3\n",
       "jovana    5.0"
      ]
     },
     "execution_count": 57,
     "metadata": {},
     "output_type": "execute_result"
    }
   ],
   "source": [
    "df_test6.loc[['marko', 'jovana'], ['grade']]"
   ]
  },
  {
   "attachments": {},
   "cell_type": "markdown",
   "metadata": {},
   "source": [
    "And what about `iloc`?"
   ]
  },
  {
   "cell_type": "code",
   "execution_count": 58,
   "metadata": {},
   "outputs": [
    {
     "data": {
      "text/html": [
       "<div>\n",
       "<style scoped>\n",
       "    .dataframe tbody tr th:only-of-type {\n",
       "        vertical-align: middle;\n",
       "    }\n",
       "\n",
       "    .dataframe tbody tr th {\n",
       "        vertical-align: top;\n",
       "    }\n",
       "\n",
       "    .dataframe thead th {\n",
       "        text-align: right;\n",
       "    }\n",
       "</style>\n",
       "<table border=\"1\" class=\"dataframe\">\n",
       "  <thead>\n",
       "    <tr style=\"text-align: right;\">\n",
       "      <th></th>\n",
       "      <th>rank</th>\n",
       "      <th>grade</th>\n",
       "    </tr>\n",
       "    <tr>\n",
       "      <th>name</th>\n",
       "      <th></th>\n",
       "      <th></th>\n",
       "    </tr>\n",
       "  </thead>\n",
       "  <tbody>\n",
       "    <tr>\n",
       "      <th>marko</th>\n",
       "      <td>1</td>\n",
       "      <td>4.3</td>\n",
       "    </tr>\n",
       "    <tr>\n",
       "      <th>nikola</th>\n",
       "      <td>3</td>\n",
       "      <td>2.0</td>\n",
       "    </tr>\n",
       "    <tr>\n",
       "      <th>jovana</th>\n",
       "      <td>4</td>\n",
       "      <td>5.0</td>\n",
       "    </tr>\n",
       "    <tr>\n",
       "      <th>dragana</th>\n",
       "      <td>5</td>\n",
       "      <td>4.5</td>\n",
       "    </tr>\n",
       "  </tbody>\n",
       "</table>\n",
       "</div>"
      ],
      "text/plain": [
       "         rank  grade\n",
       "name                \n",
       "marko       1    4.3\n",
       "nikola      3    2.0\n",
       "jovana      4    5.0\n",
       "dragana     5    4.5"
      ]
     },
     "execution_count": 58,
     "metadata": {},
     "output_type": "execute_result"
    }
   ],
   "source": [
    "#refresher\n",
    "df_test6"
   ]
  },
  {
   "cell_type": "code",
   "execution_count": 59,
   "metadata": {},
   "outputs": [
    {
     "data": {
      "text/html": [
       "<div>\n",
       "<style scoped>\n",
       "    .dataframe tbody tr th:only-of-type {\n",
       "        vertical-align: middle;\n",
       "    }\n",
       "\n",
       "    .dataframe tbody tr th {\n",
       "        vertical-align: top;\n",
       "    }\n",
       "\n",
       "    .dataframe thead th {\n",
       "        text-align: right;\n",
       "    }\n",
       "</style>\n",
       "<table border=\"1\" class=\"dataframe\">\n",
       "  <thead>\n",
       "    <tr style=\"text-align: right;\">\n",
       "      <th></th>\n",
       "      <th>rank</th>\n",
       "      <th>grade</th>\n",
       "    </tr>\n",
       "    <tr>\n",
       "      <th>name</th>\n",
       "      <th></th>\n",
       "      <th></th>\n",
       "    </tr>\n",
       "  </thead>\n",
       "  <tbody>\n",
       "    <tr>\n",
       "      <th>marko</th>\n",
       "      <td>1</td>\n",
       "      <td>4.3</td>\n",
       "    </tr>\n",
       "    <tr>\n",
       "      <th>jovana</th>\n",
       "      <td>4</td>\n",
       "      <td>5.0</td>\n",
       "    </tr>\n",
       "  </tbody>\n",
       "</table>\n",
       "</div>"
      ],
      "text/plain": [
       "        rank  grade\n",
       "name               \n",
       "marko      1    4.3\n",
       "jovana     4    5.0"
      ]
     },
     "execution_count": 59,
     "metadata": {},
     "output_type": "execute_result"
    }
   ],
   "source": [
    "df_test6.iloc[[0, 2]]"
   ]
  },
  {
   "attachments": {},
   "cell_type": "markdown",
   "metadata": {},
   "source": [
    "It should be a lot clearer now.\n",
    "\n",
    "Alright. Before we go further, we want to show you another way you can select your rows. It is called filtering and is based on logical condition.\n",
    "\n",
    "A quick refresher on logical conditions. You write them when you writhe `if elif else` blocks of code. You you use them for `while` loops. You can use them for list and dictionary comprehensions. \n",
    "\n",
    "Examples:\n",
    "- `a == 5`\n",
    "- `b <= 10`\n",
    "- `c < 3 or c > 10`\n",
    "- `d == 'start'`, etc.\n",
    "\n",
    "How we can use them with DataFrame and Series? Well, when you use `loc` you can specify these conditions for selecting specific rows or columns."
   ]
  },
  {
   "cell_type": "code",
   "execution_count": 60,
   "metadata": {},
   "outputs": [
    {
     "data": {
      "text/html": [
       "<div>\n",
       "<style scoped>\n",
       "    .dataframe tbody tr th:only-of-type {\n",
       "        vertical-align: middle;\n",
       "    }\n",
       "\n",
       "    .dataframe tbody tr th {\n",
       "        vertical-align: top;\n",
       "    }\n",
       "\n",
       "    .dataframe thead th {\n",
       "        text-align: right;\n",
       "    }\n",
       "</style>\n",
       "<table border=\"1\" class=\"dataframe\">\n",
       "  <thead>\n",
       "    <tr style=\"text-align: right;\">\n",
       "      <th></th>\n",
       "      <th>rank</th>\n",
       "      <th>name</th>\n",
       "      <th>grade</th>\n",
       "    </tr>\n",
       "  </thead>\n",
       "  <tbody>\n",
       "    <tr>\n",
       "      <th>0</th>\n",
       "      <td>1</td>\n",
       "      <td>marko</td>\n",
       "      <td>4.3</td>\n",
       "    </tr>\n",
       "    <tr>\n",
       "      <th>1</th>\n",
       "      <td>3</td>\n",
       "      <td>nikola</td>\n",
       "      <td>2.0</td>\n",
       "    </tr>\n",
       "    <tr>\n",
       "      <th>2</th>\n",
       "      <td>4</td>\n",
       "      <td>jovana</td>\n",
       "      <td>5.0</td>\n",
       "    </tr>\n",
       "    <tr>\n",
       "      <th>4</th>\n",
       "      <td>5</td>\n",
       "      <td>dragana</td>\n",
       "      <td>4.5</td>\n",
       "    </tr>\n",
       "  </tbody>\n",
       "</table>\n",
       "</div>"
      ],
      "text/plain": [
       "   rank     name  grade\n",
       "0     1    marko    4.3\n",
       "1     3   nikola    2.0\n",
       "2     4   jovana    5.0\n",
       "4     5  dragana    4.5"
      ]
     },
     "execution_count": 60,
     "metadata": {},
     "output_type": "execute_result"
    }
   ],
   "source": [
    "#refresher\n",
    "df_test5"
   ]
  },
  {
   "attachments": {},
   "cell_type": "markdown",
   "metadata": {},
   "source": [
    "Let's write one logical condition:"
   ]
  },
  {
   "cell_type": "code",
   "execution_count": 61,
   "metadata": {},
   "outputs": [
    {
     "data": {
      "text/plain": [
       "0    False\n",
       "1     True\n",
       "2     True\n",
       "4     True\n",
       "Name: rank, dtype: bool"
      ]
     },
     "execution_count": 61,
     "metadata": {},
     "output_type": "execute_result"
    }
   ],
   "source": [
    "df_test5['rank'] > 2"
   ]
  },
  {
   "attachments": {},
   "cell_type": "markdown",
   "metadata": {},
   "source": [
    "This condition returns Pandas Series, albeit one of boolean values. Each value reprents logical condition evaluated on each row.\n",
    "\n",
    "And now when we use this boolean Series, Pandas knows which row to select and return; the one where value was `True`."
   ]
  },
  {
   "cell_type": "code",
   "execution_count": 62,
   "metadata": {},
   "outputs": [
    {
     "data": {
      "text/html": [
       "<div>\n",
       "<style scoped>\n",
       "    .dataframe tbody tr th:only-of-type {\n",
       "        vertical-align: middle;\n",
       "    }\n",
       "\n",
       "    .dataframe tbody tr th {\n",
       "        vertical-align: top;\n",
       "    }\n",
       "\n",
       "    .dataframe thead th {\n",
       "        text-align: right;\n",
       "    }\n",
       "</style>\n",
       "<table border=\"1\" class=\"dataframe\">\n",
       "  <thead>\n",
       "    <tr style=\"text-align: right;\">\n",
       "      <th></th>\n",
       "      <th>rank</th>\n",
       "      <th>name</th>\n",
       "      <th>grade</th>\n",
       "    </tr>\n",
       "  </thead>\n",
       "  <tbody>\n",
       "    <tr>\n",
       "      <th>1</th>\n",
       "      <td>3</td>\n",
       "      <td>nikola</td>\n",
       "      <td>2.0</td>\n",
       "    </tr>\n",
       "    <tr>\n",
       "      <th>2</th>\n",
       "      <td>4</td>\n",
       "      <td>jovana</td>\n",
       "      <td>5.0</td>\n",
       "    </tr>\n",
       "    <tr>\n",
       "      <th>4</th>\n",
       "      <td>5</td>\n",
       "      <td>dragana</td>\n",
       "      <td>4.5</td>\n",
       "    </tr>\n",
       "  </tbody>\n",
       "</table>\n",
       "</div>"
      ],
      "text/plain": [
       "   rank     name  grade\n",
       "1     3   nikola    2.0\n",
       "2     4   jovana    5.0\n",
       "4     5  dragana    4.5"
      ]
     },
     "execution_count": 62,
     "metadata": {},
     "output_type": "execute_result"
    }
   ],
   "source": [
    "df_test5.loc[df_test5['rank'] > 2]"
   ]
  },
  {
   "attachments": {},
   "cell_type": "markdown",
   "metadata": {},
   "source": [
    "Or you can negate your condition and return opposite:"
   ]
  },
  {
   "cell_type": "code",
   "execution_count": 63,
   "metadata": {},
   "outputs": [
    {
     "data": {
      "text/html": [
       "<div>\n",
       "<style scoped>\n",
       "    .dataframe tbody tr th:only-of-type {\n",
       "        vertical-align: middle;\n",
       "    }\n",
       "\n",
       "    .dataframe tbody tr th {\n",
       "        vertical-align: top;\n",
       "    }\n",
       "\n",
       "    .dataframe thead th {\n",
       "        text-align: right;\n",
       "    }\n",
       "</style>\n",
       "<table border=\"1\" class=\"dataframe\">\n",
       "  <thead>\n",
       "    <tr style=\"text-align: right;\">\n",
       "      <th></th>\n",
       "      <th>rank</th>\n",
       "      <th>name</th>\n",
       "      <th>grade</th>\n",
       "    </tr>\n",
       "  </thead>\n",
       "  <tbody>\n",
       "    <tr>\n",
       "      <th>0</th>\n",
       "      <td>1</td>\n",
       "      <td>marko</td>\n",
       "      <td>4.3</td>\n",
       "    </tr>\n",
       "  </tbody>\n",
       "</table>\n",
       "</div>"
      ],
      "text/plain": [
       "   rank   name  grade\n",
       "0     1  marko    4.3"
      ]
     },
     "execution_count": 63,
     "metadata": {},
     "output_type": "execute_result"
    }
   ],
   "source": [
    "df_test5.loc[~(df_test5['rank'] > 2)]"
   ]
  },
  {
   "attachments": {},
   "cell_type": "markdown",
   "metadata": {},
   "source": [
    "Let's write another condition. This time to select based on `name` column values. Since we are dealing with object (string) column there is no sense to use numerical comparisons. So we will use two simple ways to form conditions."
   ]
  },
  {
   "cell_type": "code",
   "execution_count": 64,
   "metadata": {},
   "outputs": [
    {
     "data": {
      "text/plain": [
       "0    False\n",
       "1    False\n",
       "2     True\n",
       "4    False\n",
       "Name: name, dtype: bool"
      ]
     },
     "execution_count": 64,
     "metadata": {},
     "output_type": "execute_result"
    }
   ],
   "source": [
    "df_test5['name'] == 'jovana'"
   ]
  },
  {
   "cell_type": "code",
   "execution_count": 65,
   "metadata": {},
   "outputs": [
    {
     "data": {
      "text/html": [
       "<div>\n",
       "<style scoped>\n",
       "    .dataframe tbody tr th:only-of-type {\n",
       "        vertical-align: middle;\n",
       "    }\n",
       "\n",
       "    .dataframe tbody tr th {\n",
       "        vertical-align: top;\n",
       "    }\n",
       "\n",
       "    .dataframe thead th {\n",
       "        text-align: right;\n",
       "    }\n",
       "</style>\n",
       "<table border=\"1\" class=\"dataframe\">\n",
       "  <thead>\n",
       "    <tr style=\"text-align: right;\">\n",
       "      <th></th>\n",
       "      <th>rank</th>\n",
       "      <th>name</th>\n",
       "      <th>grade</th>\n",
       "    </tr>\n",
       "  </thead>\n",
       "  <tbody>\n",
       "    <tr>\n",
       "      <th>2</th>\n",
       "      <td>4</td>\n",
       "      <td>jovana</td>\n",
       "      <td>5.0</td>\n",
       "    </tr>\n",
       "  </tbody>\n",
       "</table>\n",
       "</div>"
      ],
      "text/plain": [
       "   rank    name  grade\n",
       "2     4  jovana    5.0"
      ]
     },
     "execution_count": 65,
     "metadata": {},
     "output_type": "execute_result"
    }
   ],
   "source": [
    "df_test5.loc[df_test5['name'] == 'jovana']"
   ]
  },
  {
   "attachments": {},
   "cell_type": "markdown",
   "metadata": {},
   "source": [
    "Or, we can do it in more convenient way if there are multiple values to compare to."
   ]
  },
  {
   "cell_type": "code",
   "execution_count": 66,
   "metadata": {},
   "outputs": [
    {
     "data": {
      "text/html": [
       "<div>\n",
       "<style scoped>\n",
       "    .dataframe tbody tr th:only-of-type {\n",
       "        vertical-align: middle;\n",
       "    }\n",
       "\n",
       "    .dataframe tbody tr th {\n",
       "        vertical-align: top;\n",
       "    }\n",
       "\n",
       "    .dataframe thead th {\n",
       "        text-align: right;\n",
       "    }\n",
       "</style>\n",
       "<table border=\"1\" class=\"dataframe\">\n",
       "  <thead>\n",
       "    <tr style=\"text-align: right;\">\n",
       "      <th></th>\n",
       "      <th>rank</th>\n",
       "      <th>name</th>\n",
       "      <th>grade</th>\n",
       "    </tr>\n",
       "  </thead>\n",
       "  <tbody>\n",
       "    <tr>\n",
       "      <th>1</th>\n",
       "      <td>3</td>\n",
       "      <td>nikola</td>\n",
       "      <td>2.0</td>\n",
       "    </tr>\n",
       "    <tr>\n",
       "      <th>2</th>\n",
       "      <td>4</td>\n",
       "      <td>jovana</td>\n",
       "      <td>5.0</td>\n",
       "    </tr>\n",
       "  </tbody>\n",
       "</table>\n",
       "</div>"
      ],
      "text/plain": [
       "   rank    name  grade\n",
       "1     3  nikola    2.0\n",
       "2     4  jovana    5.0"
      ]
     },
     "execution_count": 66,
     "metadata": {},
     "output_type": "execute_result"
    }
   ],
   "source": [
    "df_test5.loc[df_test5['name'].isin(['nikola', 'jovana'])]"
   ]
  },
  {
   "attachments": {},
   "cell_type": "markdown",
   "metadata": {},
   "source": [
    "Of course `isin` method is not strictly defined for string types. You can use it with numerical ones too."
   ]
  },
  {
   "cell_type": "code",
   "execution_count": 67,
   "metadata": {},
   "outputs": [
    {
     "data": {
      "text/html": [
       "<div>\n",
       "<style scoped>\n",
       "    .dataframe tbody tr th:only-of-type {\n",
       "        vertical-align: middle;\n",
       "    }\n",
       "\n",
       "    .dataframe tbody tr th {\n",
       "        vertical-align: top;\n",
       "    }\n",
       "\n",
       "    .dataframe thead th {\n",
       "        text-align: right;\n",
       "    }\n",
       "</style>\n",
       "<table border=\"1\" class=\"dataframe\">\n",
       "  <thead>\n",
       "    <tr style=\"text-align: right;\">\n",
       "      <th></th>\n",
       "      <th>rank</th>\n",
       "      <th>name</th>\n",
       "      <th>grade</th>\n",
       "    </tr>\n",
       "  </thead>\n",
       "  <tbody>\n",
       "    <tr>\n",
       "      <th>0</th>\n",
       "      <td>1</td>\n",
       "      <td>marko</td>\n",
       "      <td>4.3</td>\n",
       "    </tr>\n",
       "    <tr>\n",
       "      <th>1</th>\n",
       "      <td>3</td>\n",
       "      <td>nikola</td>\n",
       "      <td>2.0</td>\n",
       "    </tr>\n",
       "  </tbody>\n",
       "</table>\n",
       "</div>"
      ],
      "text/plain": [
       "   rank    name  grade\n",
       "0     1   marko    4.3\n",
       "1     3  nikola    2.0"
      ]
     },
     "execution_count": 67,
     "metadata": {},
     "output_type": "execute_result"
    }
   ],
   "source": [
    "df_test5.loc[df_test5['rank'].isin([1, 2, 3, 6, 12, 23])]"
   ]
  },
  {
   "attachments": {},
   "cell_type": "markdown",
   "metadata": {},
   "source": [
    "And if you combine these you can get a lot of freedom in slicing/selecting/filtering your data:"
   ]
  },
  {
   "cell_type": "code",
   "execution_count": 68,
   "metadata": {},
   "outputs": [
    {
     "data": {
      "text/html": [
       "<div>\n",
       "<style scoped>\n",
       "    .dataframe tbody tr th:only-of-type {\n",
       "        vertical-align: middle;\n",
       "    }\n",
       "\n",
       "    .dataframe tbody tr th {\n",
       "        vertical-align: top;\n",
       "    }\n",
       "\n",
       "    .dataframe thead th {\n",
       "        text-align: right;\n",
       "    }\n",
       "</style>\n",
       "<table border=\"1\" class=\"dataframe\">\n",
       "  <thead>\n",
       "    <tr style=\"text-align: right;\">\n",
       "      <th></th>\n",
       "      <th>rank</th>\n",
       "      <th>name</th>\n",
       "    </tr>\n",
       "  </thead>\n",
       "  <tbody>\n",
       "    <tr>\n",
       "      <th>0</th>\n",
       "      <td>1</td>\n",
       "      <td>marko</td>\n",
       "    </tr>\n",
       "  </tbody>\n",
       "</table>\n",
       "</div>"
      ],
      "text/plain": [
       "   rank   name\n",
       "0     1  marko"
      ]
     },
     "execution_count": 68,
     "metadata": {},
     "output_type": "execute_result"
    }
   ],
   "source": [
    "_condition1 = df_test5['rank'].isin([1, 2, 3, 6, 12, 23])\n",
    "_condition2 = df_test5['name'].isin(['marko', 'janko', 'jovan', 'dragana'])\n",
    "_condition3 = df_test5['grade'] > 2\n",
    "\n",
    "df_test5.loc[_condition1 & _condition2 & _condition3, ['rank', 'name']]"
   ]
  },
  {
   "attachments": {},
   "cell_type": "markdown",
   "metadata": {},
   "source": [
    "And although picking columns and rows is interesting, we will move to other Pandas functionalities and leave other ways for you to discover."
   ]
  },
  {
   "attachments": {},
   "cell_type": "markdown",
   "metadata": {},
   "source": [
    "### Altering your data"
   ]
  },
  {
   "attachments": {},
   "cell_type": "markdown",
   "metadata": {},
   "source": [
    "Working with your data in Pandas is half subsetting and half altering your data. \n",
    "\n",
    "You have to be able to change values, parse them, update them, fill in missing values that may appear and so on.\n",
    "\n",
    "Here are some ways you can alter your data."
   ]
  },
  {
   "cell_type": "code",
   "execution_count": 69,
   "metadata": {},
   "outputs": [
    {
     "data": {
      "text/html": [
       "<div>\n",
       "<style scoped>\n",
       "    .dataframe tbody tr th:only-of-type {\n",
       "        vertical-align: middle;\n",
       "    }\n",
       "\n",
       "    .dataframe tbody tr th {\n",
       "        vertical-align: top;\n",
       "    }\n",
       "\n",
       "    .dataframe thead th {\n",
       "        text-align: right;\n",
       "    }\n",
       "</style>\n",
       "<table border=\"1\" class=\"dataframe\">\n",
       "  <thead>\n",
       "    <tr style=\"text-align: right;\">\n",
       "      <th></th>\n",
       "      <th>rank</th>\n",
       "      <th>name</th>\n",
       "      <th>grade</th>\n",
       "    </tr>\n",
       "  </thead>\n",
       "  <tbody>\n",
       "    <tr>\n",
       "      <th>0</th>\n",
       "      <td>1</td>\n",
       "      <td>marko</td>\n",
       "      <td>4.3</td>\n",
       "    </tr>\n",
       "    <tr>\n",
       "      <th>1</th>\n",
       "      <td>3</td>\n",
       "      <td>nikola</td>\n",
       "      <td>2.0</td>\n",
       "    </tr>\n",
       "    <tr>\n",
       "      <th>2</th>\n",
       "      <td>4</td>\n",
       "      <td>jovana</td>\n",
       "      <td>5.0</td>\n",
       "    </tr>\n",
       "    <tr>\n",
       "      <th>4</th>\n",
       "      <td>5</td>\n",
       "      <td>dragana</td>\n",
       "      <td>4.5</td>\n",
       "    </tr>\n",
       "  </tbody>\n",
       "</table>\n",
       "</div>"
      ],
      "text/plain": [
       "   rank     name  grade\n",
       "0     1    marko    4.3\n",
       "1     3   nikola    2.0\n",
       "2     4   jovana    5.0\n",
       "4     5  dragana    4.5"
      ]
     },
     "execution_count": 69,
     "metadata": {},
     "output_type": "execute_result"
    }
   ],
   "source": [
    "#refresher\n",
    "df_test5"
   ]
  },
  {
   "cell_type": "code",
   "execution_count": 70,
   "metadata": {},
   "outputs": [
    {
     "data": {
      "text/plain": [
       "0     5\n",
       "1    15\n",
       "2    20\n",
       "4    25\n",
       "Name: rank, dtype: int64"
      ]
     },
     "execution_count": 70,
     "metadata": {},
     "output_type": "execute_result"
    }
   ],
   "source": [
    "df_test5['rank'] * 5"
   ]
  },
  {
   "attachments": {},
   "cell_type": "markdown",
   "metadata": {},
   "source": [
    "Here, you get the Series as the results, but with values 5 times then the original ones. "
   ]
  },
  {
   "cell_type": "code",
   "execution_count": 71,
   "metadata": {},
   "outputs": [
    {
     "data": {
      "text/plain": [
       "0    2.333333\n",
       "1    4.333333\n",
       "2    5.333333\n",
       "4    6.333333\n",
       "Name: rank, dtype: float64"
      ]
     },
     "execution_count": 71,
     "metadata": {},
     "output_type": "execute_result"
    }
   ],
   "source": [
    "df_test5['rank'] + 4/3"
   ]
  },
  {
   "attachments": {},
   "cell_type": "markdown",
   "metadata": {},
   "source": [
    "It really is up to you to decide how you want to alter (transform) your data.\n",
    "\n",
    "After your are done, you can alter your column values or add new column."
   ]
  },
  {
   "cell_type": "code",
   "execution_count": 72,
   "metadata": {},
   "outputs": [
    {
     "data": {
      "text/html": [
       "<div>\n",
       "<style scoped>\n",
       "    .dataframe tbody tr th:only-of-type {\n",
       "        vertical-align: middle;\n",
       "    }\n",
       "\n",
       "    .dataframe tbody tr th {\n",
       "        vertical-align: top;\n",
       "    }\n",
       "\n",
       "    .dataframe thead th {\n",
       "        text-align: right;\n",
       "    }\n",
       "</style>\n",
       "<table border=\"1\" class=\"dataframe\">\n",
       "  <thead>\n",
       "    <tr style=\"text-align: right;\">\n",
       "      <th></th>\n",
       "      <th>rank</th>\n",
       "      <th>name</th>\n",
       "      <th>grade</th>\n",
       "      <th>rank_transform</th>\n",
       "    </tr>\n",
       "  </thead>\n",
       "  <tbody>\n",
       "    <tr>\n",
       "      <th>0</th>\n",
       "      <td>1</td>\n",
       "      <td>marko</td>\n",
       "      <td>4.3</td>\n",
       "      <td>6</td>\n",
       "    </tr>\n",
       "    <tr>\n",
       "      <th>1</th>\n",
       "      <td>3</td>\n",
       "      <td>nikola</td>\n",
       "      <td>2.0</td>\n",
       "      <td>8</td>\n",
       "    </tr>\n",
       "    <tr>\n",
       "      <th>2</th>\n",
       "      <td>4</td>\n",
       "      <td>jovana</td>\n",
       "      <td>5.0</td>\n",
       "      <td>9</td>\n",
       "    </tr>\n",
       "    <tr>\n",
       "      <th>4</th>\n",
       "      <td>5</td>\n",
       "      <td>dragana</td>\n",
       "      <td>4.5</td>\n",
       "      <td>10</td>\n",
       "    </tr>\n",
       "  </tbody>\n",
       "</table>\n",
       "</div>"
      ],
      "text/plain": [
       "   rank     name  grade  rank_transform\n",
       "0     1    marko    4.3               6\n",
       "1     3   nikola    2.0               8\n",
       "2     4   jovana    5.0               9\n",
       "4     5  dragana    4.5              10"
      ]
     },
     "execution_count": 72,
     "metadata": {},
     "output_type": "execute_result"
    }
   ],
   "source": [
    "df_test5['rank_transform'] = df_test5['rank'] + 5\n",
    "\n",
    "df_test5"
   ]
  },
  {
   "cell_type": "code",
   "execution_count": 73,
   "metadata": {},
   "outputs": [
    {
     "data": {
      "text/html": [
       "<div>\n",
       "<style scoped>\n",
       "    .dataframe tbody tr th:only-of-type {\n",
       "        vertical-align: middle;\n",
       "    }\n",
       "\n",
       "    .dataframe tbody tr th {\n",
       "        vertical-align: top;\n",
       "    }\n",
       "\n",
       "    .dataframe thead th {\n",
       "        text-align: right;\n",
       "    }\n",
       "</style>\n",
       "<table border=\"1\" class=\"dataframe\">\n",
       "  <thead>\n",
       "    <tr style=\"text-align: right;\">\n",
       "      <th></th>\n",
       "      <th>rank</th>\n",
       "      <th>name</th>\n",
       "      <th>grade</th>\n",
       "      <th>rank_transform</th>\n",
       "    </tr>\n",
       "  </thead>\n",
       "  <tbody>\n",
       "    <tr>\n",
       "      <th>0</th>\n",
       "      <td>1</td>\n",
       "      <td>marko</td>\n",
       "      <td>2.15</td>\n",
       "      <td>6</td>\n",
       "    </tr>\n",
       "    <tr>\n",
       "      <th>1</th>\n",
       "      <td>3</td>\n",
       "      <td>nikola</td>\n",
       "      <td>1.00</td>\n",
       "      <td>8</td>\n",
       "    </tr>\n",
       "    <tr>\n",
       "      <th>2</th>\n",
       "      <td>4</td>\n",
       "      <td>jovana</td>\n",
       "      <td>2.50</td>\n",
       "      <td>9</td>\n",
       "    </tr>\n",
       "    <tr>\n",
       "      <th>4</th>\n",
       "      <td>5</td>\n",
       "      <td>dragana</td>\n",
       "      <td>2.25</td>\n",
       "      <td>10</td>\n",
       "    </tr>\n",
       "  </tbody>\n",
       "</table>\n",
       "</div>"
      ],
      "text/plain": [
       "   rank     name  grade  rank_transform\n",
       "0     1    marko   2.15               6\n",
       "1     3   nikola   1.00               8\n",
       "2     4   jovana   2.50               9\n",
       "4     5  dragana   2.25              10"
      ]
     },
     "execution_count": 73,
     "metadata": {},
     "output_type": "execute_result"
    }
   ],
   "source": [
    "df_test5['grade'] = df_test5['grade'] / 2\n",
    "\n",
    "df_test5"
   ]
  },
  {
   "attachments": {},
   "cell_type": "markdown",
   "metadata": {},
   "source": [
    "Pay attention. Once you alter your column, you have lost previous values. Be careful.\n",
    "\n",
    "You can alter your string typed columns too. But, you have to do it by telling Pandas that you want to access these values as strings, with `.str` attribute."
   ]
  },
  {
   "cell_type": "code",
   "execution_count": 74,
   "metadata": {},
   "outputs": [
    {
     "data": {
      "text/plain": [
       "0      Marko\n",
       "1     Nikola\n",
       "2     Jovana\n",
       "4    Dragana\n",
       "Name: name, dtype: object"
      ]
     },
     "execution_count": 74,
     "metadata": {},
     "output_type": "execute_result"
    }
   ],
   "source": [
    "df_test5['name'].str.capitalize()"
   ]
  },
  {
   "cell_type": "code",
   "execution_count": 75,
   "metadata": {},
   "outputs": [],
   "source": [
    "df_test5['name_caps'] = df_test5['name'].str.upper()"
   ]
  },
  {
   "cell_type": "code",
   "execution_count": 76,
   "metadata": {},
   "outputs": [
    {
     "data": {
      "text/html": [
       "<div>\n",
       "<style scoped>\n",
       "    .dataframe tbody tr th:only-of-type {\n",
       "        vertical-align: middle;\n",
       "    }\n",
       "\n",
       "    .dataframe tbody tr th {\n",
       "        vertical-align: top;\n",
       "    }\n",
       "\n",
       "    .dataframe thead th {\n",
       "        text-align: right;\n",
       "    }\n",
       "</style>\n",
       "<table border=\"1\" class=\"dataframe\">\n",
       "  <thead>\n",
       "    <tr style=\"text-align: right;\">\n",
       "      <th></th>\n",
       "      <th>rank</th>\n",
       "      <th>name</th>\n",
       "      <th>grade</th>\n",
       "      <th>rank_transform</th>\n",
       "      <th>name_caps</th>\n",
       "    </tr>\n",
       "  </thead>\n",
       "  <tbody>\n",
       "    <tr>\n",
       "      <th>0</th>\n",
       "      <td>1</td>\n",
       "      <td>marko</td>\n",
       "      <td>2.15</td>\n",
       "      <td>6</td>\n",
       "      <td>MARKO</td>\n",
       "    </tr>\n",
       "    <tr>\n",
       "      <th>1</th>\n",
       "      <td>3</td>\n",
       "      <td>nikola</td>\n",
       "      <td>1.00</td>\n",
       "      <td>8</td>\n",
       "      <td>NIKOLA</td>\n",
       "    </tr>\n",
       "    <tr>\n",
       "      <th>2</th>\n",
       "      <td>4</td>\n",
       "      <td>jovana</td>\n",
       "      <td>2.50</td>\n",
       "      <td>9</td>\n",
       "      <td>JOVANA</td>\n",
       "    </tr>\n",
       "    <tr>\n",
       "      <th>4</th>\n",
       "      <td>5</td>\n",
       "      <td>dragana</td>\n",
       "      <td>2.25</td>\n",
       "      <td>10</td>\n",
       "      <td>DRAGANA</td>\n",
       "    </tr>\n",
       "  </tbody>\n",
       "</table>\n",
       "</div>"
      ],
      "text/plain": [
       "   rank     name  grade  rank_transform name_caps\n",
       "0     1    marko   2.15               6     MARKO\n",
       "1     3   nikola   1.00               8    NIKOLA\n",
       "2     4   jovana   2.50               9    JOVANA\n",
       "4     5  dragana   2.25              10   DRAGANA"
      ]
     },
     "execution_count": 76,
     "metadata": {},
     "output_type": "execute_result"
    }
   ],
   "source": [
    "df_test5"
   ]
  },
  {
   "attachments": {},
   "cell_type": "markdown",
   "metadata": {},
   "source": [
    "There is really numerous ways of achieving the same result when working with Pandas. What may bother some of you is this imerative way of writing code, where you have to write multiple lines asigning values to each intermediary variable, before you get the DataFrame you need. \n",
    "\n",
    "Fear not, Pandas provides another way of working with DataFrame, and it is pipelining. In a sense you chain methods and write one long line of code. \n",
    "\n",
    "Example:"
   ]
  },
  {
   "cell_type": "code",
   "execution_count": 77,
   "metadata": {},
   "outputs": [
    {
     "data": {
      "text/html": [
       "<div>\n",
       "<style scoped>\n",
       "    .dataframe tbody tr th:only-of-type {\n",
       "        vertical-align: middle;\n",
       "    }\n",
       "\n",
       "    .dataframe tbody tr th {\n",
       "        vertical-align: top;\n",
       "    }\n",
       "\n",
       "    .dataframe thead th {\n",
       "        text-align: right;\n",
       "    }\n",
       "</style>\n",
       "<table border=\"1\" class=\"dataframe\">\n",
       "  <thead>\n",
       "    <tr style=\"text-align: right;\">\n",
       "      <th></th>\n",
       "      <th>rank</th>\n",
       "      <th>name</th>\n",
       "      <th>grade</th>\n",
       "      <th>rank_transform</th>\n",
       "      <th>name_caps</th>\n",
       "    </tr>\n",
       "  </thead>\n",
       "  <tbody>\n",
       "    <tr>\n",
       "      <th>0</th>\n",
       "      <td>1</td>\n",
       "      <td>marko</td>\n",
       "      <td>2.15</td>\n",
       "      <td>6</td>\n",
       "      <td>MARKO</td>\n",
       "    </tr>\n",
       "    <tr>\n",
       "      <th>1</th>\n",
       "      <td>3</td>\n",
       "      <td>nikola</td>\n",
       "      <td>1.00</td>\n",
       "      <td>8</td>\n",
       "      <td>NIKOLA</td>\n",
       "    </tr>\n",
       "    <tr>\n",
       "      <th>2</th>\n",
       "      <td>4</td>\n",
       "      <td>jovana</td>\n",
       "      <td>2.50</td>\n",
       "      <td>9</td>\n",
       "      <td>JOVANA</td>\n",
       "    </tr>\n",
       "    <tr>\n",
       "      <th>4</th>\n",
       "      <td>5</td>\n",
       "      <td>dragana</td>\n",
       "      <td>2.25</td>\n",
       "      <td>10</td>\n",
       "      <td>DRAGANA</td>\n",
       "    </tr>\n",
       "  </tbody>\n",
       "</table>\n",
       "</div>"
      ],
      "text/plain": [
       "   rank     name  grade  rank_transform name_caps\n",
       "0     1    marko   2.15               6     MARKO\n",
       "1     3   nikola   1.00               8    NIKOLA\n",
       "2     4   jovana   2.50               9    JOVANA\n",
       "4     5  dragana   2.25              10   DRAGANA"
      ]
     },
     "execution_count": 77,
     "metadata": {},
     "output_type": "execute_result"
    }
   ],
   "source": [
    "#refresher\n",
    "df_test5"
   ]
  },
  {
   "cell_type": "code",
   "execution_count": 78,
   "metadata": {},
   "outputs": [
    {
     "data": {
      "text/html": [
       "<div>\n",
       "<style scoped>\n",
       "    .dataframe tbody tr th:only-of-type {\n",
       "        vertical-align: middle;\n",
       "    }\n",
       "\n",
       "    .dataframe tbody tr th {\n",
       "        vertical-align: top;\n",
       "    }\n",
       "\n",
       "    .dataframe thead th {\n",
       "        text-align: right;\n",
       "    }\n",
       "</style>\n",
       "<table border=\"1\" class=\"dataframe\">\n",
       "  <thead>\n",
       "    <tr style=\"text-align: right;\">\n",
       "      <th></th>\n",
       "      <th>rank</th>\n",
       "      <th>name</th>\n",
       "      <th>grade</th>\n",
       "    </tr>\n",
       "  </thead>\n",
       "  <tbody>\n",
       "    <tr>\n",
       "      <th>1</th>\n",
       "      <td>3</td>\n",
       "      <td>nikola</td>\n",
       "      <td>1.00</td>\n",
       "    </tr>\n",
       "    <tr>\n",
       "      <th>2</th>\n",
       "      <td>4</td>\n",
       "      <td>jovana</td>\n",
       "      <td>2.50</td>\n",
       "    </tr>\n",
       "    <tr>\n",
       "      <th>4</th>\n",
       "      <td>5</td>\n",
       "      <td>dragana</td>\n",
       "      <td>2.25</td>\n",
       "    </tr>\n",
       "  </tbody>\n",
       "</table>\n",
       "</div>"
      ],
      "text/plain": [
       "   rank     name  grade\n",
       "1     3   nikola   1.00\n",
       "2     4   jovana   2.50\n",
       "4     5  dragana   2.25"
      ]
     },
     "execution_count": 78,
     "metadata": {},
     "output_type": "execute_result"
    }
   ],
   "source": [
    "df_test5.loc[df_test5['rank'] > 2, ['rank', 'name', 'grade']]"
   ]
  },
  {
   "cell_type": "code",
   "execution_count": 79,
   "metadata": {},
   "outputs": [
    {
     "data": {
      "text/html": [
       "<div>\n",
       "<style scoped>\n",
       "    .dataframe tbody tr th:only-of-type {\n",
       "        vertical-align: middle;\n",
       "    }\n",
       "\n",
       "    .dataframe tbody tr th {\n",
       "        vertical-align: top;\n",
       "    }\n",
       "\n",
       "    .dataframe thead th {\n",
       "        text-align: right;\n",
       "    }\n",
       "</style>\n",
       "<table border=\"1\" class=\"dataframe\">\n",
       "  <thead>\n",
       "    <tr style=\"text-align: right;\">\n",
       "      <th></th>\n",
       "      <th>rank</th>\n",
       "      <th>name</th>\n",
       "      <th>grade</th>\n",
       "      <th>name_caps</th>\n",
       "      <th>new_grade</th>\n",
       "    </tr>\n",
       "  </thead>\n",
       "  <tbody>\n",
       "    <tr>\n",
       "      <th>1</th>\n",
       "      <td>3</td>\n",
       "      <td>nikola</td>\n",
       "      <td>1.00</td>\n",
       "      <td>NIKOLA</td>\n",
       "      <td>10.0</td>\n",
       "    </tr>\n",
       "    <tr>\n",
       "      <th>2</th>\n",
       "      <td>4</td>\n",
       "      <td>jovana</td>\n",
       "      <td>2.50</td>\n",
       "      <td>JOVANA</td>\n",
       "      <td>25.0</td>\n",
       "    </tr>\n",
       "    <tr>\n",
       "      <th>4</th>\n",
       "      <td>5</td>\n",
       "      <td>dragana</td>\n",
       "      <td>2.25</td>\n",
       "      <td>DRAGANA</td>\n",
       "      <td>22.5</td>\n",
       "    </tr>\n",
       "  </tbody>\n",
       "</table>\n",
       "</div>"
      ],
      "text/plain": [
       "   rank     name  grade name_caps  new_grade\n",
       "1     3   nikola   1.00    NIKOLA       10.0\n",
       "2     4   jovana   2.50    JOVANA       25.0\n",
       "4     5  dragana   2.25   DRAGANA       22.5"
      ]
     },
     "execution_count": 79,
     "metadata": {},
     "output_type": "execute_result"
    }
   ],
   "source": [
    "df_test5.loc[df_test5['rank'] > 2, ['rank', 'name', 'grade']]\\\n",
    "        .assign(name_caps = lambda x: x['name'].str.upper(), \n",
    "                new_grade = lambda x: x['grade'] * 10)"
   ]
  },
  {
   "cell_type": "code",
   "execution_count": 80,
   "metadata": {},
   "outputs": [
    {
     "data": {
      "text/html": [
       "<div>\n",
       "<style scoped>\n",
       "    .dataframe tbody tr th:only-of-type {\n",
       "        vertical-align: middle;\n",
       "    }\n",
       "\n",
       "    .dataframe tbody tr th {\n",
       "        vertical-align: top;\n",
       "    }\n",
       "\n",
       "    .dataframe thead th {\n",
       "        text-align: right;\n",
       "    }\n",
       "</style>\n",
       "<table border=\"1\" class=\"dataframe\">\n",
       "  <thead>\n",
       "    <tr style=\"text-align: right;\">\n",
       "      <th></th>\n",
       "      <th>rank</th>\n",
       "      <th>name_caps</th>\n",
       "      <th>new_grade</th>\n",
       "    </tr>\n",
       "  </thead>\n",
       "  <tbody>\n",
       "    <tr>\n",
       "      <th>1</th>\n",
       "      <td>3</td>\n",
       "      <td>NIKOLA</td>\n",
       "      <td>10.0</td>\n",
       "    </tr>\n",
       "    <tr>\n",
       "      <th>2</th>\n",
       "      <td>4</td>\n",
       "      <td>JOVANA</td>\n",
       "      <td>25.0</td>\n",
       "    </tr>\n",
       "    <tr>\n",
       "      <th>4</th>\n",
       "      <td>5</td>\n",
       "      <td>DRAGANA</td>\n",
       "      <td>22.5</td>\n",
       "    </tr>\n",
       "  </tbody>\n",
       "</table>\n",
       "</div>"
      ],
      "text/plain": [
       "   rank name_caps  new_grade\n",
       "1     3    NIKOLA       10.0\n",
       "2     4    JOVANA       25.0\n",
       "4     5   DRAGANA       22.5"
      ]
     },
     "execution_count": 80,
     "metadata": {},
     "output_type": "execute_result"
    }
   ],
   "source": [
    "df_test5.loc[df_test5['rank'] > 2, ['rank', 'name', 'grade']]\\\n",
    "        .assign(name_caps = lambda x: x['name'].str.upper(), \n",
    "                new_grade = lambda x: x['grade'] * 10)\\\n",
    "        .drop(columns=['name', 'grade'])"
   ]
  },
  {
   "attachments": {},
   "cell_type": "markdown",
   "metadata": {},
   "source": [
    "Here, you put all of your datawrangling power in one place, slice and alter your data to get the resulting DataFrame that you need."
   ]
  },
  {
   "attachments": {},
   "cell_type": "markdown",
   "metadata": {},
   "source": [
    "One thing that we did introduce here for the purposes of previous example is `lambda` function. \n",
    "\n",
    "For those who are not informed, `lambda` functions are unnamed or anonymous functions. This means these do not have their name like the functions you define with `def`. Also, these are restricted with functionalities they can provide and are used as oneliners for scenarios where you need some simple arithmetic operation or logical condition. `Lambda` functions are perfect for functional programming where whole pipeline is divided between numerous steps (lambda functions) that do one specific and small part of data set alteration.\n",
    "\n",
    "Here, `lambda` functions are applied to each row of the intermediary DataFrame, where this row is passed through `x` argument of `lambda function`. Inside this function we reference specific column, e.g. `x['name']` and then work with it as we did previously.\n",
    "\n",
    "This way of writing Panda code is handy and convenient and you easily can read it and get the picture of what is happening.\n",
    "\n",
    "Now, since you have some basic skills in Pandas, let's use one reall dataset and see some data wrangling skills."
   ]
  },
  {
   "attachments": {},
   "cell_type": "markdown",
   "metadata": {},
   "source": [
    "### Real dataset wrangling"
   ]
  },
  {
   "attachments": {},
   "cell_type": "markdown",
   "metadata": {},
   "source": [
    "Pandas being popular and widely used library for data manipulation has multiple ways of importing data. This data can come from file formats like CSV, JSON, XML, or you can connect to any relational and non-relational database and run query to get the data.\n",
    "\n",
    "In our example we are going to work with **downsampled** [nycflights13 dataset](https://github.com/tidyverse/nycflights13). The data in `nycflights13` were originaly provided in an R package; we have extracted all tables present to CSV files and placed them in our `_data` directory to play with. It consists of data about flights that departed all airports in NYC in 2013. \n",
    "\n",
    "The dataset we are going to use today is just the part of the original one."
   ]
  },
  {
   "cell_type": "code",
   "execution_count": 81,
   "metadata": {},
   "outputs": [
    {
     "data": {
      "text/html": [
       "<div>\n",
       "<style scoped>\n",
       "    .dataframe tbody tr th:only-of-type {\n",
       "        vertical-align: middle;\n",
       "    }\n",
       "\n",
       "    .dataframe tbody tr th {\n",
       "        vertical-align: top;\n",
       "    }\n",
       "\n",
       "    .dataframe thead th {\n",
       "        text-align: right;\n",
       "    }\n",
       "</style>\n",
       "<table border=\"1\" class=\"dataframe\">\n",
       "  <thead>\n",
       "    <tr style=\"text-align: right;\">\n",
       "      <th></th>\n",
       "      <th>Unnamed: 0</th>\n",
       "      <th>year</th>\n",
       "      <th>month</th>\n",
       "      <th>day</th>\n",
       "      <th>dep_time</th>\n",
       "      <th>sched_dep_time</th>\n",
       "      <th>dep_delay</th>\n",
       "      <th>arr_time</th>\n",
       "      <th>sched_arr_time</th>\n",
       "      <th>arr_delay</th>\n",
       "      <th>carrier</th>\n",
       "      <th>flight</th>\n",
       "      <th>tailnum</th>\n",
       "      <th>origin</th>\n",
       "      <th>dest</th>\n",
       "      <th>air_time</th>\n",
       "      <th>distance</th>\n",
       "      <th>hour</th>\n",
       "      <th>minute</th>\n",
       "      <th>time_hour</th>\n",
       "    </tr>\n",
       "  </thead>\n",
       "  <tbody>\n",
       "    <tr>\n",
       "      <th>23583</th>\n",
       "      <td>23583</td>\n",
       "      <td>2013</td>\n",
       "      <td>1</td>\n",
       "      <td>28</td>\n",
       "      <td>858.0</td>\n",
       "      <td>905</td>\n",
       "      <td>-7.0</td>\n",
       "      <td>1004.0</td>\n",
       "      <td>1023</td>\n",
       "      <td>-19.0</td>\n",
       "      <td>JetBlue Airways</td>\n",
       "      <td>56</td>\n",
       "      <td>N323JB</td>\n",
       "      <td>John F Kennedy Intl</td>\n",
       "      <td>Burlington Intl</td>\n",
       "      <td>48.0</td>\n",
       "      <td>266</td>\n",
       "      <td>9</td>\n",
       "      <td>5</td>\n",
       "      <td>2013-01-28 09:00:00</td>\n",
       "    </tr>\n",
       "    <tr>\n",
       "      <th>39402</th>\n",
       "      <td>39402</td>\n",
       "      <td>2013</td>\n",
       "      <td>10</td>\n",
       "      <td>14</td>\n",
       "      <td>1138.0</td>\n",
       "      <td>1130</td>\n",
       "      <td>8.0</td>\n",
       "      <td>1334.0</td>\n",
       "      <td>1338</td>\n",
       "      <td>-4.0</td>\n",
       "      <td>ExpressJet Airlines Inc.</td>\n",
       "      <td>4445</td>\n",
       "      <td>N21197</td>\n",
       "      <td>Newark Liberty Intl</td>\n",
       "      <td>Indianapolis Intl</td>\n",
       "      <td>94.0</td>\n",
       "      <td>645</td>\n",
       "      <td>11</td>\n",
       "      <td>30</td>\n",
       "      <td>2013-10-14 11:00:00</td>\n",
       "    </tr>\n",
       "    <tr>\n",
       "      <th>234025</th>\n",
       "      <td>234025</td>\n",
       "      <td>2013</td>\n",
       "      <td>6</td>\n",
       "      <td>13</td>\n",
       "      <td>1753.0</td>\n",
       "      <td>1455</td>\n",
       "      <td>178.0</td>\n",
       "      <td>NaN</td>\n",
       "      <td>1611</td>\n",
       "      <td>NaN</td>\n",
       "      <td>Endeavor Air Inc.</td>\n",
       "      <td>4280</td>\n",
       "      <td>N8646A</td>\n",
       "      <td>John F Kennedy Intl</td>\n",
       "      <td>Philadelphia Intl</td>\n",
       "      <td>NaN</td>\n",
       "      <td>94</td>\n",
       "      <td>14</td>\n",
       "      <td>55</td>\n",
       "      <td>2013-06-13 14:00:00</td>\n",
       "    </tr>\n",
       "    <tr>\n",
       "      <th>9240</th>\n",
       "      <td>9240</td>\n",
       "      <td>2013</td>\n",
       "      <td>1</td>\n",
       "      <td>11</td>\n",
       "      <td>1248.0</td>\n",
       "      <td>1300</td>\n",
       "      <td>-12.0</td>\n",
       "      <td>1438.0</td>\n",
       "      <td>1450</td>\n",
       "      <td>-12.0</td>\n",
       "      <td>Envoy Air</td>\n",
       "      <td>4426</td>\n",
       "      <td>N713MQ</td>\n",
       "      <td>La Guardia</td>\n",
       "      <td>Port Columbus Intl</td>\n",
       "      <td>83.0</td>\n",
       "      <td>479</td>\n",
       "      <td>13</td>\n",
       "      <td>0</td>\n",
       "      <td>2013-01-11 13:00:00</td>\n",
       "    </tr>\n",
       "    <tr>\n",
       "      <th>231428</th>\n",
       "      <td>231428</td>\n",
       "      <td>2013</td>\n",
       "      <td>6</td>\n",
       "      <td>11</td>\n",
       "      <td>557.0</td>\n",
       "      <td>605</td>\n",
       "      <td>-8.0</td>\n",
       "      <td>731.0</td>\n",
       "      <td>749</td>\n",
       "      <td>-18.0</td>\n",
       "      <td>Delta Air Lines Inc.</td>\n",
       "      <td>1279</td>\n",
       "      <td>N358NB</td>\n",
       "      <td>La Guardia</td>\n",
       "      <td>Memphis Intl</td>\n",
       "      <td>131.0</td>\n",
       "      <td>963</td>\n",
       "      <td>6</td>\n",
       "      <td>5</td>\n",
       "      <td>2013-06-11 06:00:00</td>\n",
       "    </tr>\n",
       "  </tbody>\n",
       "</table>\n",
       "</div>"
      ],
      "text/plain": [
       "        Unnamed: 0  year  month  day  dep_time  sched_dep_time  dep_delay   \n",
       "23583        23583  2013      1   28     858.0             905       -7.0  \\\n",
       "39402        39402  2013     10   14    1138.0            1130        8.0   \n",
       "234025      234025  2013      6   13    1753.0            1455      178.0   \n",
       "9240          9240  2013      1   11    1248.0            1300      -12.0   \n",
       "231428      231428  2013      6   11     557.0             605       -8.0   \n",
       "\n",
       "        arr_time  sched_arr_time  arr_delay                   carrier  flight   \n",
       "23583     1004.0            1023      -19.0           JetBlue Airways      56  \\\n",
       "39402     1334.0            1338       -4.0  ExpressJet Airlines Inc.    4445   \n",
       "234025       NaN            1611        NaN         Endeavor Air Inc.    4280   \n",
       "9240      1438.0            1450      -12.0                 Envoy Air    4426   \n",
       "231428     731.0             749      -18.0      Delta Air Lines Inc.    1279   \n",
       "\n",
       "       tailnum               origin                dest  air_time  distance   \n",
       "23583   N323JB  John F Kennedy Intl     Burlington Intl      48.0       266  \\\n",
       "39402   N21197  Newark Liberty Intl   Indianapolis Intl      94.0       645   \n",
       "234025  N8646A  John F Kennedy Intl   Philadelphia Intl       NaN        94   \n",
       "9240    N713MQ           La Guardia  Port Columbus Intl      83.0       479   \n",
       "231428  N358NB           La Guardia        Memphis Intl     131.0       963   \n",
       "\n",
       "        hour  minute            time_hour  \n",
       "23583      9       5  2013-01-28 09:00:00  \n",
       "39402     11      30  2013-10-14 11:00:00  \n",
       "234025    14      55  2013-06-13 14:00:00  \n",
       "9240      13       0  2013-01-11 13:00:00  \n",
       "231428     6       5  2013-06-11 06:00:00  "
      ]
     },
     "execution_count": 81,
     "metadata": {},
     "output_type": "execute_result"
    }
   ],
   "source": [
    "df_flights = pd.read_csv('_data/flights_session06.csv', index_col=0)\n",
    "\n",
    "df_flights.head()"
   ]
  },
  {
   "attachments": {},
   "cell_type": "markdown",
   "metadata": {},
   "source": [
    "This `head` method is used for getting the sneak peek into your data set. It displays first N rows of the dataset. How many? By default it is 10. You can change that of course."
   ]
  },
  {
   "cell_type": "code",
   "execution_count": 82,
   "metadata": {},
   "outputs": [
    {
     "data": {
      "text/html": [
       "<div>\n",
       "<style scoped>\n",
       "    .dataframe tbody tr th:only-of-type {\n",
       "        vertical-align: middle;\n",
       "    }\n",
       "\n",
       "    .dataframe tbody tr th {\n",
       "        vertical-align: top;\n",
       "    }\n",
       "\n",
       "    .dataframe thead th {\n",
       "        text-align: right;\n",
       "    }\n",
       "</style>\n",
       "<table border=\"1\" class=\"dataframe\">\n",
       "  <thead>\n",
       "    <tr style=\"text-align: right;\">\n",
       "      <th></th>\n",
       "      <th>Unnamed: 0</th>\n",
       "      <th>year</th>\n",
       "      <th>month</th>\n",
       "      <th>day</th>\n",
       "      <th>dep_time</th>\n",
       "      <th>sched_dep_time</th>\n",
       "      <th>dep_delay</th>\n",
       "      <th>arr_time</th>\n",
       "      <th>sched_arr_time</th>\n",
       "      <th>arr_delay</th>\n",
       "      <th>carrier</th>\n",
       "      <th>flight</th>\n",
       "      <th>tailnum</th>\n",
       "      <th>origin</th>\n",
       "      <th>dest</th>\n",
       "      <th>air_time</th>\n",
       "      <th>distance</th>\n",
       "      <th>hour</th>\n",
       "      <th>minute</th>\n",
       "      <th>time_hour</th>\n",
       "    </tr>\n",
       "  </thead>\n",
       "  <tbody>\n",
       "    <tr>\n",
       "      <th>23583</th>\n",
       "      <td>23583</td>\n",
       "      <td>2013</td>\n",
       "      <td>1</td>\n",
       "      <td>28</td>\n",
       "      <td>858.0</td>\n",
       "      <td>905</td>\n",
       "      <td>-7.0</td>\n",
       "      <td>1004.0</td>\n",
       "      <td>1023</td>\n",
       "      <td>-19.0</td>\n",
       "      <td>JetBlue Airways</td>\n",
       "      <td>56</td>\n",
       "      <td>N323JB</td>\n",
       "      <td>John F Kennedy Intl</td>\n",
       "      <td>Burlington Intl</td>\n",
       "      <td>48.0</td>\n",
       "      <td>266</td>\n",
       "      <td>9</td>\n",
       "      <td>5</td>\n",
       "      <td>2013-01-28 09:00:00</td>\n",
       "    </tr>\n",
       "    <tr>\n",
       "      <th>39402</th>\n",
       "      <td>39402</td>\n",
       "      <td>2013</td>\n",
       "      <td>10</td>\n",
       "      <td>14</td>\n",
       "      <td>1138.0</td>\n",
       "      <td>1130</td>\n",
       "      <td>8.0</td>\n",
       "      <td>1334.0</td>\n",
       "      <td>1338</td>\n",
       "      <td>-4.0</td>\n",
       "      <td>ExpressJet Airlines Inc.</td>\n",
       "      <td>4445</td>\n",
       "      <td>N21197</td>\n",
       "      <td>Newark Liberty Intl</td>\n",
       "      <td>Indianapolis Intl</td>\n",
       "      <td>94.0</td>\n",
       "      <td>645</td>\n",
       "      <td>11</td>\n",
       "      <td>30</td>\n",
       "      <td>2013-10-14 11:00:00</td>\n",
       "    </tr>\n",
       "    <tr>\n",
       "      <th>234025</th>\n",
       "      <td>234025</td>\n",
       "      <td>2013</td>\n",
       "      <td>6</td>\n",
       "      <td>13</td>\n",
       "      <td>1753.0</td>\n",
       "      <td>1455</td>\n",
       "      <td>178.0</td>\n",
       "      <td>NaN</td>\n",
       "      <td>1611</td>\n",
       "      <td>NaN</td>\n",
       "      <td>Endeavor Air Inc.</td>\n",
       "      <td>4280</td>\n",
       "      <td>N8646A</td>\n",
       "      <td>John F Kennedy Intl</td>\n",
       "      <td>Philadelphia Intl</td>\n",
       "      <td>NaN</td>\n",
       "      <td>94</td>\n",
       "      <td>14</td>\n",
       "      <td>55</td>\n",
       "      <td>2013-06-13 14:00:00</td>\n",
       "    </tr>\n",
       "    <tr>\n",
       "      <th>9240</th>\n",
       "      <td>9240</td>\n",
       "      <td>2013</td>\n",
       "      <td>1</td>\n",
       "      <td>11</td>\n",
       "      <td>1248.0</td>\n",
       "      <td>1300</td>\n",
       "      <td>-12.0</td>\n",
       "      <td>1438.0</td>\n",
       "      <td>1450</td>\n",
       "      <td>-12.0</td>\n",
       "      <td>Envoy Air</td>\n",
       "      <td>4426</td>\n",
       "      <td>N713MQ</td>\n",
       "      <td>La Guardia</td>\n",
       "      <td>Port Columbus Intl</td>\n",
       "      <td>83.0</td>\n",
       "      <td>479</td>\n",
       "      <td>13</td>\n",
       "      <td>0</td>\n",
       "      <td>2013-01-11 13:00:00</td>\n",
       "    </tr>\n",
       "  </tbody>\n",
       "</table>\n",
       "</div>"
      ],
      "text/plain": [
       "        Unnamed: 0  year  month  day  dep_time  sched_dep_time  dep_delay   \n",
       "23583        23583  2013      1   28     858.0             905       -7.0  \\\n",
       "39402        39402  2013     10   14    1138.0            1130        8.0   \n",
       "234025      234025  2013      6   13    1753.0            1455      178.0   \n",
       "9240          9240  2013      1   11    1248.0            1300      -12.0   \n",
       "\n",
       "        arr_time  sched_arr_time  arr_delay                   carrier  flight   \n",
       "23583     1004.0            1023      -19.0           JetBlue Airways      56  \\\n",
       "39402     1334.0            1338       -4.0  ExpressJet Airlines Inc.    4445   \n",
       "234025       NaN            1611        NaN         Endeavor Air Inc.    4280   \n",
       "9240      1438.0            1450      -12.0                 Envoy Air    4426   \n",
       "\n",
       "       tailnum               origin                dest  air_time  distance   \n",
       "23583   N323JB  John F Kennedy Intl     Burlington Intl      48.0       266  \\\n",
       "39402   N21197  Newark Liberty Intl   Indianapolis Intl      94.0       645   \n",
       "234025  N8646A  John F Kennedy Intl   Philadelphia Intl       NaN        94   \n",
       "9240    N713MQ           La Guardia  Port Columbus Intl      83.0       479   \n",
       "\n",
       "        hour  minute            time_hour  \n",
       "23583      9       5  2013-01-28 09:00:00  \n",
       "39402     11      30  2013-10-14 11:00:00  \n",
       "234025    14      55  2013-06-13 14:00:00  \n",
       "9240      13       0  2013-01-11 13:00:00  "
      ]
     },
     "execution_count": 82,
     "metadata": {},
     "output_type": "execute_result"
    }
   ],
   "source": [
    "df_flights.head(4)"
   ]
  },
  {
   "attachments": {},
   "cell_type": "markdown",
   "metadata": {},
   "source": [
    "\n",
    "Let's check some basic info about our dataset."
   ]
  },
  {
   "cell_type": "code",
   "execution_count": 83,
   "metadata": {},
   "outputs": [
    {
     "name": "stdout",
     "output_type": "stream",
     "text": [
      "<class 'pandas.core.frame.DataFrame'>\n",
      "Index: 33677 entries, 23583 to 26732\n",
      "Data columns (total 20 columns):\n",
      " #   Column          Non-Null Count  Dtype  \n",
      "---  ------          --------------  -----  \n",
      " 0   Unnamed: 0      33677 non-null  int64  \n",
      " 1   year            33677 non-null  int64  \n",
      " 2   month           33677 non-null  int64  \n",
      " 3   day             33677 non-null  int64  \n",
      " 4   dep_time        32847 non-null  float64\n",
      " 5   sched_dep_time  33677 non-null  int64  \n",
      " 6   dep_delay       32847 non-null  float64\n",
      " 7   arr_time        32802 non-null  float64\n",
      " 8   sched_arr_time  33677 non-null  int64  \n",
      " 9   arr_delay       32720 non-null  float64\n",
      " 10  carrier         33677 non-null  object \n",
      " 11  flight          33677 non-null  int64  \n",
      " 12  tailnum         33434 non-null  object \n",
      " 13  origin          33677 non-null  object \n",
      " 14  dest            33677 non-null  object \n",
      " 15  air_time        32720 non-null  float64\n",
      " 16  distance        33677 non-null  int64  \n",
      " 17  hour            33677 non-null  int64  \n",
      " 18  minute          33677 non-null  int64  \n",
      " 19  time_hour       33677 non-null  object \n",
      "dtypes: float64(5), int64(10), object(5)\n",
      "memory usage: 5.4+ MB\n"
     ]
    }
   ],
   "source": [
    "df_flights.info()"
   ]
  },
  {
   "attachments": {},
   "cell_type": "markdown",
   "metadata": {},
   "source": [
    "There is a lot of columns, and columns have 3 different data types: `int64`, `float64` and `object`. There is this column named `time_hour` that looks like a date with time.\n",
    "\n",
    "We will use some of our previously acquired knowledge and get some details of this DataFrame."
   ]
  },
  {
   "cell_type": "code",
   "execution_count": 84,
   "metadata": {},
   "outputs": [
    {
     "data": {
      "text/plain": [
       "Index(['Unnamed: 0', 'year', 'month', 'day', 'dep_time', 'sched_dep_time',\n",
       "       'dep_delay', 'arr_time', 'sched_arr_time', 'arr_delay', 'carrier',\n",
       "       'flight', 'tailnum', 'origin', 'dest', 'air_time', 'distance', 'hour',\n",
       "       'minute', 'time_hour'],\n",
       "      dtype='object')"
      ]
     },
     "execution_count": 84,
     "metadata": {},
     "output_type": "execute_result"
    }
   ],
   "source": [
    "df_flights.columns"
   ]
  },
  {
   "cell_type": "code",
   "execution_count": 85,
   "metadata": {},
   "outputs": [
    {
     "data": {
      "text/plain": [
       "(33677, 20)"
      ]
     },
     "execution_count": 85,
     "metadata": {},
     "output_type": "execute_result"
    }
   ],
   "source": [
    "df_flights.shape"
   ]
  },
  {
   "attachments": {},
   "cell_type": "markdown",
   "metadata": {},
   "source": [
    "We have over 30k flights. If you think this is too much, wait until you get real datasets. This one is for playing around."
   ]
  },
  {
   "cell_type": "code",
   "execution_count": 86,
   "metadata": {},
   "outputs": [
    {
     "data": {
      "text/plain": [
       "Unnamed: 0          int64\n",
       "year                int64\n",
       "month               int64\n",
       "day                 int64\n",
       "dep_time          float64\n",
       "sched_dep_time      int64\n",
       "dep_delay         float64\n",
       "arr_time          float64\n",
       "sched_arr_time      int64\n",
       "arr_delay         float64\n",
       "carrier            object\n",
       "flight              int64\n",
       "tailnum            object\n",
       "origin             object\n",
       "dest               object\n",
       "air_time          float64\n",
       "distance            int64\n",
       "hour                int64\n",
       "minute              int64\n",
       "time_hour          object\n",
       "dtype: object"
      ]
     },
     "execution_count": 86,
     "metadata": {},
     "output_type": "execute_result"
    }
   ],
   "source": [
    "df_flights.dtypes"
   ]
  },
  {
   "attachments": {},
   "cell_type": "markdown",
   "metadata": {},
   "source": [
    "Can we filter our columns based on their type so we can get overview of our data easily?"
   ]
  },
  {
   "cell_type": "code",
   "execution_count": 87,
   "metadata": {},
   "outputs": [
    {
     "data": {
      "text/html": [
       "<div>\n",
       "<style scoped>\n",
       "    .dataframe tbody tr th:only-of-type {\n",
       "        vertical-align: middle;\n",
       "    }\n",
       "\n",
       "    .dataframe tbody tr th {\n",
       "        vertical-align: top;\n",
       "    }\n",
       "\n",
       "    .dataframe thead th {\n",
       "        text-align: right;\n",
       "    }\n",
       "</style>\n",
       "<table border=\"1\" class=\"dataframe\">\n",
       "  <thead>\n",
       "    <tr style=\"text-align: right;\">\n",
       "      <th></th>\n",
       "      <th>carrier</th>\n",
       "      <th>tailnum</th>\n",
       "      <th>origin</th>\n",
       "      <th>dest</th>\n",
       "      <th>time_hour</th>\n",
       "    </tr>\n",
       "  </thead>\n",
       "  <tbody>\n",
       "    <tr>\n",
       "      <th>23583</th>\n",
       "      <td>JetBlue Airways</td>\n",
       "      <td>N323JB</td>\n",
       "      <td>John F Kennedy Intl</td>\n",
       "      <td>Burlington Intl</td>\n",
       "      <td>2013-01-28 09:00:00</td>\n",
       "    </tr>\n",
       "    <tr>\n",
       "      <th>39402</th>\n",
       "      <td>ExpressJet Airlines Inc.</td>\n",
       "      <td>N21197</td>\n",
       "      <td>Newark Liberty Intl</td>\n",
       "      <td>Indianapolis Intl</td>\n",
       "      <td>2013-10-14 11:00:00</td>\n",
       "    </tr>\n",
       "    <tr>\n",
       "      <th>234025</th>\n",
       "      <td>Endeavor Air Inc.</td>\n",
       "      <td>N8646A</td>\n",
       "      <td>John F Kennedy Intl</td>\n",
       "      <td>Philadelphia Intl</td>\n",
       "      <td>2013-06-13 14:00:00</td>\n",
       "    </tr>\n",
       "    <tr>\n",
       "      <th>9240</th>\n",
       "      <td>Envoy Air</td>\n",
       "      <td>N713MQ</td>\n",
       "      <td>La Guardia</td>\n",
       "      <td>Port Columbus Intl</td>\n",
       "      <td>2013-01-11 13:00:00</td>\n",
       "    </tr>\n",
       "    <tr>\n",
       "      <th>231428</th>\n",
       "      <td>Delta Air Lines Inc.</td>\n",
       "      <td>N358NB</td>\n",
       "      <td>La Guardia</td>\n",
       "      <td>Memphis Intl</td>\n",
       "      <td>2013-06-11 06:00:00</td>\n",
       "    </tr>\n",
       "    <tr>\n",
       "      <th>...</th>\n",
       "      <td>...</td>\n",
       "      <td>...</td>\n",
       "      <td>...</td>\n",
       "      <td>...</td>\n",
       "      <td>...</td>\n",
       "    </tr>\n",
       "    <tr>\n",
       "      <th>255024</th>\n",
       "      <td>JetBlue Airways</td>\n",
       "      <td>N591JB</td>\n",
       "      <td>La Guardia</td>\n",
       "      <td>Tampa Intl</td>\n",
       "      <td>2013-07-06 07:00:00</td>\n",
       "    </tr>\n",
       "    <tr>\n",
       "      <th>216054</th>\n",
       "      <td>United Air Lines Inc.</td>\n",
       "      <td>N416UA</td>\n",
       "      <td>Newark Liberty Intl</td>\n",
       "      <td>Seattle Tacoma Intl</td>\n",
       "      <td>2013-05-25 08:00:00</td>\n",
       "    </tr>\n",
       "    <tr>\n",
       "      <th>23799</th>\n",
       "      <td>JetBlue Airways</td>\n",
       "      <td>N529JB</td>\n",
       "      <td>La Guardia</td>\n",
       "      <td>Fort Lauderdale Hollywood Intl</td>\n",
       "      <td>2013-01-28 14:00:00</td>\n",
       "    </tr>\n",
       "    <tr>\n",
       "      <th>99677</th>\n",
       "      <td>JetBlue Airways</td>\n",
       "      <td>N599JB</td>\n",
       "      <td>Newark Liberty Intl</td>\n",
       "      <td>Orlando Intl</td>\n",
       "      <td>2013-12-18 18:00:00</td>\n",
       "    </tr>\n",
       "    <tr>\n",
       "      <th>26732</th>\n",
       "      <td>Delta Air Lines Inc.</td>\n",
       "      <td>N3769L</td>\n",
       "      <td>John F Kennedy Intl</td>\n",
       "      <td>Seattle Tacoma Intl</td>\n",
       "      <td>2013-01-31 18:00:00</td>\n",
       "    </tr>\n",
       "  </tbody>\n",
       "</table>\n",
       "<p>33677 rows × 5 columns</p>\n",
       "</div>"
      ],
      "text/plain": [
       "                         carrier tailnum               origin   \n",
       "23583            JetBlue Airways  N323JB  John F Kennedy Intl  \\\n",
       "39402   ExpressJet Airlines Inc.  N21197  Newark Liberty Intl   \n",
       "234025         Endeavor Air Inc.  N8646A  John F Kennedy Intl   \n",
       "9240                   Envoy Air  N713MQ           La Guardia   \n",
       "231428      Delta Air Lines Inc.  N358NB           La Guardia   \n",
       "...                          ...     ...                  ...   \n",
       "255024           JetBlue Airways  N591JB           La Guardia   \n",
       "216054     United Air Lines Inc.  N416UA  Newark Liberty Intl   \n",
       "23799            JetBlue Airways  N529JB           La Guardia   \n",
       "99677            JetBlue Airways  N599JB  Newark Liberty Intl   \n",
       "26732       Delta Air Lines Inc.  N3769L  John F Kennedy Intl   \n",
       "\n",
       "                                  dest            time_hour  \n",
       "23583                  Burlington Intl  2013-01-28 09:00:00  \n",
       "39402                Indianapolis Intl  2013-10-14 11:00:00  \n",
       "234025               Philadelphia Intl  2013-06-13 14:00:00  \n",
       "9240                Port Columbus Intl  2013-01-11 13:00:00  \n",
       "231428                    Memphis Intl  2013-06-11 06:00:00  \n",
       "...                                ...                  ...  \n",
       "255024                      Tampa Intl  2013-07-06 07:00:00  \n",
       "216054             Seattle Tacoma Intl  2013-05-25 08:00:00  \n",
       "23799   Fort Lauderdale Hollywood Intl  2013-01-28 14:00:00  \n",
       "99677                     Orlando Intl  2013-12-18 18:00:00  \n",
       "26732              Seattle Tacoma Intl  2013-01-31 18:00:00  \n",
       "\n",
       "[33677 rows x 5 columns]"
      ]
     },
     "execution_count": 87,
     "metadata": {},
     "output_type": "execute_result"
    }
   ],
   "source": [
    "df_flights.select_dtypes(include='object')"
   ]
  },
  {
   "attachments": {},
   "cell_type": "markdown",
   "metadata": {},
   "source": [
    "Pay attention! There is something called `NaN` in Pandas and comes from missing values for specific column or characteristic of the flight. \n",
    "\n",
    "For example, we may not have all `tailnum` values for flights in our dataset. What shall we do about it? There are few ways to deal with this, but let's finish with getting the overview of the data."
   ]
  },
  {
   "cell_type": "code",
   "execution_count": 88,
   "metadata": {},
   "outputs": [
    {
     "data": {
      "text/html": [
       "<div>\n",
       "<style scoped>\n",
       "    .dataframe tbody tr th:only-of-type {\n",
       "        vertical-align: middle;\n",
       "    }\n",
       "\n",
       "    .dataframe tbody tr th {\n",
       "        vertical-align: top;\n",
       "    }\n",
       "\n",
       "    .dataframe thead th {\n",
       "        text-align: right;\n",
       "    }\n",
       "</style>\n",
       "<table border=\"1\" class=\"dataframe\">\n",
       "  <thead>\n",
       "    <tr style=\"text-align: right;\">\n",
       "      <th></th>\n",
       "      <th>Unnamed: 0</th>\n",
       "      <th>year</th>\n",
       "      <th>month</th>\n",
       "      <th>day</th>\n",
       "      <th>dep_time</th>\n",
       "      <th>sched_dep_time</th>\n",
       "      <th>dep_delay</th>\n",
       "      <th>arr_time</th>\n",
       "      <th>sched_arr_time</th>\n",
       "      <th>arr_delay</th>\n",
       "      <th>flight</th>\n",
       "      <th>air_time</th>\n",
       "      <th>distance</th>\n",
       "      <th>hour</th>\n",
       "      <th>minute</th>\n",
       "    </tr>\n",
       "  </thead>\n",
       "  <tbody>\n",
       "    <tr>\n",
       "      <th>23583</th>\n",
       "      <td>23583</td>\n",
       "      <td>2013</td>\n",
       "      <td>1</td>\n",
       "      <td>28</td>\n",
       "      <td>858.0</td>\n",
       "      <td>905</td>\n",
       "      <td>-7.0</td>\n",
       "      <td>1004.0</td>\n",
       "      <td>1023</td>\n",
       "      <td>-19.0</td>\n",
       "      <td>56</td>\n",
       "      <td>48.0</td>\n",
       "      <td>266</td>\n",
       "      <td>9</td>\n",
       "      <td>5</td>\n",
       "    </tr>\n",
       "    <tr>\n",
       "      <th>39402</th>\n",
       "      <td>39402</td>\n",
       "      <td>2013</td>\n",
       "      <td>10</td>\n",
       "      <td>14</td>\n",
       "      <td>1138.0</td>\n",
       "      <td>1130</td>\n",
       "      <td>8.0</td>\n",
       "      <td>1334.0</td>\n",
       "      <td>1338</td>\n",
       "      <td>-4.0</td>\n",
       "      <td>4445</td>\n",
       "      <td>94.0</td>\n",
       "      <td>645</td>\n",
       "      <td>11</td>\n",
       "      <td>30</td>\n",
       "    </tr>\n",
       "    <tr>\n",
       "      <th>234025</th>\n",
       "      <td>234025</td>\n",
       "      <td>2013</td>\n",
       "      <td>6</td>\n",
       "      <td>13</td>\n",
       "      <td>1753.0</td>\n",
       "      <td>1455</td>\n",
       "      <td>178.0</td>\n",
       "      <td>NaN</td>\n",
       "      <td>1611</td>\n",
       "      <td>NaN</td>\n",
       "      <td>4280</td>\n",
       "      <td>NaN</td>\n",
       "      <td>94</td>\n",
       "      <td>14</td>\n",
       "      <td>55</td>\n",
       "    </tr>\n",
       "    <tr>\n",
       "      <th>9240</th>\n",
       "      <td>9240</td>\n",
       "      <td>2013</td>\n",
       "      <td>1</td>\n",
       "      <td>11</td>\n",
       "      <td>1248.0</td>\n",
       "      <td>1300</td>\n",
       "      <td>-12.0</td>\n",
       "      <td>1438.0</td>\n",
       "      <td>1450</td>\n",
       "      <td>-12.0</td>\n",
       "      <td>4426</td>\n",
       "      <td>83.0</td>\n",
       "      <td>479</td>\n",
       "      <td>13</td>\n",
       "      <td>0</td>\n",
       "    </tr>\n",
       "    <tr>\n",
       "      <th>231428</th>\n",
       "      <td>231428</td>\n",
       "      <td>2013</td>\n",
       "      <td>6</td>\n",
       "      <td>11</td>\n",
       "      <td>557.0</td>\n",
       "      <td>605</td>\n",
       "      <td>-8.0</td>\n",
       "      <td>731.0</td>\n",
       "      <td>749</td>\n",
       "      <td>-18.0</td>\n",
       "      <td>1279</td>\n",
       "      <td>131.0</td>\n",
       "      <td>963</td>\n",
       "      <td>6</td>\n",
       "      <td>5</td>\n",
       "    </tr>\n",
       "    <tr>\n",
       "      <th>...</th>\n",
       "      <td>...</td>\n",
       "      <td>...</td>\n",
       "      <td>...</td>\n",
       "      <td>...</td>\n",
       "      <td>...</td>\n",
       "      <td>...</td>\n",
       "      <td>...</td>\n",
       "      <td>...</td>\n",
       "      <td>...</td>\n",
       "      <td>...</td>\n",
       "      <td>...</td>\n",
       "      <td>...</td>\n",
       "      <td>...</td>\n",
       "      <td>...</td>\n",
       "      <td>...</td>\n",
       "    </tr>\n",
       "    <tr>\n",
       "      <th>255024</th>\n",
       "      <td>255024</td>\n",
       "      <td>2013</td>\n",
       "      <td>7</td>\n",
       "      <td>6</td>\n",
       "      <td>748.0</td>\n",
       "      <td>750</td>\n",
       "      <td>-2.0</td>\n",
       "      <td>1032.0</td>\n",
       "      <td>1041</td>\n",
       "      <td>-9.0</td>\n",
       "      <td>1717</td>\n",
       "      <td>133.0</td>\n",
       "      <td>1010</td>\n",
       "      <td>7</td>\n",
       "      <td>50</td>\n",
       "    </tr>\n",
       "    <tr>\n",
       "      <th>216054</th>\n",
       "      <td>216054</td>\n",
       "      <td>2013</td>\n",
       "      <td>5</td>\n",
       "      <td>25</td>\n",
       "      <td>838.0</td>\n",
       "      <td>840</td>\n",
       "      <td>-2.0</td>\n",
       "      <td>1144.0</td>\n",
       "      <td>1140</td>\n",
       "      <td>4.0</td>\n",
       "      <td>339</td>\n",
       "      <td>318.0</td>\n",
       "      <td>2402</td>\n",
       "      <td>8</td>\n",
       "      <td>40</td>\n",
       "    </tr>\n",
       "    <tr>\n",
       "      <th>23799</th>\n",
       "      <td>23799</td>\n",
       "      <td>2013</td>\n",
       "      <td>1</td>\n",
       "      <td>28</td>\n",
       "      <td>1412.0</td>\n",
       "      <td>1415</td>\n",
       "      <td>-3.0</td>\n",
       "      <td>1726.0</td>\n",
       "      <td>1724</td>\n",
       "      <td>2.0</td>\n",
       "      <td>377</td>\n",
       "      <td>149.0</td>\n",
       "      <td>1076</td>\n",
       "      <td>14</td>\n",
       "      <td>15</td>\n",
       "    </tr>\n",
       "    <tr>\n",
       "      <th>99677</th>\n",
       "      <td>99677</td>\n",
       "      <td>2013</td>\n",
       "      <td>12</td>\n",
       "      <td>18</td>\n",
       "      <td>1913.0</td>\n",
       "      <td>1859</td>\n",
       "      <td>14.0</td>\n",
       "      <td>2153.0</td>\n",
       "      <td>2150</td>\n",
       "      <td>3.0</td>\n",
       "      <td>327</td>\n",
       "      <td>125.0</td>\n",
       "      <td>937</td>\n",
       "      <td>18</td>\n",
       "      <td>59</td>\n",
       "    </tr>\n",
       "    <tr>\n",
       "      <th>26732</th>\n",
       "      <td>26732</td>\n",
       "      <td>2013</td>\n",
       "      <td>1</td>\n",
       "      <td>31</td>\n",
       "      <td>1833.0</td>\n",
       "      <td>1835</td>\n",
       "      <td>-2.0</td>\n",
       "      <td>2214.0</td>\n",
       "      <td>2212</td>\n",
       "      <td>2.0</td>\n",
       "      <td>1643</td>\n",
       "      <td>337.0</td>\n",
       "      <td>2422</td>\n",
       "      <td>18</td>\n",
       "      <td>35</td>\n",
       "    </tr>\n",
       "  </tbody>\n",
       "</table>\n",
       "<p>33677 rows × 15 columns</p>\n",
       "</div>"
      ],
      "text/plain": [
       "        Unnamed: 0  year  month  day  dep_time  sched_dep_time  dep_delay   \n",
       "23583        23583  2013      1   28     858.0             905       -7.0  \\\n",
       "39402        39402  2013     10   14    1138.0            1130        8.0   \n",
       "234025      234025  2013      6   13    1753.0            1455      178.0   \n",
       "9240          9240  2013      1   11    1248.0            1300      -12.0   \n",
       "231428      231428  2013      6   11     557.0             605       -8.0   \n",
       "...            ...   ...    ...  ...       ...             ...        ...   \n",
       "255024      255024  2013      7    6     748.0             750       -2.0   \n",
       "216054      216054  2013      5   25     838.0             840       -2.0   \n",
       "23799        23799  2013      1   28    1412.0            1415       -3.0   \n",
       "99677        99677  2013     12   18    1913.0            1859       14.0   \n",
       "26732        26732  2013      1   31    1833.0            1835       -2.0   \n",
       "\n",
       "        arr_time  sched_arr_time  arr_delay  flight  air_time  distance  hour   \n",
       "23583     1004.0            1023      -19.0      56      48.0       266     9  \\\n",
       "39402     1334.0            1338       -4.0    4445      94.0       645    11   \n",
       "234025       NaN            1611        NaN    4280       NaN        94    14   \n",
       "9240      1438.0            1450      -12.0    4426      83.0       479    13   \n",
       "231428     731.0             749      -18.0    1279     131.0       963     6   \n",
       "...          ...             ...        ...     ...       ...       ...   ...   \n",
       "255024    1032.0            1041       -9.0    1717     133.0      1010     7   \n",
       "216054    1144.0            1140        4.0     339     318.0      2402     8   \n",
       "23799     1726.0            1724        2.0     377     149.0      1076    14   \n",
       "99677     2153.0            2150        3.0     327     125.0       937    18   \n",
       "26732     2214.0            2212        2.0    1643     337.0      2422    18   \n",
       "\n",
       "        minute  \n",
       "23583        5  \n",
       "39402       30  \n",
       "234025      55  \n",
       "9240         0  \n",
       "231428       5  \n",
       "...        ...  \n",
       "255024      50  \n",
       "216054      40  \n",
       "23799       15  \n",
       "99677       59  \n",
       "26732       35  \n",
       "\n",
       "[33677 rows x 15 columns]"
      ]
     },
     "execution_count": 88,
     "metadata": {},
     "output_type": "execute_result"
    }
   ],
   "source": [
    "df_flights.select_dtypes(exclude='object')"
   ]
  },
  {
   "attachments": {},
   "cell_type": "markdown",
   "metadata": {},
   "source": [
    "Here we see a lot of `NaN` values. What can we do with these?\n",
    "\n",
    "There is a way to get the overview of the number of `NaN` (missing) values in our dataset."
   ]
  },
  {
   "cell_type": "code",
   "execution_count": 89,
   "metadata": {},
   "outputs": [
    {
     "data": {
      "text/html": [
       "<div>\n",
       "<style scoped>\n",
       "    .dataframe tbody tr th:only-of-type {\n",
       "        vertical-align: middle;\n",
       "    }\n",
       "\n",
       "    .dataframe tbody tr th {\n",
       "        vertical-align: top;\n",
       "    }\n",
       "\n",
       "    .dataframe thead th {\n",
       "        text-align: right;\n",
       "    }\n",
       "</style>\n",
       "<table border=\"1\" class=\"dataframe\">\n",
       "  <thead>\n",
       "    <tr style=\"text-align: right;\">\n",
       "      <th></th>\n",
       "      <th>Unnamed: 0</th>\n",
       "      <th>year</th>\n",
       "      <th>month</th>\n",
       "      <th>day</th>\n",
       "      <th>dep_time</th>\n",
       "      <th>sched_dep_time</th>\n",
       "      <th>dep_delay</th>\n",
       "      <th>arr_time</th>\n",
       "      <th>sched_arr_time</th>\n",
       "      <th>arr_delay</th>\n",
       "      <th>carrier</th>\n",
       "      <th>flight</th>\n",
       "      <th>tailnum</th>\n",
       "      <th>origin</th>\n",
       "      <th>dest</th>\n",
       "      <th>air_time</th>\n",
       "      <th>distance</th>\n",
       "      <th>hour</th>\n",
       "      <th>minute</th>\n",
       "      <th>time_hour</th>\n",
       "    </tr>\n",
       "  </thead>\n",
       "  <tbody>\n",
       "    <tr>\n",
       "      <th>23583</th>\n",
       "      <td>False</td>\n",
       "      <td>False</td>\n",
       "      <td>False</td>\n",
       "      <td>False</td>\n",
       "      <td>False</td>\n",
       "      <td>False</td>\n",
       "      <td>False</td>\n",
       "      <td>False</td>\n",
       "      <td>False</td>\n",
       "      <td>False</td>\n",
       "      <td>False</td>\n",
       "      <td>False</td>\n",
       "      <td>False</td>\n",
       "      <td>False</td>\n",
       "      <td>False</td>\n",
       "      <td>False</td>\n",
       "      <td>False</td>\n",
       "      <td>False</td>\n",
       "      <td>False</td>\n",
       "      <td>False</td>\n",
       "    </tr>\n",
       "    <tr>\n",
       "      <th>39402</th>\n",
       "      <td>False</td>\n",
       "      <td>False</td>\n",
       "      <td>False</td>\n",
       "      <td>False</td>\n",
       "      <td>False</td>\n",
       "      <td>False</td>\n",
       "      <td>False</td>\n",
       "      <td>False</td>\n",
       "      <td>False</td>\n",
       "      <td>False</td>\n",
       "      <td>False</td>\n",
       "      <td>False</td>\n",
       "      <td>False</td>\n",
       "      <td>False</td>\n",
       "      <td>False</td>\n",
       "      <td>False</td>\n",
       "      <td>False</td>\n",
       "      <td>False</td>\n",
       "      <td>False</td>\n",
       "      <td>False</td>\n",
       "    </tr>\n",
       "    <tr>\n",
       "      <th>234025</th>\n",
       "      <td>False</td>\n",
       "      <td>False</td>\n",
       "      <td>False</td>\n",
       "      <td>False</td>\n",
       "      <td>False</td>\n",
       "      <td>False</td>\n",
       "      <td>False</td>\n",
       "      <td>True</td>\n",
       "      <td>False</td>\n",
       "      <td>True</td>\n",
       "      <td>False</td>\n",
       "      <td>False</td>\n",
       "      <td>False</td>\n",
       "      <td>False</td>\n",
       "      <td>False</td>\n",
       "      <td>True</td>\n",
       "      <td>False</td>\n",
       "      <td>False</td>\n",
       "      <td>False</td>\n",
       "      <td>False</td>\n",
       "    </tr>\n",
       "    <tr>\n",
       "      <th>9240</th>\n",
       "      <td>False</td>\n",
       "      <td>False</td>\n",
       "      <td>False</td>\n",
       "      <td>False</td>\n",
       "      <td>False</td>\n",
       "      <td>False</td>\n",
       "      <td>False</td>\n",
       "      <td>False</td>\n",
       "      <td>False</td>\n",
       "      <td>False</td>\n",
       "      <td>False</td>\n",
       "      <td>False</td>\n",
       "      <td>False</td>\n",
       "      <td>False</td>\n",
       "      <td>False</td>\n",
       "      <td>False</td>\n",
       "      <td>False</td>\n",
       "      <td>False</td>\n",
       "      <td>False</td>\n",
       "      <td>False</td>\n",
       "    </tr>\n",
       "    <tr>\n",
       "      <th>231428</th>\n",
       "      <td>False</td>\n",
       "      <td>False</td>\n",
       "      <td>False</td>\n",
       "      <td>False</td>\n",
       "      <td>False</td>\n",
       "      <td>False</td>\n",
       "      <td>False</td>\n",
       "      <td>False</td>\n",
       "      <td>False</td>\n",
       "      <td>False</td>\n",
       "      <td>False</td>\n",
       "      <td>False</td>\n",
       "      <td>False</td>\n",
       "      <td>False</td>\n",
       "      <td>False</td>\n",
       "      <td>False</td>\n",
       "      <td>False</td>\n",
       "      <td>False</td>\n",
       "      <td>False</td>\n",
       "      <td>False</td>\n",
       "    </tr>\n",
       "    <tr>\n",
       "      <th>...</th>\n",
       "      <td>...</td>\n",
       "      <td>...</td>\n",
       "      <td>...</td>\n",
       "      <td>...</td>\n",
       "      <td>...</td>\n",
       "      <td>...</td>\n",
       "      <td>...</td>\n",
       "      <td>...</td>\n",
       "      <td>...</td>\n",
       "      <td>...</td>\n",
       "      <td>...</td>\n",
       "      <td>...</td>\n",
       "      <td>...</td>\n",
       "      <td>...</td>\n",
       "      <td>...</td>\n",
       "      <td>...</td>\n",
       "      <td>...</td>\n",
       "      <td>...</td>\n",
       "      <td>...</td>\n",
       "      <td>...</td>\n",
       "    </tr>\n",
       "    <tr>\n",
       "      <th>255024</th>\n",
       "      <td>False</td>\n",
       "      <td>False</td>\n",
       "      <td>False</td>\n",
       "      <td>False</td>\n",
       "      <td>False</td>\n",
       "      <td>False</td>\n",
       "      <td>False</td>\n",
       "      <td>False</td>\n",
       "      <td>False</td>\n",
       "      <td>False</td>\n",
       "      <td>False</td>\n",
       "      <td>False</td>\n",
       "      <td>False</td>\n",
       "      <td>False</td>\n",
       "      <td>False</td>\n",
       "      <td>False</td>\n",
       "      <td>False</td>\n",
       "      <td>False</td>\n",
       "      <td>False</td>\n",
       "      <td>False</td>\n",
       "    </tr>\n",
       "    <tr>\n",
       "      <th>216054</th>\n",
       "      <td>False</td>\n",
       "      <td>False</td>\n",
       "      <td>False</td>\n",
       "      <td>False</td>\n",
       "      <td>False</td>\n",
       "      <td>False</td>\n",
       "      <td>False</td>\n",
       "      <td>False</td>\n",
       "      <td>False</td>\n",
       "      <td>False</td>\n",
       "      <td>False</td>\n",
       "      <td>False</td>\n",
       "      <td>False</td>\n",
       "      <td>False</td>\n",
       "      <td>False</td>\n",
       "      <td>False</td>\n",
       "      <td>False</td>\n",
       "      <td>False</td>\n",
       "      <td>False</td>\n",
       "      <td>False</td>\n",
       "    </tr>\n",
       "    <tr>\n",
       "      <th>23799</th>\n",
       "      <td>False</td>\n",
       "      <td>False</td>\n",
       "      <td>False</td>\n",
       "      <td>False</td>\n",
       "      <td>False</td>\n",
       "      <td>False</td>\n",
       "      <td>False</td>\n",
       "      <td>False</td>\n",
       "      <td>False</td>\n",
       "      <td>False</td>\n",
       "      <td>False</td>\n",
       "      <td>False</td>\n",
       "      <td>False</td>\n",
       "      <td>False</td>\n",
       "      <td>False</td>\n",
       "      <td>False</td>\n",
       "      <td>False</td>\n",
       "      <td>False</td>\n",
       "      <td>False</td>\n",
       "      <td>False</td>\n",
       "    </tr>\n",
       "    <tr>\n",
       "      <th>99677</th>\n",
       "      <td>False</td>\n",
       "      <td>False</td>\n",
       "      <td>False</td>\n",
       "      <td>False</td>\n",
       "      <td>False</td>\n",
       "      <td>False</td>\n",
       "      <td>False</td>\n",
       "      <td>False</td>\n",
       "      <td>False</td>\n",
       "      <td>False</td>\n",
       "      <td>False</td>\n",
       "      <td>False</td>\n",
       "      <td>False</td>\n",
       "      <td>False</td>\n",
       "      <td>False</td>\n",
       "      <td>False</td>\n",
       "      <td>False</td>\n",
       "      <td>False</td>\n",
       "      <td>False</td>\n",
       "      <td>False</td>\n",
       "    </tr>\n",
       "    <tr>\n",
       "      <th>26732</th>\n",
       "      <td>False</td>\n",
       "      <td>False</td>\n",
       "      <td>False</td>\n",
       "      <td>False</td>\n",
       "      <td>False</td>\n",
       "      <td>False</td>\n",
       "      <td>False</td>\n",
       "      <td>False</td>\n",
       "      <td>False</td>\n",
       "      <td>False</td>\n",
       "      <td>False</td>\n",
       "      <td>False</td>\n",
       "      <td>False</td>\n",
       "      <td>False</td>\n",
       "      <td>False</td>\n",
       "      <td>False</td>\n",
       "      <td>False</td>\n",
       "      <td>False</td>\n",
       "      <td>False</td>\n",
       "      <td>False</td>\n",
       "    </tr>\n",
       "  </tbody>\n",
       "</table>\n",
       "<p>33677 rows × 20 columns</p>\n",
       "</div>"
      ],
      "text/plain": [
       "        Unnamed: 0   year  month    day  dep_time  sched_dep_time  dep_delay   \n",
       "23583        False  False  False  False     False           False      False  \\\n",
       "39402        False  False  False  False     False           False      False   \n",
       "234025       False  False  False  False     False           False      False   \n",
       "9240         False  False  False  False     False           False      False   \n",
       "231428       False  False  False  False     False           False      False   \n",
       "...            ...    ...    ...    ...       ...             ...        ...   \n",
       "255024       False  False  False  False     False           False      False   \n",
       "216054       False  False  False  False     False           False      False   \n",
       "23799        False  False  False  False     False           False      False   \n",
       "99677        False  False  False  False     False           False      False   \n",
       "26732        False  False  False  False     False           False      False   \n",
       "\n",
       "        arr_time  sched_arr_time  arr_delay  carrier  flight  tailnum  origin   \n",
       "23583      False           False      False    False   False    False   False  \\\n",
       "39402      False           False      False    False   False    False   False   \n",
       "234025      True           False       True    False   False    False   False   \n",
       "9240       False           False      False    False   False    False   False   \n",
       "231428     False           False      False    False   False    False   False   \n",
       "...          ...             ...        ...      ...     ...      ...     ...   \n",
       "255024     False           False      False    False   False    False   False   \n",
       "216054     False           False      False    False   False    False   False   \n",
       "23799      False           False      False    False   False    False   False   \n",
       "99677      False           False      False    False   False    False   False   \n",
       "26732      False           False      False    False   False    False   False   \n",
       "\n",
       "         dest  air_time  distance   hour  minute  time_hour  \n",
       "23583   False     False     False  False   False      False  \n",
       "39402   False     False     False  False   False      False  \n",
       "234025  False      True     False  False   False      False  \n",
       "9240    False     False     False  False   False      False  \n",
       "231428  False     False     False  False   False      False  \n",
       "...       ...       ...       ...    ...     ...        ...  \n",
       "255024  False     False     False  False   False      False  \n",
       "216054  False     False     False  False   False      False  \n",
       "23799   False     False     False  False   False      False  \n",
       "99677   False     False     False  False   False      False  \n",
       "26732   False     False     False  False   False      False  \n",
       "\n",
       "[33677 rows x 20 columns]"
      ]
     },
     "execution_count": 89,
     "metadata": {},
     "output_type": "execute_result"
    }
   ],
   "source": [
    "df_flights.isna()"
   ]
  },
  {
   "attachments": {},
   "cell_type": "markdown",
   "metadata": {},
   "source": [
    "This DataFrame method returns a new DataFrame that contains boolean values instead of original ones. And here, `True` boolean values mark the cells where we have missing data. So what now. Well, if you know Python you will know that next thing is perfectly okay in Python:"
   ]
  },
  {
   "cell_type": "code",
   "execution_count": 90,
   "metadata": {},
   "outputs": [
    {
     "data": {
      "text/plain": [
       "2"
      ]
     },
     "execution_count": 90,
     "metadata": {},
     "output_type": "execute_result"
    }
   ],
   "source": [
    "True +  True"
   ]
  },
  {
   "attachments": {},
   "cell_type": "markdown",
   "metadata": {},
   "source": [
    "So, we are going to sum `True` values for each column and get the number of missing values for each column. Cool, right?\n",
    "\n",
    "But how we do this?\n",
    "\n",
    "Easy:"
   ]
  },
  {
   "cell_type": "code",
   "execution_count": 91,
   "metadata": {},
   "outputs": [
    {
     "data": {
      "text/plain": [
       "23583     False\n",
       "39402     False\n",
       "234025    False\n",
       "9240      False\n",
       "231428    False\n",
       "          ...  \n",
       "255024    False\n",
       "216054    False\n",
       "23799     False\n",
       "99677     False\n",
       "26732     False\n",
       "Name: tailnum, Length: 33677, dtype: bool"
      ]
     },
     "execution_count": 91,
     "metadata": {},
     "output_type": "execute_result"
    }
   ],
   "source": [
    "df_flights['tailnum'].isna()"
   ]
  },
  {
   "cell_type": "code",
   "execution_count": 92,
   "metadata": {},
   "outputs": [
    {
     "data": {
      "text/plain": [
       "243"
      ]
     },
     "execution_count": 92,
     "metadata": {},
     "output_type": "execute_result"
    }
   ],
   "source": [
    "df_flights['tailnum'].isna().sum()"
   ]
  },
  {
   "attachments": {},
   "cell_type": "markdown",
   "metadata": {},
   "source": [
    "Now, let's do it over all columns:"
   ]
  },
  {
   "cell_type": "code",
   "execution_count": 93,
   "metadata": {},
   "outputs": [
    {
     "name": "stdout",
     "output_type": "stream",
     "text": [
      "Unnamed: 0 0\n",
      "year 0\n",
      "month 0\n",
      "day 0\n",
      "dep_time 830\n",
      "sched_dep_time 0\n",
      "dep_delay 830\n",
      "arr_time 875\n",
      "sched_arr_time 0\n",
      "arr_delay 957\n",
      "carrier 0\n",
      "flight 0\n",
      "tailnum 243\n",
      "origin 0\n",
      "dest 0\n",
      "air_time 957\n",
      "distance 0\n",
      "hour 0\n",
      "minute 0\n",
      "time_hour 0\n"
     ]
    }
   ],
   "source": [
    "for column in df_flights.columns:\n",
    "    print(column, df_flights[column].isna().sum())"
   ]
  },
  {
   "attachments": {},
   "cell_type": "markdown",
   "metadata": {},
   "source": [
    "Easier:"
   ]
  },
  {
   "cell_type": "code",
   "execution_count": 94,
   "metadata": {},
   "outputs": [
    {
     "data": {
      "text/plain": [
       "Unnamed: 0          0\n",
       "year                0\n",
       "month               0\n",
       "day                 0\n",
       "dep_time          830\n",
       "sched_dep_time      0\n",
       "dep_delay         830\n",
       "arr_time          875\n",
       "sched_arr_time      0\n",
       "arr_delay         957\n",
       "carrier             0\n",
       "flight              0\n",
       "tailnum           243\n",
       "origin              0\n",
       "dest                0\n",
       "air_time          957\n",
       "distance            0\n",
       "hour                0\n",
       "minute              0\n",
       "time_hour           0\n",
       "dtype: int64"
      ]
     },
     "execution_count": 94,
     "metadata": {},
     "output_type": "execute_result"
    }
   ],
   "source": [
    "df_flights.isna().sum()"
   ]
  },
  {
   "attachments": {},
   "cell_type": "markdown",
   "metadata": {},
   "source": [
    "These absolute values of number of missing values per column are cool. But can we get the percentage? Percentage would be in regard to the number of all rows in our dataset, right?\n",
    "\n",
    "How did we get size of our DataFrame? `df.shape`? Yes! And first value is the number of rows."
   ]
  },
  {
   "cell_type": "code",
   "execution_count": 95,
   "metadata": {},
   "outputs": [
    {
     "data": {
      "text/plain": [
       "Unnamed: 0        0.000000\n",
       "year              0.000000\n",
       "month             0.000000\n",
       "day               0.000000\n",
       "dep_time          0.024646\n",
       "sched_dep_time    0.000000\n",
       "dep_delay         0.024646\n",
       "arr_time          0.025982\n",
       "sched_arr_time    0.000000\n",
       "arr_delay         0.028417\n",
       "carrier           0.000000\n",
       "flight            0.000000\n",
       "tailnum           0.007216\n",
       "origin            0.000000\n",
       "dest              0.000000\n",
       "air_time          0.028417\n",
       "distance          0.000000\n",
       "hour              0.000000\n",
       "minute            0.000000\n",
       "time_hour         0.000000\n",
       "dtype: float64"
      ]
     },
     "execution_count": 95,
     "metadata": {},
     "output_type": "execute_result"
    }
   ],
   "source": [
    "df_flights.isna().sum() / df_flights.shape[0]"
   ]
  },
  {
   "attachments": {},
   "cell_type": "markdown",
   "metadata": {},
   "source": [
    "Okay, so at most we have around 2% of missing values.\n",
    "\n",
    "Let's drop these right away."
   ]
  },
  {
   "cell_type": "code",
   "execution_count": 96,
   "metadata": {},
   "outputs": [
    {
     "data": {
      "text/html": [
       "<div>\n",
       "<style scoped>\n",
       "    .dataframe tbody tr th:only-of-type {\n",
       "        vertical-align: middle;\n",
       "    }\n",
       "\n",
       "    .dataframe tbody tr th {\n",
       "        vertical-align: top;\n",
       "    }\n",
       "\n",
       "    .dataframe thead th {\n",
       "        text-align: right;\n",
       "    }\n",
       "</style>\n",
       "<table border=\"1\" class=\"dataframe\">\n",
       "  <thead>\n",
       "    <tr style=\"text-align: right;\">\n",
       "      <th></th>\n",
       "      <th>Unnamed: 0</th>\n",
       "      <th>year</th>\n",
       "      <th>month</th>\n",
       "      <th>day</th>\n",
       "      <th>dep_time</th>\n",
       "      <th>sched_dep_time</th>\n",
       "      <th>dep_delay</th>\n",
       "      <th>arr_time</th>\n",
       "      <th>sched_arr_time</th>\n",
       "      <th>arr_delay</th>\n",
       "      <th>carrier</th>\n",
       "      <th>flight</th>\n",
       "      <th>tailnum</th>\n",
       "      <th>origin</th>\n",
       "      <th>dest</th>\n",
       "      <th>air_time</th>\n",
       "      <th>distance</th>\n",
       "      <th>hour</th>\n",
       "      <th>minute</th>\n",
       "      <th>time_hour</th>\n",
       "    </tr>\n",
       "  </thead>\n",
       "  <tbody>\n",
       "    <tr>\n",
       "      <th>23583</th>\n",
       "      <td>23583</td>\n",
       "      <td>2013</td>\n",
       "      <td>1</td>\n",
       "      <td>28</td>\n",
       "      <td>858.0</td>\n",
       "      <td>905</td>\n",
       "      <td>-7.0</td>\n",
       "      <td>1004.0</td>\n",
       "      <td>1023</td>\n",
       "      <td>-19.0</td>\n",
       "      <td>JetBlue Airways</td>\n",
       "      <td>56</td>\n",
       "      <td>N323JB</td>\n",
       "      <td>John F Kennedy Intl</td>\n",
       "      <td>Burlington Intl</td>\n",
       "      <td>48.0</td>\n",
       "      <td>266</td>\n",
       "      <td>9</td>\n",
       "      <td>5</td>\n",
       "      <td>2013-01-28 09:00:00</td>\n",
       "    </tr>\n",
       "    <tr>\n",
       "      <th>39402</th>\n",
       "      <td>39402</td>\n",
       "      <td>2013</td>\n",
       "      <td>10</td>\n",
       "      <td>14</td>\n",
       "      <td>1138.0</td>\n",
       "      <td>1130</td>\n",
       "      <td>8.0</td>\n",
       "      <td>1334.0</td>\n",
       "      <td>1338</td>\n",
       "      <td>-4.0</td>\n",
       "      <td>ExpressJet Airlines Inc.</td>\n",
       "      <td>4445</td>\n",
       "      <td>N21197</td>\n",
       "      <td>Newark Liberty Intl</td>\n",
       "      <td>Indianapolis Intl</td>\n",
       "      <td>94.0</td>\n",
       "      <td>645</td>\n",
       "      <td>11</td>\n",
       "      <td>30</td>\n",
       "      <td>2013-10-14 11:00:00</td>\n",
       "    </tr>\n",
       "    <tr>\n",
       "      <th>9240</th>\n",
       "      <td>9240</td>\n",
       "      <td>2013</td>\n",
       "      <td>1</td>\n",
       "      <td>11</td>\n",
       "      <td>1248.0</td>\n",
       "      <td>1300</td>\n",
       "      <td>-12.0</td>\n",
       "      <td>1438.0</td>\n",
       "      <td>1450</td>\n",
       "      <td>-12.0</td>\n",
       "      <td>Envoy Air</td>\n",
       "      <td>4426</td>\n",
       "      <td>N713MQ</td>\n",
       "      <td>La Guardia</td>\n",
       "      <td>Port Columbus Intl</td>\n",
       "      <td>83.0</td>\n",
       "      <td>479</td>\n",
       "      <td>13</td>\n",
       "      <td>0</td>\n",
       "      <td>2013-01-11 13:00:00</td>\n",
       "    </tr>\n",
       "    <tr>\n",
       "      <th>231428</th>\n",
       "      <td>231428</td>\n",
       "      <td>2013</td>\n",
       "      <td>6</td>\n",
       "      <td>11</td>\n",
       "      <td>557.0</td>\n",
       "      <td>605</td>\n",
       "      <td>-8.0</td>\n",
       "      <td>731.0</td>\n",
       "      <td>749</td>\n",
       "      <td>-18.0</td>\n",
       "      <td>Delta Air Lines Inc.</td>\n",
       "      <td>1279</td>\n",
       "      <td>N358NB</td>\n",
       "      <td>La Guardia</td>\n",
       "      <td>Memphis Intl</td>\n",
       "      <td>131.0</td>\n",
       "      <td>963</td>\n",
       "      <td>6</td>\n",
       "      <td>5</td>\n",
       "      <td>2013-06-11 06:00:00</td>\n",
       "    </tr>\n",
       "    <tr>\n",
       "      <th>88913</th>\n",
       "      <td>88913</td>\n",
       "      <td>2013</td>\n",
       "      <td>12</td>\n",
       "      <td>6</td>\n",
       "      <td>2115.0</td>\n",
       "      <td>2115</td>\n",
       "      <td>0.0</td>\n",
       "      <td>2340.0</td>\n",
       "      <td>2315</td>\n",
       "      <td>25.0</td>\n",
       "      <td>Envoy Air</td>\n",
       "      <td>3384</td>\n",
       "      <td>N531MQ</td>\n",
       "      <td>La Guardia</td>\n",
       "      <td>Charlotte Douglas Intl</td>\n",
       "      <td>93.0</td>\n",
       "      <td>544</td>\n",
       "      <td>21</td>\n",
       "      <td>15</td>\n",
       "      <td>2013-12-06 21:00:00</td>\n",
       "    </tr>\n",
       "    <tr>\n",
       "      <th>...</th>\n",
       "      <td>...</td>\n",
       "      <td>...</td>\n",
       "      <td>...</td>\n",
       "      <td>...</td>\n",
       "      <td>...</td>\n",
       "      <td>...</td>\n",
       "      <td>...</td>\n",
       "      <td>...</td>\n",
       "      <td>...</td>\n",
       "      <td>...</td>\n",
       "      <td>...</td>\n",
       "      <td>...</td>\n",
       "      <td>...</td>\n",
       "      <td>...</td>\n",
       "      <td>...</td>\n",
       "      <td>...</td>\n",
       "      <td>...</td>\n",
       "      <td>...</td>\n",
       "      <td>...</td>\n",
       "      <td>...</td>\n",
       "    </tr>\n",
       "    <tr>\n",
       "      <th>255024</th>\n",
       "      <td>255024</td>\n",
       "      <td>2013</td>\n",
       "      <td>7</td>\n",
       "      <td>6</td>\n",
       "      <td>748.0</td>\n",
       "      <td>750</td>\n",
       "      <td>-2.0</td>\n",
       "      <td>1032.0</td>\n",
       "      <td>1041</td>\n",
       "      <td>-9.0</td>\n",
       "      <td>JetBlue Airways</td>\n",
       "      <td>1717</td>\n",
       "      <td>N591JB</td>\n",
       "      <td>La Guardia</td>\n",
       "      <td>Tampa Intl</td>\n",
       "      <td>133.0</td>\n",
       "      <td>1010</td>\n",
       "      <td>7</td>\n",
       "      <td>50</td>\n",
       "      <td>2013-07-06 07:00:00</td>\n",
       "    </tr>\n",
       "    <tr>\n",
       "      <th>216054</th>\n",
       "      <td>216054</td>\n",
       "      <td>2013</td>\n",
       "      <td>5</td>\n",
       "      <td>25</td>\n",
       "      <td>838.0</td>\n",
       "      <td>840</td>\n",
       "      <td>-2.0</td>\n",
       "      <td>1144.0</td>\n",
       "      <td>1140</td>\n",
       "      <td>4.0</td>\n",
       "      <td>United Air Lines Inc.</td>\n",
       "      <td>339</td>\n",
       "      <td>N416UA</td>\n",
       "      <td>Newark Liberty Intl</td>\n",
       "      <td>Seattle Tacoma Intl</td>\n",
       "      <td>318.0</td>\n",
       "      <td>2402</td>\n",
       "      <td>8</td>\n",
       "      <td>40</td>\n",
       "      <td>2013-05-25 08:00:00</td>\n",
       "    </tr>\n",
       "    <tr>\n",
       "      <th>23799</th>\n",
       "      <td>23799</td>\n",
       "      <td>2013</td>\n",
       "      <td>1</td>\n",
       "      <td>28</td>\n",
       "      <td>1412.0</td>\n",
       "      <td>1415</td>\n",
       "      <td>-3.0</td>\n",
       "      <td>1726.0</td>\n",
       "      <td>1724</td>\n",
       "      <td>2.0</td>\n",
       "      <td>JetBlue Airways</td>\n",
       "      <td>377</td>\n",
       "      <td>N529JB</td>\n",
       "      <td>La Guardia</td>\n",
       "      <td>Fort Lauderdale Hollywood Intl</td>\n",
       "      <td>149.0</td>\n",
       "      <td>1076</td>\n",
       "      <td>14</td>\n",
       "      <td>15</td>\n",
       "      <td>2013-01-28 14:00:00</td>\n",
       "    </tr>\n",
       "    <tr>\n",
       "      <th>99677</th>\n",
       "      <td>99677</td>\n",
       "      <td>2013</td>\n",
       "      <td>12</td>\n",
       "      <td>18</td>\n",
       "      <td>1913.0</td>\n",
       "      <td>1859</td>\n",
       "      <td>14.0</td>\n",
       "      <td>2153.0</td>\n",
       "      <td>2150</td>\n",
       "      <td>3.0</td>\n",
       "      <td>JetBlue Airways</td>\n",
       "      <td>327</td>\n",
       "      <td>N599JB</td>\n",
       "      <td>Newark Liberty Intl</td>\n",
       "      <td>Orlando Intl</td>\n",
       "      <td>125.0</td>\n",
       "      <td>937</td>\n",
       "      <td>18</td>\n",
       "      <td>59</td>\n",
       "      <td>2013-12-18 18:00:00</td>\n",
       "    </tr>\n",
       "    <tr>\n",
       "      <th>26732</th>\n",
       "      <td>26732</td>\n",
       "      <td>2013</td>\n",
       "      <td>1</td>\n",
       "      <td>31</td>\n",
       "      <td>1833.0</td>\n",
       "      <td>1835</td>\n",
       "      <td>-2.0</td>\n",
       "      <td>2214.0</td>\n",
       "      <td>2212</td>\n",
       "      <td>2.0</td>\n",
       "      <td>Delta Air Lines Inc.</td>\n",
       "      <td>1643</td>\n",
       "      <td>N3769L</td>\n",
       "      <td>John F Kennedy Intl</td>\n",
       "      <td>Seattle Tacoma Intl</td>\n",
       "      <td>337.0</td>\n",
       "      <td>2422</td>\n",
       "      <td>18</td>\n",
       "      <td>35</td>\n",
       "      <td>2013-01-31 18:00:00</td>\n",
       "    </tr>\n",
       "  </tbody>\n",
       "</table>\n",
       "<p>32720 rows × 20 columns</p>\n",
       "</div>"
      ],
      "text/plain": [
       "        Unnamed: 0  year  month  day  dep_time  sched_dep_time  dep_delay   \n",
       "23583        23583  2013      1   28     858.0             905       -7.0  \\\n",
       "39402        39402  2013     10   14    1138.0            1130        8.0   \n",
       "9240          9240  2013      1   11    1248.0            1300      -12.0   \n",
       "231428      231428  2013      6   11     557.0             605       -8.0   \n",
       "88913        88913  2013     12    6    2115.0            2115        0.0   \n",
       "...            ...   ...    ...  ...       ...             ...        ...   \n",
       "255024      255024  2013      7    6     748.0             750       -2.0   \n",
       "216054      216054  2013      5   25     838.0             840       -2.0   \n",
       "23799        23799  2013      1   28    1412.0            1415       -3.0   \n",
       "99677        99677  2013     12   18    1913.0            1859       14.0   \n",
       "26732        26732  2013      1   31    1833.0            1835       -2.0   \n",
       "\n",
       "        arr_time  sched_arr_time  arr_delay                   carrier  flight   \n",
       "23583     1004.0            1023      -19.0           JetBlue Airways      56  \\\n",
       "39402     1334.0            1338       -4.0  ExpressJet Airlines Inc.    4445   \n",
       "9240      1438.0            1450      -12.0                 Envoy Air    4426   \n",
       "231428     731.0             749      -18.0      Delta Air Lines Inc.    1279   \n",
       "88913     2340.0            2315       25.0                 Envoy Air    3384   \n",
       "...          ...             ...        ...                       ...     ...   \n",
       "255024    1032.0            1041       -9.0           JetBlue Airways    1717   \n",
       "216054    1144.0            1140        4.0     United Air Lines Inc.     339   \n",
       "23799     1726.0            1724        2.0           JetBlue Airways     377   \n",
       "99677     2153.0            2150        3.0           JetBlue Airways     327   \n",
       "26732     2214.0            2212        2.0      Delta Air Lines Inc.    1643   \n",
       "\n",
       "       tailnum               origin                            dest  air_time   \n",
       "23583   N323JB  John F Kennedy Intl                 Burlington Intl      48.0  \\\n",
       "39402   N21197  Newark Liberty Intl               Indianapolis Intl      94.0   \n",
       "9240    N713MQ           La Guardia              Port Columbus Intl      83.0   \n",
       "231428  N358NB           La Guardia                    Memphis Intl     131.0   \n",
       "88913   N531MQ           La Guardia          Charlotte Douglas Intl      93.0   \n",
       "...        ...                  ...                             ...       ...   \n",
       "255024  N591JB           La Guardia                      Tampa Intl     133.0   \n",
       "216054  N416UA  Newark Liberty Intl             Seattle Tacoma Intl     318.0   \n",
       "23799   N529JB           La Guardia  Fort Lauderdale Hollywood Intl     149.0   \n",
       "99677   N599JB  Newark Liberty Intl                    Orlando Intl     125.0   \n",
       "26732   N3769L  John F Kennedy Intl             Seattle Tacoma Intl     337.0   \n",
       "\n",
       "        distance  hour  minute            time_hour  \n",
       "23583        266     9       5  2013-01-28 09:00:00  \n",
       "39402        645    11      30  2013-10-14 11:00:00  \n",
       "9240         479    13       0  2013-01-11 13:00:00  \n",
       "231428       963     6       5  2013-06-11 06:00:00  \n",
       "88913        544    21      15  2013-12-06 21:00:00  \n",
       "...          ...   ...     ...                  ...  \n",
       "255024      1010     7      50  2013-07-06 07:00:00  \n",
       "216054      2402     8      40  2013-05-25 08:00:00  \n",
       "23799       1076    14      15  2013-01-28 14:00:00  \n",
       "99677        937    18      59  2013-12-18 18:00:00  \n",
       "26732       2422    18      35  2013-01-31 18:00:00  \n",
       "\n",
       "[32720 rows x 20 columns]"
      ]
     },
     "execution_count": 96,
     "metadata": {},
     "output_type": "execute_result"
    }
   ],
   "source": [
    "df_flights.dropna()"
   ]
  },
  {
   "cell_type": "code",
   "execution_count": 97,
   "metadata": {},
   "outputs": [
    {
     "data": {
      "text/plain": [
       "(33677, 20)"
      ]
     },
     "execution_count": 97,
     "metadata": {},
     "output_type": "execute_result"
    }
   ],
   "source": [
    "df_flights.shape"
   ]
  },
  {
   "attachments": {},
   "cell_type": "markdown",
   "metadata": {},
   "source": [
    "Hm, so our DataFrame is the same. Well, `dropna` returns DataFrame, and you either have to assign it to existing variable `df_flights` or use `inplace=True` when calling `dropna`. It is to your preference really."
   ]
  },
  {
   "cell_type": "code",
   "execution_count": 98,
   "metadata": {},
   "outputs": [],
   "source": [
    "df_flights = df_flights.dropna()"
   ]
  },
  {
   "cell_type": "code",
   "execution_count": 99,
   "metadata": {},
   "outputs": [
    {
     "data": {
      "text/plain": [
       "(32720, 20)"
      ]
     },
     "execution_count": 99,
     "metadata": {},
     "output_type": "execute_result"
    }
   ],
   "source": [
    "df_flights.shape"
   ]
  },
  {
   "attachments": {},
   "cell_type": "markdown",
   "metadata": {},
   "source": [
    "This looks fine. Now, let's proceed. There are ways to additionally get insight into your data. We call this a descriptive statistics.\n",
    "\n",
    "First, for numerical data:"
   ]
  },
  {
   "cell_type": "code",
   "execution_count": 100,
   "metadata": {},
   "outputs": [
    {
     "data": {
      "text/html": [
       "<div>\n",
       "<style scoped>\n",
       "    .dataframe tbody tr th:only-of-type {\n",
       "        vertical-align: middle;\n",
       "    }\n",
       "\n",
       "    .dataframe tbody tr th {\n",
       "        vertical-align: top;\n",
       "    }\n",
       "\n",
       "    .dataframe thead th {\n",
       "        text-align: right;\n",
       "    }\n",
       "</style>\n",
       "<table border=\"1\" class=\"dataframe\">\n",
       "  <thead>\n",
       "    <tr style=\"text-align: right;\">\n",
       "      <th></th>\n",
       "      <th>Unnamed: 0</th>\n",
       "      <th>year</th>\n",
       "      <th>month</th>\n",
       "      <th>day</th>\n",
       "      <th>dep_time</th>\n",
       "      <th>sched_dep_time</th>\n",
       "      <th>dep_delay</th>\n",
       "      <th>arr_time</th>\n",
       "      <th>sched_arr_time</th>\n",
       "      <th>arr_delay</th>\n",
       "      <th>flight</th>\n",
       "      <th>air_time</th>\n",
       "      <th>distance</th>\n",
       "      <th>hour</th>\n",
       "      <th>minute</th>\n",
       "    </tr>\n",
       "  </thead>\n",
       "  <tbody>\n",
       "    <tr>\n",
       "      <th>count</th>\n",
       "      <td>32720.000000</td>\n",
       "      <td>32720.0</td>\n",
       "      <td>32720.000000</td>\n",
       "      <td>32720.000000</td>\n",
       "      <td>32720.000000</td>\n",
       "      <td>32720.000000</td>\n",
       "      <td>32720.000000</td>\n",
       "      <td>32720.000000</td>\n",
       "      <td>32720.000000</td>\n",
       "      <td>32720.000000</td>\n",
       "      <td>32720.000000</td>\n",
       "      <td>32720.000000</td>\n",
       "      <td>32720.000000</td>\n",
       "      <td>32720.000000</td>\n",
       "      <td>32720.000000</td>\n",
       "    </tr>\n",
       "    <tr>\n",
       "      <th>mean</th>\n",
       "      <td>168399.898716</td>\n",
       "      <td>2013.0</td>\n",
       "      <td>6.561919</td>\n",
       "      <td>15.820507</td>\n",
       "      <td>1349.137622</td>\n",
       "      <td>1340.136002</td>\n",
       "      <td>12.757121</td>\n",
       "      <td>1503.469163</td>\n",
       "      <td>1533.603637</td>\n",
       "      <td>7.163814</td>\n",
       "      <td>1933.447249</td>\n",
       "      <td>150.919254</td>\n",
       "      <td>1049.896546</td>\n",
       "      <td>13.137317</td>\n",
       "      <td>26.404340</td>\n",
       "    </tr>\n",
       "    <tr>\n",
       "      <th>std</th>\n",
       "      <td>97222.290029</td>\n",
       "      <td>0.0</td>\n",
       "      <td>3.407995</td>\n",
       "      <td>8.747835</td>\n",
       "      <td>488.536898</td>\n",
       "      <td>467.039402</td>\n",
       "      <td>40.139378</td>\n",
       "      <td>531.760895</td>\n",
       "      <td>496.894916</td>\n",
       "      <td>44.594077</td>\n",
       "      <td>1613.735232</td>\n",
       "      <td>93.905681</td>\n",
       "      <td>736.529893</td>\n",
       "      <td>4.657826</td>\n",
       "      <td>19.308877</td>\n",
       "    </tr>\n",
       "    <tr>\n",
       "      <th>min</th>\n",
       "      <td>15.000000</td>\n",
       "      <td>2013.0</td>\n",
       "      <td>1.000000</td>\n",
       "      <td>1.000000</td>\n",
       "      <td>1.000000</td>\n",
       "      <td>500.000000</td>\n",
       "      <td>-23.000000</td>\n",
       "      <td>1.000000</td>\n",
       "      <td>1.000000</td>\n",
       "      <td>-70.000000</td>\n",
       "      <td>1.000000</td>\n",
       "      <td>21.000000</td>\n",
       "      <td>80.000000</td>\n",
       "      <td>5.000000</td>\n",
       "      <td>0.000000</td>\n",
       "    </tr>\n",
       "    <tr>\n",
       "      <th>25%</th>\n",
       "      <td>83473.000000</td>\n",
       "      <td>2013.0</td>\n",
       "      <td>4.000000</td>\n",
       "      <td>8.000000</td>\n",
       "      <td>908.750000</td>\n",
       "      <td>905.000000</td>\n",
       "      <td>-5.000000</td>\n",
       "      <td>1105.000000</td>\n",
       "      <td>1123.000000</td>\n",
       "      <td>-17.000000</td>\n",
       "      <td>544.000000</td>\n",
       "      <td>82.000000</td>\n",
       "      <td>509.000000</td>\n",
       "      <td>9.000000</td>\n",
       "      <td>9.000000</td>\n",
       "    </tr>\n",
       "    <tr>\n",
       "      <th>50%</th>\n",
       "      <td>167839.500000</td>\n",
       "      <td>2013.0</td>\n",
       "      <td>7.000000</td>\n",
       "      <td>16.000000</td>\n",
       "      <td>1402.000000</td>\n",
       "      <td>1358.000000</td>\n",
       "      <td>-2.000000</td>\n",
       "      <td>1536.000000</td>\n",
       "      <td>1555.000000</td>\n",
       "      <td>-5.000000</td>\n",
       "      <td>1473.000000</td>\n",
       "      <td>129.000000</td>\n",
       "      <td>888.000000</td>\n",
       "      <td>13.000000</td>\n",
       "      <td>29.000000</td>\n",
       "    </tr>\n",
       "    <tr>\n",
       "      <th>75%</th>\n",
       "      <td>252157.500000</td>\n",
       "      <td>2013.0</td>\n",
       "      <td>10.000000</td>\n",
       "      <td>23.000000</td>\n",
       "      <td>1744.000000</td>\n",
       "      <td>1729.000000</td>\n",
       "      <td>11.000000</td>\n",
       "      <td>1942.000000</td>\n",
       "      <td>1944.250000</td>\n",
       "      <td>14.000000</td>\n",
       "      <td>3395.000000</td>\n",
       "      <td>192.000000</td>\n",
       "      <td>1389.000000</td>\n",
       "      <td>17.000000</td>\n",
       "      <td>44.000000</td>\n",
       "    </tr>\n",
       "    <tr>\n",
       "      <th>max</th>\n",
       "      <td>336766.000000</td>\n",
       "      <td>2013.0</td>\n",
       "      <td>12.000000</td>\n",
       "      <td>31.000000</td>\n",
       "      <td>2400.000000</td>\n",
       "      <td>2359.000000</td>\n",
       "      <td>786.000000</td>\n",
       "      <td>2400.000000</td>\n",
       "      <td>2359.000000</td>\n",
       "      <td>773.000000</td>\n",
       "      <td>6181.000000</td>\n",
       "      <td>667.000000</td>\n",
       "      <td>4983.000000</td>\n",
       "      <td>23.000000</td>\n",
       "      <td>59.000000</td>\n",
       "    </tr>\n",
       "  </tbody>\n",
       "</table>\n",
       "</div>"
      ],
      "text/plain": [
       "          Unnamed: 0     year         month           day      dep_time   \n",
       "count   32720.000000  32720.0  32720.000000  32720.000000  32720.000000  \\\n",
       "mean   168399.898716   2013.0      6.561919     15.820507   1349.137622   \n",
       "std     97222.290029      0.0      3.407995      8.747835    488.536898   \n",
       "min        15.000000   2013.0      1.000000      1.000000      1.000000   \n",
       "25%     83473.000000   2013.0      4.000000      8.000000    908.750000   \n",
       "50%    167839.500000   2013.0      7.000000     16.000000   1402.000000   \n",
       "75%    252157.500000   2013.0     10.000000     23.000000   1744.000000   \n",
       "max    336766.000000   2013.0     12.000000     31.000000   2400.000000   \n",
       "\n",
       "       sched_dep_time     dep_delay      arr_time  sched_arr_time   \n",
       "count    32720.000000  32720.000000  32720.000000    32720.000000  \\\n",
       "mean      1340.136002     12.757121   1503.469163     1533.603637   \n",
       "std        467.039402     40.139378    531.760895      496.894916   \n",
       "min        500.000000    -23.000000      1.000000        1.000000   \n",
       "25%        905.000000     -5.000000   1105.000000     1123.000000   \n",
       "50%       1358.000000     -2.000000   1536.000000     1555.000000   \n",
       "75%       1729.000000     11.000000   1942.000000     1944.250000   \n",
       "max       2359.000000    786.000000   2400.000000     2359.000000   \n",
       "\n",
       "          arr_delay        flight      air_time      distance          hour   \n",
       "count  32720.000000  32720.000000  32720.000000  32720.000000  32720.000000  \\\n",
       "mean       7.163814   1933.447249    150.919254   1049.896546     13.137317   \n",
       "std       44.594077   1613.735232     93.905681    736.529893      4.657826   \n",
       "min      -70.000000      1.000000     21.000000     80.000000      5.000000   \n",
       "25%      -17.000000    544.000000     82.000000    509.000000      9.000000   \n",
       "50%       -5.000000   1473.000000    129.000000    888.000000     13.000000   \n",
       "75%       14.000000   3395.000000    192.000000   1389.000000     17.000000   \n",
       "max      773.000000   6181.000000    667.000000   4983.000000     23.000000   \n",
       "\n",
       "             minute  \n",
       "count  32720.000000  \n",
       "mean      26.404340  \n",
       "std       19.308877  \n",
       "min        0.000000  \n",
       "25%        9.000000  \n",
       "50%       29.000000  \n",
       "75%       44.000000  \n",
       "max       59.000000  "
      ]
     },
     "execution_count": 100,
     "metadata": {},
     "output_type": "execute_result"
    }
   ],
   "source": [
    "df_flights.select_dtypes(exclude='object').describe()"
   ]
  },
  {
   "attachments": {},
   "cell_type": "markdown",
   "metadata": {},
   "source": [
    "The results of the describe method, for numerical columns, include the following statistics:\n",
    "\n",
    "- **Count**: The number of non-null values in the column.\n",
    "- **Mean**: The arithmetic average of the values.\n",
    "- **Standard Deviation**: A measure of the spread or dispersion of the values around the mean.\n",
    "- **Minimum**: The minimum value in the column.\n",
    "- **25th Percentile** (1st quartile): The value below which 25% of the data falls.\n",
    "- **50th Percentile** (Median or 2nd quartile): The value below which 50% of the data falls, representing the middle value.\n",
    "- **75th Percentile** (3rd quartile): The value below which 75% of the data falls.\n",
    "- **Maximum**: The maximum value in the column."
   ]
  },
  {
   "attachments": {},
   "cell_type": "markdown",
   "metadata": {},
   "source": [
    "And now for string columns. We call these, the categorical variables:"
   ]
  },
  {
   "cell_type": "code",
   "execution_count": 101,
   "metadata": {},
   "outputs": [
    {
     "data": {
      "text/html": [
       "<div>\n",
       "<style scoped>\n",
       "    .dataframe tbody tr th:only-of-type {\n",
       "        vertical-align: middle;\n",
       "    }\n",
       "\n",
       "    .dataframe tbody tr th {\n",
       "        vertical-align: top;\n",
       "    }\n",
       "\n",
       "    .dataframe thead th {\n",
       "        text-align: right;\n",
       "    }\n",
       "</style>\n",
       "<table border=\"1\" class=\"dataframe\">\n",
       "  <thead>\n",
       "    <tr style=\"text-align: right;\">\n",
       "      <th></th>\n",
       "      <th>carrier</th>\n",
       "      <th>tailnum</th>\n",
       "      <th>origin</th>\n",
       "      <th>dest</th>\n",
       "      <th>time_hour</th>\n",
       "    </tr>\n",
       "  </thead>\n",
       "  <tbody>\n",
       "    <tr>\n",
       "      <th>count</th>\n",
       "      <td>32720</td>\n",
       "      <td>32720</td>\n",
       "      <td>32720</td>\n",
       "      <td>32720</td>\n",
       "      <td>32720</td>\n",
       "    </tr>\n",
       "    <tr>\n",
       "      <th>unique</th>\n",
       "      <td>16</td>\n",
       "      <td>3504</td>\n",
       "      <td>3</td>\n",
       "      <td>101</td>\n",
       "      <td>6191</td>\n",
       "    </tr>\n",
       "    <tr>\n",
       "      <th>top</th>\n",
       "      <td>United Air Lines Inc.</td>\n",
       "      <td>N725MQ</td>\n",
       "      <td>Newark Liberty Intl</td>\n",
       "      <td>Hartsfield Jackson Atlanta Intl</td>\n",
       "      <td>2013-09-23 08:00:00</td>\n",
       "    </tr>\n",
       "    <tr>\n",
       "      <th>freq</th>\n",
       "      <td>5714</td>\n",
       "      <td>55</td>\n",
       "      <td>11670</td>\n",
       "      <td>1779</td>\n",
       "      <td>18</td>\n",
       "    </tr>\n",
       "  </tbody>\n",
       "</table>\n",
       "</div>"
      ],
      "text/plain": [
       "                      carrier tailnum               origin   \n",
       "count                   32720   32720                32720  \\\n",
       "unique                     16    3504                    3   \n",
       "top     United Air Lines Inc.  N725MQ  Newark Liberty Intl   \n",
       "freq                     5714      55                11670   \n",
       "\n",
       "                                   dest            time_hour  \n",
       "count                             32720                32720  \n",
       "unique                              101                 6191  \n",
       "top     Hartsfield Jackson Atlanta Intl  2013-09-23 08:00:00  \n",
       "freq                               1779                   18  "
      ]
     },
     "execution_count": 101,
     "metadata": {},
     "output_type": "execute_result"
    }
   ],
   "source": [
    "df_flights.select_dtypes(include='object').describe()"
   ]
  },
  {
   "attachments": {},
   "cell_type": "markdown",
   "metadata": {},
   "source": [
    "The results of the describe method, for categorical (string) columns, include the following statistics:\n",
    "\n",
    "- **Count**: The number of non-null values in the column.\n",
    "- **Unique**: Number of unique values.\n",
    "- **Top**: Most frequent value. The value that appears the most.\n",
    "- **Freq**: How many times most frequent value appears."
   ]
  },
  {
   "attachments": {},
   "cell_type": "markdown",
   "metadata": {},
   "source": [
    "By looking at these 'reports' you get some insight into the nature of your data."
   ]
  },
  {
   "attachments": {},
   "cell_type": "markdown",
   "metadata": {},
   "source": [
    "Descriptive statistic for numerical columns is verbose and there is a lot of insights to extract from it, but 2 most important things are `mean` and `50%` or `median`. These values show you measures of central tendency of your data. Afte these two, most important is `std` or standard deviation. \n",
    "\n",
    "We will not go into describing these in details, but we will show how these can give you some idea about your data on really simple examples:"
   ]
  },
  {
   "cell_type": "code",
   "execution_count": 102,
   "metadata": {},
   "outputs": [
    {
     "data": {
      "text/html": [
       "<div>\n",
       "<style scoped>\n",
       "    .dataframe tbody tr th:only-of-type {\n",
       "        vertical-align: middle;\n",
       "    }\n",
       "\n",
       "    .dataframe tbody tr th {\n",
       "        vertical-align: top;\n",
       "    }\n",
       "\n",
       "    .dataframe thead th {\n",
       "        text-align: right;\n",
       "    }\n",
       "</style>\n",
       "<table border=\"1\" class=\"dataframe\">\n",
       "  <thead>\n",
       "    <tr style=\"text-align: right;\">\n",
       "      <th></th>\n",
       "      <th>0</th>\n",
       "    </tr>\n",
       "  </thead>\n",
       "  <tbody>\n",
       "    <tr>\n",
       "      <th>0</th>\n",
       "      <td>1</td>\n",
       "    </tr>\n",
       "    <tr>\n",
       "      <th>1</th>\n",
       "      <td>2</td>\n",
       "    </tr>\n",
       "    <tr>\n",
       "      <th>2</th>\n",
       "      <td>3</td>\n",
       "    </tr>\n",
       "    <tr>\n",
       "      <th>3</th>\n",
       "      <td>4</td>\n",
       "    </tr>\n",
       "    <tr>\n",
       "      <th>4</th>\n",
       "      <td>5</td>\n",
       "    </tr>\n",
       "  </tbody>\n",
       "</table>\n",
       "</div>"
      ],
      "text/plain": [
       "   0\n",
       "0  1\n",
       "1  2\n",
       "2  3\n",
       "3  4\n",
       "4  5"
      ]
     },
     "execution_count": 102,
     "metadata": {},
     "output_type": "execute_result"
    }
   ],
   "source": [
    "df_test7 = pd.DataFrame([1,2,3,4,5])\n",
    "df_test7"
   ]
  },
  {
   "cell_type": "code",
   "execution_count": 103,
   "metadata": {},
   "outputs": [
    {
     "data": {
      "text/html": [
       "<div>\n",
       "<style scoped>\n",
       "    .dataframe tbody tr th:only-of-type {\n",
       "        vertical-align: middle;\n",
       "    }\n",
       "\n",
       "    .dataframe tbody tr th {\n",
       "        vertical-align: top;\n",
       "    }\n",
       "\n",
       "    .dataframe thead th {\n",
       "        text-align: right;\n",
       "    }\n",
       "</style>\n",
       "<table border=\"1\" class=\"dataframe\">\n",
       "  <thead>\n",
       "    <tr style=\"text-align: right;\">\n",
       "      <th></th>\n",
       "      <th>0</th>\n",
       "    </tr>\n",
       "  </thead>\n",
       "  <tbody>\n",
       "    <tr>\n",
       "      <th>count</th>\n",
       "      <td>5.000000</td>\n",
       "    </tr>\n",
       "    <tr>\n",
       "      <th>mean</th>\n",
       "      <td>3.000000</td>\n",
       "    </tr>\n",
       "    <tr>\n",
       "      <th>std</th>\n",
       "      <td>1.581139</td>\n",
       "    </tr>\n",
       "    <tr>\n",
       "      <th>min</th>\n",
       "      <td>1.000000</td>\n",
       "    </tr>\n",
       "    <tr>\n",
       "      <th>25%</th>\n",
       "      <td>2.000000</td>\n",
       "    </tr>\n",
       "    <tr>\n",
       "      <th>50%</th>\n",
       "      <td>3.000000</td>\n",
       "    </tr>\n",
       "    <tr>\n",
       "      <th>75%</th>\n",
       "      <td>4.000000</td>\n",
       "    </tr>\n",
       "    <tr>\n",
       "      <th>max</th>\n",
       "      <td>5.000000</td>\n",
       "    </tr>\n",
       "  </tbody>\n",
       "</table>\n",
       "</div>"
      ],
      "text/plain": [
       "              0\n",
       "count  5.000000\n",
       "mean   3.000000\n",
       "std    1.581139\n",
       "min    1.000000\n",
       "25%    2.000000\n",
       "50%    3.000000\n",
       "75%    4.000000\n",
       "max    5.000000"
      ]
     },
     "execution_count": 103,
     "metadata": {},
     "output_type": "execute_result"
    }
   ],
   "source": [
    "df_test7.describe()"
   ]
  },
  {
   "cell_type": "code",
   "execution_count": 104,
   "metadata": {},
   "outputs": [
    {
     "data": {
      "text/html": [
       "<div>\n",
       "<style scoped>\n",
       "    .dataframe tbody tr th:only-of-type {\n",
       "        vertical-align: middle;\n",
       "    }\n",
       "\n",
       "    .dataframe tbody tr th {\n",
       "        vertical-align: top;\n",
       "    }\n",
       "\n",
       "    .dataframe thead th {\n",
       "        text-align: right;\n",
       "    }\n",
       "</style>\n",
       "<table border=\"1\" class=\"dataframe\">\n",
       "  <thead>\n",
       "    <tr style=\"text-align: right;\">\n",
       "      <th></th>\n",
       "      <th>0</th>\n",
       "    </tr>\n",
       "  </thead>\n",
       "  <tbody>\n",
       "    <tr>\n",
       "      <th>0</th>\n",
       "      <td>1</td>\n",
       "    </tr>\n",
       "    <tr>\n",
       "      <th>1</th>\n",
       "      <td>20</td>\n",
       "    </tr>\n",
       "    <tr>\n",
       "      <th>2</th>\n",
       "      <td>21</td>\n",
       "    </tr>\n",
       "    <tr>\n",
       "      <th>3</th>\n",
       "      <td>22</td>\n",
       "    </tr>\n",
       "    <tr>\n",
       "      <th>4</th>\n",
       "      <td>41</td>\n",
       "    </tr>\n",
       "  </tbody>\n",
       "</table>\n",
       "</div>"
      ],
      "text/plain": [
       "    0\n",
       "0   1\n",
       "1  20\n",
       "2  21\n",
       "3  22\n",
       "4  41"
      ]
     },
     "execution_count": 104,
     "metadata": {},
     "output_type": "execute_result"
    }
   ],
   "source": [
    "df_test7 = pd.DataFrame([1,20,21,22,41])\n",
    "df_test7"
   ]
  },
  {
   "cell_type": "code",
   "execution_count": 105,
   "metadata": {},
   "outputs": [
    {
     "data": {
      "text/html": [
       "<div>\n",
       "<style scoped>\n",
       "    .dataframe tbody tr th:only-of-type {\n",
       "        vertical-align: middle;\n",
       "    }\n",
       "\n",
       "    .dataframe tbody tr th {\n",
       "        vertical-align: top;\n",
       "    }\n",
       "\n",
       "    .dataframe thead th {\n",
       "        text-align: right;\n",
       "    }\n",
       "</style>\n",
       "<table border=\"1\" class=\"dataframe\">\n",
       "  <thead>\n",
       "    <tr style=\"text-align: right;\">\n",
       "      <th></th>\n",
       "      <th>0</th>\n",
       "    </tr>\n",
       "  </thead>\n",
       "  <tbody>\n",
       "    <tr>\n",
       "      <th>count</th>\n",
       "      <td>5.000000</td>\n",
       "    </tr>\n",
       "    <tr>\n",
       "      <th>mean</th>\n",
       "      <td>21.000000</td>\n",
       "    </tr>\n",
       "    <tr>\n",
       "      <th>std</th>\n",
       "      <td>14.159802</td>\n",
       "    </tr>\n",
       "    <tr>\n",
       "      <th>min</th>\n",
       "      <td>1.000000</td>\n",
       "    </tr>\n",
       "    <tr>\n",
       "      <th>25%</th>\n",
       "      <td>20.000000</td>\n",
       "    </tr>\n",
       "    <tr>\n",
       "      <th>50%</th>\n",
       "      <td>21.000000</td>\n",
       "    </tr>\n",
       "    <tr>\n",
       "      <th>75%</th>\n",
       "      <td>22.000000</td>\n",
       "    </tr>\n",
       "    <tr>\n",
       "      <th>max</th>\n",
       "      <td>41.000000</td>\n",
       "    </tr>\n",
       "  </tbody>\n",
       "</table>\n",
       "</div>"
      ],
      "text/plain": [
       "               0\n",
       "count   5.000000\n",
       "mean   21.000000\n",
       "std    14.159802\n",
       "min     1.000000\n",
       "25%    20.000000\n",
       "50%    21.000000\n",
       "75%    22.000000\n",
       "max    41.000000"
      ]
     },
     "execution_count": 105,
     "metadata": {},
     "output_type": "execute_result"
    }
   ],
   "source": [
    "df_test7.describe()"
   ]
  },
  {
   "attachments": {},
   "cell_type": "markdown",
   "metadata": {},
   "source": [
    "`std` is higher than in previous example. This is because our new data is more spread than the previous one. `mean` and `median` are the same. Look what is happening now:"
   ]
  },
  {
   "cell_type": "code",
   "execution_count": 106,
   "metadata": {},
   "outputs": [
    {
     "data": {
      "text/html": [
       "<div>\n",
       "<style scoped>\n",
       "    .dataframe tbody tr th:only-of-type {\n",
       "        vertical-align: middle;\n",
       "    }\n",
       "\n",
       "    .dataframe tbody tr th {\n",
       "        vertical-align: top;\n",
       "    }\n",
       "\n",
       "    .dataframe thead th {\n",
       "        text-align: right;\n",
       "    }\n",
       "</style>\n",
       "<table border=\"1\" class=\"dataframe\">\n",
       "  <thead>\n",
       "    <tr style=\"text-align: right;\">\n",
       "      <th></th>\n",
       "      <th>0</th>\n",
       "    </tr>\n",
       "  </thead>\n",
       "  <tbody>\n",
       "    <tr>\n",
       "      <th>0</th>\n",
       "      <td>1</td>\n",
       "    </tr>\n",
       "    <tr>\n",
       "      <th>1</th>\n",
       "      <td>2</td>\n",
       "    </tr>\n",
       "    <tr>\n",
       "      <th>2</th>\n",
       "      <td>3</td>\n",
       "    </tr>\n",
       "    <tr>\n",
       "      <th>3</th>\n",
       "      <td>4</td>\n",
       "    </tr>\n",
       "    <tr>\n",
       "      <th>4</th>\n",
       "      <td>5</td>\n",
       "    </tr>\n",
       "    <tr>\n",
       "      <th>5</th>\n",
       "      <td>100</td>\n",
       "    </tr>\n",
       "  </tbody>\n",
       "</table>\n",
       "</div>"
      ],
      "text/plain": [
       "     0\n",
       "0    1\n",
       "1    2\n",
       "2    3\n",
       "3    4\n",
       "4    5\n",
       "5  100"
      ]
     },
     "execution_count": 106,
     "metadata": {},
     "output_type": "execute_result"
    }
   ],
   "source": [
    "df_test7 = pd.DataFrame([1, 2, 3, 4, 5, 100])\n",
    "df_test7"
   ]
  },
  {
   "cell_type": "code",
   "execution_count": 107,
   "metadata": {},
   "outputs": [
    {
     "data": {
      "text/html": [
       "<div>\n",
       "<style scoped>\n",
       "    .dataframe tbody tr th:only-of-type {\n",
       "        vertical-align: middle;\n",
       "    }\n",
       "\n",
       "    .dataframe tbody tr th {\n",
       "        vertical-align: top;\n",
       "    }\n",
       "\n",
       "    .dataframe thead th {\n",
       "        text-align: right;\n",
       "    }\n",
       "</style>\n",
       "<table border=\"1\" class=\"dataframe\">\n",
       "  <thead>\n",
       "    <tr style=\"text-align: right;\">\n",
       "      <th></th>\n",
       "      <th>0</th>\n",
       "    </tr>\n",
       "  </thead>\n",
       "  <tbody>\n",
       "    <tr>\n",
       "      <th>count</th>\n",
       "      <td>6.000000</td>\n",
       "    </tr>\n",
       "    <tr>\n",
       "      <th>mean</th>\n",
       "      <td>19.166667</td>\n",
       "    </tr>\n",
       "    <tr>\n",
       "      <th>std</th>\n",
       "      <td>39.625329</td>\n",
       "    </tr>\n",
       "    <tr>\n",
       "      <th>min</th>\n",
       "      <td>1.000000</td>\n",
       "    </tr>\n",
       "    <tr>\n",
       "      <th>25%</th>\n",
       "      <td>2.250000</td>\n",
       "    </tr>\n",
       "    <tr>\n",
       "      <th>50%</th>\n",
       "      <td>3.500000</td>\n",
       "    </tr>\n",
       "    <tr>\n",
       "      <th>75%</th>\n",
       "      <td>4.750000</td>\n",
       "    </tr>\n",
       "    <tr>\n",
       "      <th>max</th>\n",
       "      <td>100.000000</td>\n",
       "    </tr>\n",
       "  </tbody>\n",
       "</table>\n",
       "</div>"
      ],
      "text/plain": [
       "                0\n",
       "count    6.000000\n",
       "mean    19.166667\n",
       "std     39.625329\n",
       "min      1.000000\n",
       "25%      2.250000\n",
       "50%      3.500000\n",
       "75%      4.750000\n",
       "max    100.000000"
      ]
     },
     "execution_count": 107,
     "metadata": {},
     "output_type": "execute_result"
    }
   ],
   "source": [
    "df_test7.describe()"
   ]
  },
  {
   "attachments": {},
   "cell_type": "markdown",
   "metadata": {},
   "source": [
    "Here, data is spread a lot in comparison to the previous example, by looking at `std`. And now `mean` and `median` are different. How come? This has to do with how `mean` and `median` are calculated.\n",
    "\n",
    "Mean is just arithmetic mean of the values. So we sum them all and divide the sum by the number of elements.\n",
    "\n",
    "Median is the middle element in the sorted list of values. If there is no middle element, since there is an even number of elements, then 2 middle elements are summed and divided by 2 to get the median value.\n",
    "\n",
    "What we can see from this example is what happens when we have really big value in our data. Mean gets displaced toward this value, but median stays at almost the same value."
   ]
  },
  {
   "attachments": {},
   "cell_type": "markdown",
   "metadata": {},
   "source": [
    "Now, what about descriptive statistics for string columns? Well one interesting thing is to get the number of appearances of each value. Pandas has specific method for this:"
   ]
  },
  {
   "cell_type": "code",
   "execution_count": 108,
   "metadata": {},
   "outputs": [
    {
     "data": {
      "text/plain": [
       "carrier\n",
       "United Air Lines Inc.          5714\n",
       "JetBlue Airways                5466\n",
       "ExpressJet Airlines Inc.       5032\n",
       "Delta Air Lines Inc.           4811\n",
       "American Airlines Inc.         3230\n",
       "Envoy Air                      2509\n",
       "US Airways Inc.                2011\n",
       "Endeavor Air Inc.              1702\n",
       "Southwest Airlines Co.         1169\n",
       "Virgin America                  531\n",
       "AirTran Airways Corporation     331\n",
       "Alaska Airlines Inc.             76\n",
       "Frontier Airlines Inc.           59\n",
       "Mesa Airlines Inc.               49\n",
       "Hawaiian Airlines Inc.           28\n",
       "SkyWest Airlines Inc.             2\n",
       "Name: count, dtype: int64"
      ]
     },
     "execution_count": 108,
     "metadata": {},
     "output_type": "execute_result"
    }
   ],
   "source": [
    "df_flights['carrier'].value_counts()"
   ]
  },
  {
   "attachments": {},
   "cell_type": "markdown",
   "metadata": {},
   "source": [
    "Here we have number of appearances for each carrier. Neat! You can get percentages for each:"
   ]
  },
  {
   "cell_type": "code",
   "execution_count": 109,
   "metadata": {},
   "outputs": [
    {
     "data": {
      "text/plain": [
       "carrier\n",
       "United Air Lines Inc.          0.174633\n",
       "JetBlue Airways                0.167054\n",
       "ExpressJet Airlines Inc.       0.153790\n",
       "Delta Air Lines Inc.           0.147035\n",
       "American Airlines Inc.         0.098716\n",
       "Envoy Air                      0.076681\n",
       "US Airways Inc.                0.061461\n",
       "Endeavor Air Inc.              0.052017\n",
       "Southwest Airlines Co.         0.035727\n",
       "Virgin America                 0.016229\n",
       "AirTran Airways Corporation    0.010116\n",
       "Alaska Airlines Inc.           0.002323\n",
       "Frontier Airlines Inc.         0.001803\n",
       "Mesa Airlines Inc.             0.001498\n",
       "Hawaiian Airlines Inc.         0.000856\n",
       "SkyWest Airlines Inc.          0.000061\n",
       "Name: proportion, dtype: float64"
      ]
     },
     "execution_count": 109,
     "metadata": {},
     "output_type": "execute_result"
    }
   ],
   "source": [
    "df_flights['carrier'].value_counts(normalize=True)"
   ]
  },
  {
   "attachments": {},
   "cell_type": "markdown",
   "metadata": {},
   "source": [
    "*United Air Lines Inc.* is most frequent carrier in our dataset."
   ]
  },
  {
   "attachments": {},
   "cell_type": "markdown",
   "metadata": {},
   "source": [
    "Let's do one more thing now. Let's get the hours of **air_time** since given one is in **minutes**."
   ]
  },
  {
   "cell_type": "code",
   "execution_count": 110,
   "metadata": {},
   "outputs": [
    {
     "data": {
      "text/html": [
       "<div>\n",
       "<style scoped>\n",
       "    .dataframe tbody tr th:only-of-type {\n",
       "        vertical-align: middle;\n",
       "    }\n",
       "\n",
       "    .dataframe tbody tr th {\n",
       "        vertical-align: top;\n",
       "    }\n",
       "\n",
       "    .dataframe thead th {\n",
       "        text-align: right;\n",
       "    }\n",
       "</style>\n",
       "<table border=\"1\" class=\"dataframe\">\n",
       "  <thead>\n",
       "    <tr style=\"text-align: right;\">\n",
       "      <th></th>\n",
       "      <th>Unnamed: 0</th>\n",
       "      <th>year</th>\n",
       "      <th>month</th>\n",
       "      <th>day</th>\n",
       "      <th>dep_time</th>\n",
       "      <th>sched_dep_time</th>\n",
       "      <th>dep_delay</th>\n",
       "      <th>arr_time</th>\n",
       "      <th>sched_arr_time</th>\n",
       "      <th>arr_delay</th>\n",
       "      <th>carrier</th>\n",
       "      <th>flight</th>\n",
       "      <th>tailnum</th>\n",
       "      <th>origin</th>\n",
       "      <th>dest</th>\n",
       "      <th>air_time</th>\n",
       "      <th>distance</th>\n",
       "      <th>hour</th>\n",
       "      <th>minute</th>\n",
       "      <th>time_hour</th>\n",
       "    </tr>\n",
       "  </thead>\n",
       "  <tbody>\n",
       "    <tr>\n",
       "      <th>23583</th>\n",
       "      <td>23583</td>\n",
       "      <td>2013</td>\n",
       "      <td>1</td>\n",
       "      <td>28</td>\n",
       "      <td>858.0</td>\n",
       "      <td>905</td>\n",
       "      <td>-7.0</td>\n",
       "      <td>1004.0</td>\n",
       "      <td>1023</td>\n",
       "      <td>-19.0</td>\n",
       "      <td>JetBlue Airways</td>\n",
       "      <td>56</td>\n",
       "      <td>N323JB</td>\n",
       "      <td>John F Kennedy Intl</td>\n",
       "      <td>Burlington Intl</td>\n",
       "      <td>48.0</td>\n",
       "      <td>266</td>\n",
       "      <td>9</td>\n",
       "      <td>5</td>\n",
       "      <td>2013-01-28 09:00:00</td>\n",
       "    </tr>\n",
       "    <tr>\n",
       "      <th>39402</th>\n",
       "      <td>39402</td>\n",
       "      <td>2013</td>\n",
       "      <td>10</td>\n",
       "      <td>14</td>\n",
       "      <td>1138.0</td>\n",
       "      <td>1130</td>\n",
       "      <td>8.0</td>\n",
       "      <td>1334.0</td>\n",
       "      <td>1338</td>\n",
       "      <td>-4.0</td>\n",
       "      <td>ExpressJet Airlines Inc.</td>\n",
       "      <td>4445</td>\n",
       "      <td>N21197</td>\n",
       "      <td>Newark Liberty Intl</td>\n",
       "      <td>Indianapolis Intl</td>\n",
       "      <td>94.0</td>\n",
       "      <td>645</td>\n",
       "      <td>11</td>\n",
       "      <td>30</td>\n",
       "      <td>2013-10-14 11:00:00</td>\n",
       "    </tr>\n",
       "    <tr>\n",
       "      <th>9240</th>\n",
       "      <td>9240</td>\n",
       "      <td>2013</td>\n",
       "      <td>1</td>\n",
       "      <td>11</td>\n",
       "      <td>1248.0</td>\n",
       "      <td>1300</td>\n",
       "      <td>-12.0</td>\n",
       "      <td>1438.0</td>\n",
       "      <td>1450</td>\n",
       "      <td>-12.0</td>\n",
       "      <td>Envoy Air</td>\n",
       "      <td>4426</td>\n",
       "      <td>N713MQ</td>\n",
       "      <td>La Guardia</td>\n",
       "      <td>Port Columbus Intl</td>\n",
       "      <td>83.0</td>\n",
       "      <td>479</td>\n",
       "      <td>13</td>\n",
       "      <td>0</td>\n",
       "      <td>2013-01-11 13:00:00</td>\n",
       "    </tr>\n",
       "    <tr>\n",
       "      <th>231428</th>\n",
       "      <td>231428</td>\n",
       "      <td>2013</td>\n",
       "      <td>6</td>\n",
       "      <td>11</td>\n",
       "      <td>557.0</td>\n",
       "      <td>605</td>\n",
       "      <td>-8.0</td>\n",
       "      <td>731.0</td>\n",
       "      <td>749</td>\n",
       "      <td>-18.0</td>\n",
       "      <td>Delta Air Lines Inc.</td>\n",
       "      <td>1279</td>\n",
       "      <td>N358NB</td>\n",
       "      <td>La Guardia</td>\n",
       "      <td>Memphis Intl</td>\n",
       "      <td>131.0</td>\n",
       "      <td>963</td>\n",
       "      <td>6</td>\n",
       "      <td>5</td>\n",
       "      <td>2013-06-11 06:00:00</td>\n",
       "    </tr>\n",
       "    <tr>\n",
       "      <th>88913</th>\n",
       "      <td>88913</td>\n",
       "      <td>2013</td>\n",
       "      <td>12</td>\n",
       "      <td>6</td>\n",
       "      <td>2115.0</td>\n",
       "      <td>2115</td>\n",
       "      <td>0.0</td>\n",
       "      <td>2340.0</td>\n",
       "      <td>2315</td>\n",
       "      <td>25.0</td>\n",
       "      <td>Envoy Air</td>\n",
       "      <td>3384</td>\n",
       "      <td>N531MQ</td>\n",
       "      <td>La Guardia</td>\n",
       "      <td>Charlotte Douglas Intl</td>\n",
       "      <td>93.0</td>\n",
       "      <td>544</td>\n",
       "      <td>21</td>\n",
       "      <td>15</td>\n",
       "      <td>2013-12-06 21:00:00</td>\n",
       "    </tr>\n",
       "  </tbody>\n",
       "</table>\n",
       "</div>"
      ],
      "text/plain": [
       "        Unnamed: 0  year  month  day  dep_time  sched_dep_time  dep_delay   \n",
       "23583        23583  2013      1   28     858.0             905       -7.0  \\\n",
       "39402        39402  2013     10   14    1138.0            1130        8.0   \n",
       "9240          9240  2013      1   11    1248.0            1300      -12.0   \n",
       "231428      231428  2013      6   11     557.0             605       -8.0   \n",
       "88913        88913  2013     12    6    2115.0            2115        0.0   \n",
       "\n",
       "        arr_time  sched_arr_time  arr_delay                   carrier  flight   \n",
       "23583     1004.0            1023      -19.0           JetBlue Airways      56  \\\n",
       "39402     1334.0            1338       -4.0  ExpressJet Airlines Inc.    4445   \n",
       "9240      1438.0            1450      -12.0                 Envoy Air    4426   \n",
       "231428     731.0             749      -18.0      Delta Air Lines Inc.    1279   \n",
       "88913     2340.0            2315       25.0                 Envoy Air    3384   \n",
       "\n",
       "       tailnum               origin                    dest  air_time   \n",
       "23583   N323JB  John F Kennedy Intl         Burlington Intl      48.0  \\\n",
       "39402   N21197  Newark Liberty Intl       Indianapolis Intl      94.0   \n",
       "9240    N713MQ           La Guardia      Port Columbus Intl      83.0   \n",
       "231428  N358NB           La Guardia            Memphis Intl     131.0   \n",
       "88913   N531MQ           La Guardia  Charlotte Douglas Intl      93.0   \n",
       "\n",
       "        distance  hour  minute            time_hour  \n",
       "23583        266     9       5  2013-01-28 09:00:00  \n",
       "39402        645    11      30  2013-10-14 11:00:00  \n",
       "9240         479    13       0  2013-01-11 13:00:00  \n",
       "231428       963     6       5  2013-06-11 06:00:00  \n",
       "88913        544    21      15  2013-12-06 21:00:00  "
      ]
     },
     "execution_count": 110,
     "metadata": {},
     "output_type": "execute_result"
    }
   ],
   "source": [
    "df_flights.head()"
   ]
  },
  {
   "cell_type": "code",
   "execution_count": 111,
   "metadata": {},
   "outputs": [],
   "source": [
    "df_flights['air_time_hours'] = df_flights['air_time'] / 60"
   ]
  },
  {
   "cell_type": "code",
   "execution_count": 112,
   "metadata": {},
   "outputs": [
    {
     "data": {
      "text/plain": [
       "23583     0.800000\n",
       "39402     1.566667\n",
       "9240      1.383333\n",
       "231428    2.183333\n",
       "88913     1.550000\n",
       "            ...   \n",
       "255024    2.216667\n",
       "216054    5.300000\n",
       "23799     2.483333\n",
       "99677     2.083333\n",
       "26732     5.616667\n",
       "Name: air_time_hours, Length: 32720, dtype: float64"
      ]
     },
     "execution_count": 112,
     "metadata": {},
     "output_type": "execute_result"
    }
   ],
   "source": [
    "df_flights['air_time_hours']"
   ]
  },
  {
   "attachments": {},
   "cell_type": "markdown",
   "metadata": {},
   "source": [
    "Yeah, but hours have to be integers. How can we round this? Is rounding a way to go here? \n",
    "\n",
    "There are multiple ways to approach this issue too, and we will touch upon underlying library called NumPy later, but here let's try and convert this float number to integer one."
   ]
  },
  {
   "cell_type": "code",
   "execution_count": 113,
   "metadata": {},
   "outputs": [
    {
     "data": {
      "text/plain": [
       "23583     0\n",
       "39402     1\n",
       "9240      1\n",
       "231428    2\n",
       "88913     1\n",
       "         ..\n",
       "255024    2\n",
       "216054    5\n",
       "23799     2\n",
       "99677     2\n",
       "26732     5\n",
       "Name: air_time_hours, Length: 32720, dtype: int64"
      ]
     },
     "execution_count": 113,
     "metadata": {},
     "output_type": "execute_result"
    }
   ],
   "source": [
    "df_flights['air_time_hours'].astype('int')"
   ]
  },
  {
   "cell_type": "code",
   "execution_count": 114,
   "metadata": {},
   "outputs": [],
   "source": [
    "df_flights['air_time_hours'] = df_flights['air_time_hours'].astype('int')"
   ]
  },
  {
   "cell_type": "code",
   "execution_count": 115,
   "metadata": {},
   "outputs": [
    {
     "data": {
      "text/html": [
       "<div>\n",
       "<style scoped>\n",
       "    .dataframe tbody tr th:only-of-type {\n",
       "        vertical-align: middle;\n",
       "    }\n",
       "\n",
       "    .dataframe tbody tr th {\n",
       "        vertical-align: top;\n",
       "    }\n",
       "\n",
       "    .dataframe thead th {\n",
       "        text-align: right;\n",
       "    }\n",
       "</style>\n",
       "<table border=\"1\" class=\"dataframe\">\n",
       "  <thead>\n",
       "    <tr style=\"text-align: right;\">\n",
       "      <th></th>\n",
       "      <th>Unnamed: 0</th>\n",
       "      <th>year</th>\n",
       "      <th>month</th>\n",
       "      <th>day</th>\n",
       "      <th>dep_time</th>\n",
       "      <th>sched_dep_time</th>\n",
       "      <th>dep_delay</th>\n",
       "      <th>arr_time</th>\n",
       "      <th>sched_arr_time</th>\n",
       "      <th>arr_delay</th>\n",
       "      <th>...</th>\n",
       "      <th>flight</th>\n",
       "      <th>tailnum</th>\n",
       "      <th>origin</th>\n",
       "      <th>dest</th>\n",
       "      <th>air_time</th>\n",
       "      <th>distance</th>\n",
       "      <th>hour</th>\n",
       "      <th>minute</th>\n",
       "      <th>time_hour</th>\n",
       "      <th>air_time_hours</th>\n",
       "    </tr>\n",
       "  </thead>\n",
       "  <tbody>\n",
       "    <tr>\n",
       "      <th>23583</th>\n",
       "      <td>23583</td>\n",
       "      <td>2013</td>\n",
       "      <td>1</td>\n",
       "      <td>28</td>\n",
       "      <td>858.0</td>\n",
       "      <td>905</td>\n",
       "      <td>-7.0</td>\n",
       "      <td>1004.0</td>\n",
       "      <td>1023</td>\n",
       "      <td>-19.0</td>\n",
       "      <td>...</td>\n",
       "      <td>56</td>\n",
       "      <td>N323JB</td>\n",
       "      <td>John F Kennedy Intl</td>\n",
       "      <td>Burlington Intl</td>\n",
       "      <td>48.0</td>\n",
       "      <td>266</td>\n",
       "      <td>9</td>\n",
       "      <td>5</td>\n",
       "      <td>2013-01-28 09:00:00</td>\n",
       "      <td>0</td>\n",
       "    </tr>\n",
       "    <tr>\n",
       "      <th>39402</th>\n",
       "      <td>39402</td>\n",
       "      <td>2013</td>\n",
       "      <td>10</td>\n",
       "      <td>14</td>\n",
       "      <td>1138.0</td>\n",
       "      <td>1130</td>\n",
       "      <td>8.0</td>\n",
       "      <td>1334.0</td>\n",
       "      <td>1338</td>\n",
       "      <td>-4.0</td>\n",
       "      <td>...</td>\n",
       "      <td>4445</td>\n",
       "      <td>N21197</td>\n",
       "      <td>Newark Liberty Intl</td>\n",
       "      <td>Indianapolis Intl</td>\n",
       "      <td>94.0</td>\n",
       "      <td>645</td>\n",
       "      <td>11</td>\n",
       "      <td>30</td>\n",
       "      <td>2013-10-14 11:00:00</td>\n",
       "      <td>1</td>\n",
       "    </tr>\n",
       "    <tr>\n",
       "      <th>9240</th>\n",
       "      <td>9240</td>\n",
       "      <td>2013</td>\n",
       "      <td>1</td>\n",
       "      <td>11</td>\n",
       "      <td>1248.0</td>\n",
       "      <td>1300</td>\n",
       "      <td>-12.0</td>\n",
       "      <td>1438.0</td>\n",
       "      <td>1450</td>\n",
       "      <td>-12.0</td>\n",
       "      <td>...</td>\n",
       "      <td>4426</td>\n",
       "      <td>N713MQ</td>\n",
       "      <td>La Guardia</td>\n",
       "      <td>Port Columbus Intl</td>\n",
       "      <td>83.0</td>\n",
       "      <td>479</td>\n",
       "      <td>13</td>\n",
       "      <td>0</td>\n",
       "      <td>2013-01-11 13:00:00</td>\n",
       "      <td>1</td>\n",
       "    </tr>\n",
       "    <tr>\n",
       "      <th>231428</th>\n",
       "      <td>231428</td>\n",
       "      <td>2013</td>\n",
       "      <td>6</td>\n",
       "      <td>11</td>\n",
       "      <td>557.0</td>\n",
       "      <td>605</td>\n",
       "      <td>-8.0</td>\n",
       "      <td>731.0</td>\n",
       "      <td>749</td>\n",
       "      <td>-18.0</td>\n",
       "      <td>...</td>\n",
       "      <td>1279</td>\n",
       "      <td>N358NB</td>\n",
       "      <td>La Guardia</td>\n",
       "      <td>Memphis Intl</td>\n",
       "      <td>131.0</td>\n",
       "      <td>963</td>\n",
       "      <td>6</td>\n",
       "      <td>5</td>\n",
       "      <td>2013-06-11 06:00:00</td>\n",
       "      <td>2</td>\n",
       "    </tr>\n",
       "    <tr>\n",
       "      <th>88913</th>\n",
       "      <td>88913</td>\n",
       "      <td>2013</td>\n",
       "      <td>12</td>\n",
       "      <td>6</td>\n",
       "      <td>2115.0</td>\n",
       "      <td>2115</td>\n",
       "      <td>0.0</td>\n",
       "      <td>2340.0</td>\n",
       "      <td>2315</td>\n",
       "      <td>25.0</td>\n",
       "      <td>...</td>\n",
       "      <td>3384</td>\n",
       "      <td>N531MQ</td>\n",
       "      <td>La Guardia</td>\n",
       "      <td>Charlotte Douglas Intl</td>\n",
       "      <td>93.0</td>\n",
       "      <td>544</td>\n",
       "      <td>21</td>\n",
       "      <td>15</td>\n",
       "      <td>2013-12-06 21:00:00</td>\n",
       "      <td>1</td>\n",
       "    </tr>\n",
       "  </tbody>\n",
       "</table>\n",
       "<p>5 rows × 21 columns</p>\n",
       "</div>"
      ],
      "text/plain": [
       "        Unnamed: 0  year  month  day  dep_time  sched_dep_time  dep_delay   \n",
       "23583        23583  2013      1   28     858.0             905       -7.0  \\\n",
       "39402        39402  2013     10   14    1138.0            1130        8.0   \n",
       "9240          9240  2013      1   11    1248.0            1300      -12.0   \n",
       "231428      231428  2013      6   11     557.0             605       -8.0   \n",
       "88913        88913  2013     12    6    2115.0            2115        0.0   \n",
       "\n",
       "        arr_time  sched_arr_time  arr_delay  ... flight  tailnum   \n",
       "23583     1004.0            1023      -19.0  ...     56   N323JB  \\\n",
       "39402     1334.0            1338       -4.0  ...   4445   N21197   \n",
       "9240      1438.0            1450      -12.0  ...   4426   N713MQ   \n",
       "231428     731.0             749      -18.0  ...   1279   N358NB   \n",
       "88913     2340.0            2315       25.0  ...   3384   N531MQ   \n",
       "\n",
       "                     origin                    dest air_time  distance  hour   \n",
       "23583   John F Kennedy Intl         Burlington Intl     48.0       266     9  \\\n",
       "39402   Newark Liberty Intl       Indianapolis Intl     94.0       645    11   \n",
       "9240             La Guardia      Port Columbus Intl     83.0       479    13   \n",
       "231428           La Guardia            Memphis Intl    131.0       963     6   \n",
       "88913            La Guardia  Charlotte Douglas Intl     93.0       544    21   \n",
       "\n",
       "        minute            time_hour air_time_hours  \n",
       "23583        5  2013-01-28 09:00:00              0  \n",
       "39402       30  2013-10-14 11:00:00              1  \n",
       "9240         0  2013-01-11 13:00:00              1  \n",
       "231428       5  2013-06-11 06:00:00              2  \n",
       "88913       15  2013-12-06 21:00:00              1  \n",
       "\n",
       "[5 rows x 21 columns]"
      ]
     },
     "execution_count": 115,
     "metadata": {},
     "output_type": "execute_result"
    }
   ],
   "source": [
    "df_flights.head()"
   ]
  },
  {
   "attachments": {},
   "cell_type": "markdown",
   "metadata": {},
   "source": [
    "This is all for data wrangling and getting to know your data. There is a lot more. We leave the rest for you to discover.\n",
    "\n",
    "Now we are going to show how do a basic visualization of your data."
   ]
  },
  {
   "attachments": {},
   "cell_type": "markdown",
   "metadata": {},
   "source": [
    "### Data visualization"
   ]
  },
  {
   "attachments": {},
   "cell_type": "markdown",
   "metadata": {},
   "source": [
    "Data visualization is the process of representing data and information graphically to aid in understanding patterns, trends, and relationships within the data. It plays a crucial role in data analysis and communication by translating complex datasets into visual representations that are easy to comprehend. Visualizations can take various forms, including charts, graphs, maps, and diagrams, allowing users to explore and interpret data in a more intuitive and insightful manner. The benefits of data visualization are numerous, as it helps in identifying patterns, spotting outliers, communicating insights effectively, and supporting data-driven decision-making.\n",
    "\n",
    "Pandas, in combination with the Matplotlib library, provides powerful capabilities for data visualization in Python. Pandas offers an array of data manipulation and analysis functions, making it easier to preprocess and transform data before visualizing it. It provides the ability to filter, aggregate, and manipulate data based on specific criteria, allowing users to extract meaningful subsets of data for visualization. **Matplotlib**, on the other hand, is a versatile and widely-used plotting library that integrates seamlessly with Pandas. It offers a wide range of customizable plot types, such as line plots, scatter plots, bar charts, histograms, and more. Matplotlib's flexibility enables users to create visually appealing and informative visualizations that effectively convey insights from the data.\n",
    "\n",
    "By combining Pandas and Matplotlib, users can leverage the power of Pandas for data manipulation and Matplotlib for creating visualizations. Pandas' DataFrame and Series objects can be directly used as inputs to Matplotlib's plotting functions, simplifying the process of creating plots from Pandas data structures. This integration allows for seamless data exploration, analysis, and visualization workflows. Additionally, Pandas and Matplotlib work well with other Python libraries like NumPy and Seaborn, further expanding the range of available visualization options. Whether it's generating simple line plots or creating complex multi-layered visualizations, Pandas and Matplotlib offer a comprehensive toolkit for data visualization in Python."
   ]
  },
  {
   "attachments": {},
   "cell_type": "markdown",
   "metadata": {},
   "source": [
    "Before we go into visualizing our data, let's import required Matplotlib library."
   ]
  },
  {
   "cell_type": "code",
   "execution_count": 116,
   "metadata": {},
   "outputs": [],
   "source": [
    "import matplotlib.pyplot as plt"
   ]
  },
  {
   "attachments": {},
   "cell_type": "markdown",
   "metadata": {},
   "source": [
    "Great, now, let's show visually the couts of each carrier in our dataset. \n",
    "\n",
    "As you can remember we did get the counts with:"
   ]
  },
  {
   "cell_type": "code",
   "execution_count": 117,
   "metadata": {},
   "outputs": [
    {
     "data": {
      "text/plain": [
       "carrier\n",
       "United Air Lines Inc.          5714\n",
       "JetBlue Airways                5466\n",
       "ExpressJet Airlines Inc.       5032\n",
       "Delta Air Lines Inc.           4811\n",
       "American Airlines Inc.         3230\n",
       "Envoy Air                      2509\n",
       "US Airways Inc.                2011\n",
       "Endeavor Air Inc.              1702\n",
       "Southwest Airlines Co.         1169\n",
       "Virgin America                  531\n",
       "AirTran Airways Corporation     331\n",
       "Alaska Airlines Inc.             76\n",
       "Frontier Airlines Inc.           59\n",
       "Mesa Airlines Inc.               49\n",
       "Hawaiian Airlines Inc.           28\n",
       "SkyWest Airlines Inc.             2\n",
       "Name: count, dtype: int64"
      ]
     },
     "execution_count": 117,
     "metadata": {},
     "output_type": "execute_result"
    }
   ],
   "source": [
    "df_flights['carrier'].value_counts()"
   ]
  },
  {
   "cell_type": "code",
   "execution_count": 118,
   "metadata": {},
   "outputs": [
    {
     "data": {
      "text/plain": [
       "<Axes: xlabel='carrier'>"
      ]
     },
     "execution_count": 118,
     "metadata": {},
     "output_type": "execute_result"
    },
    {
     "data": {
      "image/png": "[encoded data removed]",
      "text/plain": [
       "<Figure size 640x480 with 1 Axes>"
      ]
     },
     "metadata": {},
     "output_type": "display_data"
    }
   ],
   "source": [
    "df_flights['carrier'].value_counts().plot(kind='bar')"
   ]
  },
  {
   "attachments": {},
   "cell_type": "markdown",
   "metadata": {},
   "source": [
    "But this is hard to read. No problem, we can flip axes easily."
   ]
  },
  {
   "cell_type": "code",
   "execution_count": 119,
   "metadata": {},
   "outputs": [
    {
     "data": {
      "text/plain": [
       "<Axes: ylabel='carrier'>"
      ]
     },
     "execution_count": 119,
     "metadata": {},
     "output_type": "execute_result"
    },
    {
     "data": {
      "image/png": "[encoded data removed]",
      "text/plain": [
       "<Figure size 640x480 with 1 Axes>"
      ]
     },
     "metadata": {},
     "output_type": "display_data"
    }
   ],
   "source": [
    "df_flights['carrier'].value_counts().plot(kind='barh')"
   ]
  },
  {
   "attachments": {},
   "cell_type": "markdown",
   "metadata": {},
   "source": [
    "But why is the smalles count on top. It makes sense to show them in descending order, from the top to bottom."
   ]
  },
  {
   "cell_type": "code",
   "execution_count": 120,
   "metadata": {},
   "outputs": [
    {
     "data": {
      "text/plain": [
       "carrier\n",
       "SkyWest Airlines Inc.             2\n",
       "Hawaiian Airlines Inc.           28\n",
       "Mesa Airlines Inc.               49\n",
       "Frontier Airlines Inc.           59\n",
       "Alaska Airlines Inc.             76\n",
       "AirTran Airways Corporation     331\n",
       "Virgin America                  531\n",
       "Southwest Airlines Co.         1169\n",
       "Endeavor Air Inc.              1702\n",
       "US Airways Inc.                2011\n",
       "Envoy Air                      2509\n",
       "American Airlines Inc.         3230\n",
       "Delta Air Lines Inc.           4811\n",
       "ExpressJet Airlines Inc.       5032\n",
       "JetBlue Airways                5466\n",
       "United Air Lines Inc.          5714\n",
       "Name: count, dtype: int64"
      ]
     },
     "execution_count": 120,
     "metadata": {},
     "output_type": "execute_result"
    }
   ],
   "source": [
    "df_flights['carrier'].value_counts(ascending=True)"
   ]
  },
  {
   "cell_type": "code",
   "execution_count": 121,
   "metadata": {},
   "outputs": [
    {
     "data": {
      "text/plain": [
       "<Axes: ylabel='carrier'>"
      ]
     },
     "execution_count": 121,
     "metadata": {},
     "output_type": "execute_result"
    },
    {
     "data": {
      "image/png": "[encoded data removed]",
      "text/plain": [
       "<Figure size 640x480 with 1 Axes>"
      ]
     },
     "metadata": {},
     "output_type": "display_data"
    }
   ],
   "source": [
    "df_flights['carrier'].value_counts(ascending=True).plot(kind='barh')"
   ]
  },
  {
   "attachments": {},
   "cell_type": "markdown",
   "metadata": {},
   "source": [
    "But this doesn't make sense, right? Well it does. First value in the Series returned is the one that gets mapped to the smallest value of Y axis. Remember, we are plotting in corrdinate space.\n",
    "\n",
    "And now you take this and want to present to someone, and he or she doesn't know what he is looking at, right? Where is the title, what is displayed on X and Y axes?"
   ]
  },
  {
   "cell_type": "code",
   "execution_count": 122,
   "metadata": {},
   "outputs": [
    {
     "data": {
      "text/plain": [
       "Text(0, 0.5, 'carrier name')"
      ]
     },
     "execution_count": 122,
     "metadata": {},
     "output_type": "execute_result"
    },
    {
     "data": {
      "image/png": "[encoded data removed]",
      "text/plain": [
       "<Figure size 640x480 with 1 Axes>"
      ]
     },
     "metadata": {},
     "output_type": "display_data"
    }
   ],
   "source": [
    "df_flights['carrier'].value_counts(ascending=True).plot(kind='barh')\n",
    "plt.title('Frequencies of carriers')\n",
    "plt.xlabel('count')\n",
    "plt.ylabel('carrier name')"
   ]
  },
  {
   "attachments": {},
   "cell_type": "markdown",
   "metadata": {},
   "source": [
    "What about we want to see what is the average air time for carrier? How can we do that?\n",
    "\n",
    "What about we do that for most frequent carrier, United Air Lines Inc.?"
   ]
  },
  {
   "cell_type": "code",
   "execution_count": 123,
   "metadata": {},
   "outputs": [
    {
     "data": {
      "text/plain": [
       "count    5714.000000\n",
       "mean      211.846867\n",
       "std       101.008854\n",
       "min        30.000000\n",
       "25%       134.000000\n",
       "50%       198.000000\n",
       "75%       314.000000\n",
       "max       667.000000\n",
       "Name: air_time, dtype: float64"
      ]
     },
     "execution_count": 123,
     "metadata": {},
     "output_type": "execute_result"
    }
   ],
   "source": [
    "df_flights.loc[df_flights['carrier'] == 'United Air Lines Inc.', 'air_time'].describe()"
   ]
  },
  {
   "attachments": {},
   "cell_type": "markdown",
   "metadata": {},
   "source": [
    "How can we do this and display it at the same time?\n",
    "\n",
    "There is something called `boxplot`. Here is how it looks like:"
   ]
  },
  {
   "cell_type": "code",
   "execution_count": 124,
   "metadata": {},
   "outputs": [
    {
     "data": {
      "text/plain": [
       "Text(0.5, 1.0, 'Distribution of the airtime for United Air Lines Inc. carrier')"
      ]
     },
     "execution_count": 124,
     "metadata": {},
     "output_type": "execute_result"
    },
    {
     "data": {
      "image/png": "[encoded data removed]",
      "text/plain": [
       "<Figure size 1000x200 with 1 Axes>"
      ]
     },
     "metadata": {},
     "output_type": "display_data"
    }
   ],
   "source": [
    "plt.figure(figsize=(10, 2))\n",
    "df_flights.loc[df_flights['carrier'] == 'United Air Lines Inc.', 'air_time'].plot(kind='box', vert=False)\n",
    "plt.title('Distribution of the airtime for United Air Lines Inc. carrier')"
   ]
  },
  {
   "attachments": {},
   "cell_type": "markdown",
   "metadata": {},
   "source": [
    "Distribution... what is the distribution? \n",
    "\n",
    "Distribution shows frequencies (counts) of each value in your data. Here, it is `carrier` column. However, boxplot shows summarization of the distribution, like a graphical representation of `describe` results.\n",
    "\n",
    "But we have one more type of chart that can show us exactly how distribution looks like. It is called `histogram`."
   ]
  },
  {
   "cell_type": "code",
   "execution_count": 125,
   "metadata": {},
   "outputs": [
    {
     "data": {
      "text/plain": [
       "Text(0.5, 1.0, 'Distribution of the airtime for United Air Lines Inc. carrier')"
      ]
     },
     "execution_count": 125,
     "metadata": {},
     "output_type": "execute_result"
    },
    {
     "data": {
      "image/png": "[encoded data removed]",
      "text/plain": [
       "<Figure size 1000x400 with 1 Axes>"
      ]
     },
     "metadata": {},
     "output_type": "display_data"
    }
   ],
   "source": [
    "plt.figure(figsize=(10, 4))\n",
    "df_flights.loc[df_flights['carrier'] == 'United Air Lines Inc.', 'air_time'].hist(bins=30)\n",
    "plt.grid(False)\n",
    "plt.title('Distribution of the airtime for United Air Lines Inc. carrier')"
   ]
  },
  {
   "attachments": {},
   "cell_type": "markdown",
   "metadata": {},
   "source": [
    "This gives new perspective on your data, right? Cool."
   ]
  },
  {
   "attachments": {},
   "cell_type": "markdown",
   "metadata": {},
   "source": [
    "What about we want to see how `distance` affects `air_time` for all flights?"
   ]
  },
  {
   "cell_type": "code",
   "execution_count": 126,
   "metadata": {},
   "outputs": [
    {
     "data": {
      "text/html": [
       "<div>\n",
       "<style scoped>\n",
       "    .dataframe tbody tr th:only-of-type {\n",
       "        vertical-align: middle;\n",
       "    }\n",
       "\n",
       "    .dataframe tbody tr th {\n",
       "        vertical-align: top;\n",
       "    }\n",
       "\n",
       "    .dataframe thead th {\n",
       "        text-align: right;\n",
       "    }\n",
       "</style>\n",
       "<table border=\"1\" class=\"dataframe\">\n",
       "  <thead>\n",
       "    <tr style=\"text-align: right;\">\n",
       "      <th></th>\n",
       "      <th>Unnamed: 0</th>\n",
       "      <th>year</th>\n",
       "      <th>month</th>\n",
       "      <th>day</th>\n",
       "      <th>dep_time</th>\n",
       "      <th>sched_dep_time</th>\n",
       "      <th>dep_delay</th>\n",
       "      <th>arr_time</th>\n",
       "      <th>sched_arr_time</th>\n",
       "      <th>arr_delay</th>\n",
       "      <th>...</th>\n",
       "      <th>flight</th>\n",
       "      <th>tailnum</th>\n",
       "      <th>origin</th>\n",
       "      <th>dest</th>\n",
       "      <th>air_time</th>\n",
       "      <th>distance</th>\n",
       "      <th>hour</th>\n",
       "      <th>minute</th>\n",
       "      <th>time_hour</th>\n",
       "      <th>air_time_hours</th>\n",
       "    </tr>\n",
       "  </thead>\n",
       "  <tbody>\n",
       "    <tr>\n",
       "      <th>23583</th>\n",
       "      <td>23583</td>\n",
       "      <td>2013</td>\n",
       "      <td>1</td>\n",
       "      <td>28</td>\n",
       "      <td>858.0</td>\n",
       "      <td>905</td>\n",
       "      <td>-7.0</td>\n",
       "      <td>1004.0</td>\n",
       "      <td>1023</td>\n",
       "      <td>-19.0</td>\n",
       "      <td>...</td>\n",
       "      <td>56</td>\n",
       "      <td>N323JB</td>\n",
       "      <td>John F Kennedy Intl</td>\n",
       "      <td>Burlington Intl</td>\n",
       "      <td>48.0</td>\n",
       "      <td>266</td>\n",
       "      <td>9</td>\n",
       "      <td>5</td>\n",
       "      <td>2013-01-28 09:00:00</td>\n",
       "      <td>0</td>\n",
       "    </tr>\n",
       "    <tr>\n",
       "      <th>39402</th>\n",
       "      <td>39402</td>\n",
       "      <td>2013</td>\n",
       "      <td>10</td>\n",
       "      <td>14</td>\n",
       "      <td>1138.0</td>\n",
       "      <td>1130</td>\n",
       "      <td>8.0</td>\n",
       "      <td>1334.0</td>\n",
       "      <td>1338</td>\n",
       "      <td>-4.0</td>\n",
       "      <td>...</td>\n",
       "      <td>4445</td>\n",
       "      <td>N21197</td>\n",
       "      <td>Newark Liberty Intl</td>\n",
       "      <td>Indianapolis Intl</td>\n",
       "      <td>94.0</td>\n",
       "      <td>645</td>\n",
       "      <td>11</td>\n",
       "      <td>30</td>\n",
       "      <td>2013-10-14 11:00:00</td>\n",
       "      <td>1</td>\n",
       "    </tr>\n",
       "    <tr>\n",
       "      <th>9240</th>\n",
       "      <td>9240</td>\n",
       "      <td>2013</td>\n",
       "      <td>1</td>\n",
       "      <td>11</td>\n",
       "      <td>1248.0</td>\n",
       "      <td>1300</td>\n",
       "      <td>-12.0</td>\n",
       "      <td>1438.0</td>\n",
       "      <td>1450</td>\n",
       "      <td>-12.0</td>\n",
       "      <td>...</td>\n",
       "      <td>4426</td>\n",
       "      <td>N713MQ</td>\n",
       "      <td>La Guardia</td>\n",
       "      <td>Port Columbus Intl</td>\n",
       "      <td>83.0</td>\n",
       "      <td>479</td>\n",
       "      <td>13</td>\n",
       "      <td>0</td>\n",
       "      <td>2013-01-11 13:00:00</td>\n",
       "      <td>1</td>\n",
       "    </tr>\n",
       "    <tr>\n",
       "      <th>231428</th>\n",
       "      <td>231428</td>\n",
       "      <td>2013</td>\n",
       "      <td>6</td>\n",
       "      <td>11</td>\n",
       "      <td>557.0</td>\n",
       "      <td>605</td>\n",
       "      <td>-8.0</td>\n",
       "      <td>731.0</td>\n",
       "      <td>749</td>\n",
       "      <td>-18.0</td>\n",
       "      <td>...</td>\n",
       "      <td>1279</td>\n",
       "      <td>N358NB</td>\n",
       "      <td>La Guardia</td>\n",
       "      <td>Memphis Intl</td>\n",
       "      <td>131.0</td>\n",
       "      <td>963</td>\n",
       "      <td>6</td>\n",
       "      <td>5</td>\n",
       "      <td>2013-06-11 06:00:00</td>\n",
       "      <td>2</td>\n",
       "    </tr>\n",
       "    <tr>\n",
       "      <th>88913</th>\n",
       "      <td>88913</td>\n",
       "      <td>2013</td>\n",
       "      <td>12</td>\n",
       "      <td>6</td>\n",
       "      <td>2115.0</td>\n",
       "      <td>2115</td>\n",
       "      <td>0.0</td>\n",
       "      <td>2340.0</td>\n",
       "      <td>2315</td>\n",
       "      <td>25.0</td>\n",
       "      <td>...</td>\n",
       "      <td>3384</td>\n",
       "      <td>N531MQ</td>\n",
       "      <td>La Guardia</td>\n",
       "      <td>Charlotte Douglas Intl</td>\n",
       "      <td>93.0</td>\n",
       "      <td>544</td>\n",
       "      <td>21</td>\n",
       "      <td>15</td>\n",
       "      <td>2013-12-06 21:00:00</td>\n",
       "      <td>1</td>\n",
       "    </tr>\n",
       "  </tbody>\n",
       "</table>\n",
       "<p>5 rows × 21 columns</p>\n",
       "</div>"
      ],
      "text/plain": [
       "        Unnamed: 0  year  month  day  dep_time  sched_dep_time  dep_delay   \n",
       "23583        23583  2013      1   28     858.0             905       -7.0  \\\n",
       "39402        39402  2013     10   14    1138.0            1130        8.0   \n",
       "9240          9240  2013      1   11    1248.0            1300      -12.0   \n",
       "231428      231428  2013      6   11     557.0             605       -8.0   \n",
       "88913        88913  2013     12    6    2115.0            2115        0.0   \n",
       "\n",
       "        arr_time  sched_arr_time  arr_delay  ... flight  tailnum   \n",
       "23583     1004.0            1023      -19.0  ...     56   N323JB  \\\n",
       "39402     1334.0            1338       -4.0  ...   4445   N21197   \n",
       "9240      1438.0            1450      -12.0  ...   4426   N713MQ   \n",
       "231428     731.0             749      -18.0  ...   1279   N358NB   \n",
       "88913     2340.0            2315       25.0  ...   3384   N531MQ   \n",
       "\n",
       "                     origin                    dest air_time  distance  hour   \n",
       "23583   John F Kennedy Intl         Burlington Intl     48.0       266     9  \\\n",
       "39402   Newark Liberty Intl       Indianapolis Intl     94.0       645    11   \n",
       "9240             La Guardia      Port Columbus Intl     83.0       479    13   \n",
       "231428           La Guardia            Memphis Intl    131.0       963     6   \n",
       "88913            La Guardia  Charlotte Douglas Intl     93.0       544    21   \n",
       "\n",
       "        minute            time_hour air_time_hours  \n",
       "23583        5  2013-01-28 09:00:00              0  \n",
       "39402       30  2013-10-14 11:00:00              1  \n",
       "9240         0  2013-01-11 13:00:00              1  \n",
       "231428       5  2013-06-11 06:00:00              2  \n",
       "88913       15  2013-12-06 21:00:00              1  \n",
       "\n",
       "[5 rows x 21 columns]"
      ]
     },
     "execution_count": 126,
     "metadata": {},
     "output_type": "execute_result"
    }
   ],
   "source": [
    "df_flights.head(n=5)"
   ]
  },
  {
   "cell_type": "code",
   "execution_count": 127,
   "metadata": {},
   "outputs": [
    {
     "data": {
      "text/plain": [
       "Text(0.5, 1.0, 'Air time as a function of distance')"
      ]
     },
     "execution_count": 127,
     "metadata": {},
     "output_type": "execute_result"
    },
    {
     "data": {
      "image/png": "[encoded data removed]",
      "text/plain": [
       "<Figure size 1000x400 with 1 Axes>"
      ]
     },
     "metadata": {},
     "output_type": "display_data"
    }
   ],
   "source": [
    "plt.figure(figsize=(10, 4))\n",
    "plt.scatter(x='distance', y='air_time', data=df_flights.loc[df_flights['carrier'] == 'United Air Lines Inc.'])\n",
    "plt.title('Air time as a function of distance')"
   ]
  },
  {
   "attachments": {},
   "cell_type": "markdown",
   "metadata": {},
   "source": [
    "There is much more charts and ways to visualize your data, and this step is really important in machine learning and data science in general. Without understanding your data you can never start modeling."
   ]
  },
  {
   "attachments": {},
   "cell_type": "markdown",
   "metadata": {},
   "source": [
    "## NumPy basics"
   ]
  },
  {
   "attachments": {},
   "cell_type": "markdown",
   "metadata": {},
   "source": [
    "NumPy, short for Numerical Python, is a powerful open-source library for numerical computing in Python. It provides essential functionality for efficiently working with large, multi-dimensional arrays and matrices, along with a wide range of mathematical functions to operate on these arrays. NumPy serves as the foundation for numerous scientific and data-related libraries in the Python ecosystem, making it a fundamental tool for data scientists, engineers, and researchers."
   ]
  },
  {
   "attachments": {},
   "cell_type": "markdown",
   "metadata": {},
   "source": [
    "We have already mentioned that NumPy is integrated in Pandas. Well, until the last version that is. Future versions of Pandas will head toward breaking ties with NumPy.\n",
    "\n",
    "Here and now, we are going to take a peek into NumPy and see how it is tied to Pandas.\n",
    "\n",
    "Remember our test DataFrames."
   ]
  },
  {
   "attachments": {},
   "cell_type": "markdown",
   "metadata": {},
   "source": [
    "### Pandas to Numpy"
   ]
  },
  {
   "cell_type": "code",
   "execution_count": 128,
   "metadata": {},
   "outputs": [
    {
     "data": {
      "text/html": [
       "<div>\n",
       "<style scoped>\n",
       "    .dataframe tbody tr th:only-of-type {\n",
       "        vertical-align: middle;\n",
       "    }\n",
       "\n",
       "    .dataframe tbody tr th {\n",
       "        vertical-align: top;\n",
       "    }\n",
       "\n",
       "    .dataframe thead th {\n",
       "        text-align: right;\n",
       "    }\n",
       "</style>\n",
       "<table border=\"1\" class=\"dataframe\">\n",
       "  <thead>\n",
       "    <tr style=\"text-align: right;\">\n",
       "      <th></th>\n",
       "      <th>rank</th>\n",
       "      <th>name</th>\n",
       "      <th>grade</th>\n",
       "      <th>rank_transform</th>\n",
       "      <th>name_caps</th>\n",
       "    </tr>\n",
       "  </thead>\n",
       "  <tbody>\n",
       "    <tr>\n",
       "      <th>0</th>\n",
       "      <td>1</td>\n",
       "      <td>marko</td>\n",
       "      <td>2.15</td>\n",
       "      <td>6</td>\n",
       "      <td>MARKO</td>\n",
       "    </tr>\n",
       "    <tr>\n",
       "      <th>1</th>\n",
       "      <td>3</td>\n",
       "      <td>nikola</td>\n",
       "      <td>1.00</td>\n",
       "      <td>8</td>\n",
       "      <td>NIKOLA</td>\n",
       "    </tr>\n",
       "    <tr>\n",
       "      <th>2</th>\n",
       "      <td>4</td>\n",
       "      <td>jovana</td>\n",
       "      <td>2.50</td>\n",
       "      <td>9</td>\n",
       "      <td>JOVANA</td>\n",
       "    </tr>\n",
       "    <tr>\n",
       "      <th>4</th>\n",
       "      <td>5</td>\n",
       "      <td>dragana</td>\n",
       "      <td>2.25</td>\n",
       "      <td>10</td>\n",
       "      <td>DRAGANA</td>\n",
       "    </tr>\n",
       "  </tbody>\n",
       "</table>\n",
       "</div>"
      ],
      "text/plain": [
       "   rank     name  grade  rank_transform name_caps\n",
       "0     1    marko   2.15               6     MARKO\n",
       "1     3   nikola   1.00               8    NIKOLA\n",
       "2     4   jovana   2.50               9    JOVANA\n",
       "4     5  dragana   2.25              10   DRAGANA"
      ]
     },
     "execution_count": 128,
     "metadata": {},
     "output_type": "execute_result"
    }
   ],
   "source": [
    "df_test5"
   ]
  },
  {
   "cell_type": "code",
   "execution_count": 129,
   "metadata": {},
   "outputs": [
    {
     "data": {
      "text/plain": [
       "0    2.15\n",
       "1    1.00\n",
       "2    2.50\n",
       "4    2.25\n",
       "Name: grade, dtype: float64"
      ]
     },
     "execution_count": 129,
     "metadata": {},
     "output_type": "execute_result"
    }
   ],
   "source": [
    "df_test5.loc[:, 'grade']"
   ]
  },
  {
   "cell_type": "code",
   "execution_count": 130,
   "metadata": {},
   "outputs": [
    {
     "data": {
      "text/plain": [
       "0    2.15\n",
       "1    1.00\n",
       "2    2.50\n",
       "4    2.25\n",
       "Name: grade, dtype: float64"
      ]
     },
     "execution_count": 130,
     "metadata": {},
     "output_type": "execute_result"
    }
   ],
   "source": [
    "df_test5['grade']"
   ]
  },
  {
   "cell_type": "code",
   "execution_count": 131,
   "metadata": {},
   "outputs": [
    {
     "data": {
      "text/plain": [
       "array([2.15, 1.  , 2.5 , 2.25])"
      ]
     },
     "execution_count": 131,
     "metadata": {},
     "output_type": "execute_result"
    }
   ],
   "source": [
    "df_test5['grade'].values"
   ]
  },
  {
   "attachments": {},
   "cell_type": "markdown",
   "metadata": {},
   "source": [
    "### Basic NumPy array creation"
   ]
  },
  {
   "attachments": {},
   "cell_type": "markdown",
   "metadata": {},
   "source": [
    "`array([...])` is the sign of Pandas having NumPy arrays below the surface. Here we asked for raw values of our Series and we got NumPy array.\n",
    "\n",
    "Let's start with creating NumPy and some basic operation with NumPy arrays."
   ]
  },
  {
   "cell_type": "code",
   "execution_count": 132,
   "metadata": {},
   "outputs": [
    {
     "data": {
      "text/plain": [
       "array([1, 2, 3, 4, 5])"
      ]
     },
     "execution_count": 132,
     "metadata": {},
     "output_type": "execute_result"
    }
   ],
   "source": [
    "arr_test1 = np.array([1,2,3,4,5])\n",
    "\n",
    "arr_test1"
   ]
  },
  {
   "attachments": {},
   "cell_type": "markdown",
   "metadata": {},
   "source": [
    "We create NumPy array by providing Python list. It is then converted into NumPy array with same elements and same size."
   ]
  },
  {
   "cell_type": "code",
   "execution_count": 133,
   "metadata": {},
   "outputs": [
    {
     "data": {
      "text/plain": [
       "(5,)"
      ]
     },
     "execution_count": 133,
     "metadata": {},
     "output_type": "execute_result"
    }
   ],
   "source": [
    "arr_test1.shape"
   ]
  },
  {
   "cell_type": "code",
   "execution_count": 134,
   "metadata": {},
   "outputs": [
    {
     "data": {
      "text/plain": [
       "5"
      ]
     },
     "execution_count": 134,
     "metadata": {},
     "output_type": "execute_result"
    }
   ],
   "source": [
    "len(arr_test1)"
   ]
  },
  {
   "attachments": {},
   "cell_type": "markdown",
   "metadata": {},
   "source": [
    "Similar to Python and Pandas DataFrame. You get the length of the array."
   ]
  },
  {
   "cell_type": "code",
   "execution_count": 135,
   "metadata": {},
   "outputs": [
    {
     "data": {
      "text/plain": [
       "numpy.ndarray"
      ]
     },
     "execution_count": 135,
     "metadata": {},
     "output_type": "execute_result"
    }
   ],
   "source": [
    "type(arr_test1)"
   ]
  },
  {
   "attachments": {},
   "cell_type": "markdown",
   "metadata": {},
   "source": [
    "That's it. NumPy array.\n",
    "\n",
    "Why are NumPy arrays important?\n",
    "\n",
    "Well, NumPy arrays provide one important feature and that is speed. These arrays contain only elements of the same data type, and therefore their memmory footprint is smaller and it is easier to work with them. \n",
    "\n",
    "If you know Python you know that you can end up with next scenario:"
   ]
  },
  {
   "cell_type": "code",
   "execution_count": 136,
   "metadata": {},
   "outputs": [],
   "source": [
    "_list = [1, \"sas\", 4.4]"
   ]
  },
  {
   "attachments": {},
   "cell_type": "markdown",
   "metadata": {},
   "source": [
    "And this is perfectly okay... in Python. Not in NumPy. Because of this, you can always be sure that you will be able to run functions and methods on these arrays without any issue. "
   ]
  },
  {
   "attachments": {},
   "cell_type": "markdown",
   "metadata": {},
   "source": [
    "### Basic NumPy arrays arithmetic"
   ]
  },
  {
   "cell_type": "code",
   "execution_count": 137,
   "metadata": {},
   "outputs": [
    {
     "data": {
      "text/plain": [
       "array([1, 2, 3, 4, 5])"
      ]
     },
     "execution_count": 137,
     "metadata": {},
     "output_type": "execute_result"
    }
   ],
   "source": [
    "arr_test1"
   ]
  },
  {
   "cell_type": "code",
   "execution_count": 138,
   "metadata": {},
   "outputs": [
    {
     "data": {
      "text/plain": [
       "array([ 3,  6,  9, 12, 15])"
      ]
     },
     "execution_count": 138,
     "metadata": {},
     "output_type": "execute_result"
    }
   ],
   "source": [
    "arr_test1 * 3"
   ]
  },
  {
   "cell_type": "code",
   "execution_count": 139,
   "metadata": {},
   "outputs": [
    {
     "data": {
      "text/plain": [
       "array([0.33333333, 0.66666667, 1.        , 1.33333333, 1.66666667])"
      ]
     },
     "execution_count": 139,
     "metadata": {},
     "output_type": "execute_result"
    }
   ],
   "source": [
    "arr_test1 / 3"
   ]
  },
  {
   "cell_type": "code",
   "execution_count": 140,
   "metadata": {},
   "outputs": [
    {
     "data": {
      "text/plain": [
       "array([ 1,  4,  9, 16, 25])"
      ]
     },
     "execution_count": 140,
     "metadata": {},
     "output_type": "execute_result"
    }
   ],
   "source": [
    "arr_test1 ** 2"
   ]
  },
  {
   "attachments": {},
   "cell_type": "markdown",
   "metadata": {},
   "source": [
    "How about so called 'element-wise' operations?"
   ]
  },
  {
   "cell_type": "code",
   "execution_count": 141,
   "metadata": {},
   "outputs": [
    {
     "data": {
      "text/plain": [
       "array([ 2,  4,  6,  8, 10])"
      ]
     },
     "execution_count": 141,
     "metadata": {},
     "output_type": "execute_result"
    }
   ],
   "source": [
    "arr_test1 + arr_test1"
   ]
  },
  {
   "cell_type": "code",
   "execution_count": 142,
   "metadata": {},
   "outputs": [
    {
     "data": {
      "text/plain": [
       "array([ 1,  4,  9, 16, 25])"
      ]
     },
     "execution_count": 142,
     "metadata": {},
     "output_type": "execute_result"
    }
   ],
   "source": [
    "arr_test1 * arr_test1"
   ]
  },
  {
   "attachments": {},
   "cell_type": "markdown",
   "metadata": {},
   "source": [
    "You probably get the idea why it is called 'element-wise'? Because we perform arrays operation so that corresponding elements get summed, or multiplied.\n",
    "\n",
    "You can do this too:"
   ]
  },
  {
   "cell_type": "code",
   "execution_count": 143,
   "metadata": {},
   "outputs": [
    {
     "data": {
      "text/plain": [
       "array([   1,    4,   27,  256, 3125])"
      ]
     },
     "execution_count": 143,
     "metadata": {},
     "output_type": "execute_result"
    }
   ],
   "source": [
    "arr_test1 ** arr_test1"
   ]
  },
  {
   "attachments": {},
   "cell_type": "markdown",
   "metadata": {},
   "source": [
    "You can even test on logical conditions:"
   ]
  },
  {
   "cell_type": "code",
   "execution_count": 144,
   "metadata": {},
   "outputs": [
    {
     "data": {
      "text/plain": [
       "array([False, False, False,  True,  True])"
      ]
     },
     "execution_count": 144,
     "metadata": {},
     "output_type": "execute_result"
    }
   ],
   "source": [
    "arr_test1 > 3"
   ]
  },
  {
   "attachments": {},
   "cell_type": "markdown",
   "metadata": {},
   "source": [
    "And the result will be NumPy array. And what happens if you do next:"
   ]
  },
  {
   "cell_type": "code",
   "execution_count": 145,
   "metadata": {},
   "outputs": [
    {
     "data": {
      "text/plain": [
       "array([4, 5])"
      ]
     },
     "execution_count": 145,
     "metadata": {},
     "output_type": "execute_result"
    }
   ],
   "source": [
    "arr_test1[arr_test1 > 3]"
   ]
  },
  {
   "attachments": {},
   "cell_type": "markdown",
   "metadata": {},
   "source": [
    "Or how about this:"
   ]
  },
  {
   "cell_type": "code",
   "execution_count": 146,
   "metadata": {},
   "outputs": [
    {
     "data": {
      "text/plain": [
       "9"
      ]
     },
     "execution_count": 146,
     "metadata": {},
     "output_type": "execute_result"
    }
   ],
   "source": [
    "arr_test1[arr_test1 > 3].sum()"
   ]
  },
  {
   "attachments": {},
   "cell_type": "markdown",
   "metadata": {},
   "source": [
    "Interesting things can be achieved with NumPy. And some of these look similar to what we did in Pandas."
   ]
  },
  {
   "cell_type": "code",
   "execution_count": 147,
   "metadata": {},
   "outputs": [
    {
     "data": {
      "text/plain": [
       "array([1, 2, 3, 4, 5])"
      ]
     },
     "execution_count": 147,
     "metadata": {},
     "output_type": "execute_result"
    }
   ],
   "source": [
    "# refresher\n",
    "arr_test1"
   ]
  },
  {
   "attachments": {},
   "cell_type": "markdown",
   "metadata": {},
   "source": [
    "How about we get `mean`, `median` and `std` for our array?"
   ]
  },
  {
   "cell_type": "code",
   "execution_count": 148,
   "metadata": {},
   "outputs": [
    {
     "data": {
      "text/plain": [
       "(3.0, 3.0, 1.4142135623730951)"
      ]
     },
     "execution_count": 148,
     "metadata": {},
     "output_type": "execute_result"
    }
   ],
   "source": [
    "np.mean(arr_test1), np.median(arr_test1), np.std(arr_test1)"
   ]
  },
  {
   "attachments": {},
   "cell_type": "markdown",
   "metadata": {},
   "source": [
    "There is a lot more NumPy functions that you can use. Here are some interesting ones."
   ]
  },
  {
   "cell_type": "code",
   "execution_count": 149,
   "metadata": {},
   "outputs": [
    {
     "data": {
      "text/plain": [
       "array([0., 0., 0., 0., 0.])"
      ]
     },
     "execution_count": 149,
     "metadata": {},
     "output_type": "execute_result"
    }
   ],
   "source": [
    "np.zeros(shape=(5, ))"
   ]
  },
  {
   "cell_type": "code",
   "execution_count": 150,
   "metadata": {},
   "outputs": [
    {
     "data": {
      "text/plain": [
       "array([1., 1., 1., 1., 1.])"
      ]
     },
     "execution_count": 150,
     "metadata": {},
     "output_type": "execute_result"
    }
   ],
   "source": [
    "np.ones(shape=(5, ))"
   ]
  },
  {
   "cell_type": "code",
   "execution_count": 151,
   "metadata": {},
   "outputs": [
    {
     "data": {
      "text/plain": [
       "array([4, 4, 4, 4, 4])"
      ]
     },
     "execution_count": 151,
     "metadata": {},
     "output_type": "execute_result"
    }
   ],
   "source": [
    "np.repeat(4, repeats=5)"
   ]
  },
  {
   "cell_type": "code",
   "execution_count": 152,
   "metadata": {},
   "outputs": [
    {
     "data": {
      "text/plain": [
       "array([0, 2, 4, 6, 8])"
      ]
     },
     "execution_count": 152,
     "metadata": {},
     "output_type": "execute_result"
    }
   ],
   "source": [
    "np.arange(start=0, stop=10, step=2)"
   ]
  },
  {
   "attachments": {},
   "cell_type": "markdown",
   "metadata": {},
   "source": [
    "Or, you can use different approach in getting the list of numbers:"
   ]
  },
  {
   "cell_type": "code",
   "execution_count": 153,
   "metadata": {},
   "outputs": [
    {
     "data": {
      "text/plain": [
       "array([ 0.,  1.,  2.,  3.,  4.,  5.,  6.,  7.,  8.,  9., 10.])"
      ]
     },
     "execution_count": 153,
     "metadata": {},
     "output_type": "execute_result"
    }
   ],
   "source": [
    "np.linspace(start=0, stop=10, num=11)"
   ]
  },
  {
   "attachments": {},
   "cell_type": "markdown",
   "metadata": {},
   "source": [
    "Maybe all you need is vector of random numbers?"
   ]
  },
  {
   "cell_type": "code",
   "execution_count": 154,
   "metadata": {},
   "outputs": [
    {
     "data": {
      "text/plain": [
       "array([9, 2, 4, 1, 5, 5, 7, 3, 4, 0])"
      ]
     },
     "execution_count": 154,
     "metadata": {},
     "output_type": "execute_result"
    }
   ],
   "source": [
    "arr_test2 = np.random.randint(low=0, high=10, size=10)\n",
    "\n",
    "arr_test2"
   ]
  },
  {
   "attachments": {},
   "cell_type": "markdown",
   "metadata": {},
   "source": [
    "### NumPy matrices"
   ]
  },
  {
   "attachments": {},
   "cell_type": "markdown",
   "metadata": {},
   "source": [
    "And now, let's introduce matrices:"
   ]
  },
  {
   "cell_type": "code",
   "execution_count": 155,
   "metadata": {},
   "outputs": [],
   "source": [
    "mat_test1 = np.array([\n",
    "    [1,2,3], [5,6,7]\n",
    "])"
   ]
  },
  {
   "cell_type": "code",
   "execution_count": 156,
   "metadata": {},
   "outputs": [
    {
     "data": {
      "text/plain": [
       "array([[1, 2, 3],\n",
       "       [5, 6, 7]])"
      ]
     },
     "execution_count": 156,
     "metadata": {},
     "output_type": "execute_result"
    }
   ],
   "source": [
    "mat_test1"
   ]
  },
  {
   "attachments": {},
   "cell_type": "markdown",
   "metadata": {},
   "source": [
    "How about we want to transpose our matrix? Do you remember what transposing means? It's making rows columns and column rows. Look:"
   ]
  },
  {
   "cell_type": "code",
   "execution_count": 157,
   "metadata": {},
   "outputs": [
    {
     "data": {
      "text/plain": [
       "array([[1, 5],\n",
       "       [2, 6],\n",
       "       [3, 7]])"
      ]
     },
     "execution_count": 157,
     "metadata": {},
     "output_type": "execute_result"
    }
   ],
   "source": [
    "mat_test1.T"
   ]
  },
  {
   "attachments": {},
   "cell_type": "markdown",
   "metadata": {},
   "source": [
    "We can use `np.ones`, `np.zeros` to create matrices of different dimensions. Here is the example:"
   ]
  },
  {
   "cell_type": "code",
   "execution_count": 158,
   "metadata": {},
   "outputs": [
    {
     "data": {
      "text/plain": [
       "array([[1., 1.],\n",
       "       [1., 1.],\n",
       "       [1., 1.]])"
      ]
     },
     "execution_count": 158,
     "metadata": {},
     "output_type": "execute_result"
    }
   ],
   "source": [
    "np.ones(shape=(3, 2)) # 3 rows, 2 columns"
   ]
  },
  {
   "cell_type": "code",
   "execution_count": 159,
   "metadata": {},
   "outputs": [
    {
     "data": {
      "text/plain": [
       "array([0., 0., 0.])"
      ]
     },
     "execution_count": 159,
     "metadata": {},
     "output_type": "execute_result"
    }
   ],
   "source": [
    "np.zeros(shape=3)"
   ]
  },
  {
   "attachments": {},
   "cell_type": "markdown",
   "metadata": {},
   "source": [
    "And how can we sum matrices?"
   ]
  },
  {
   "cell_type": "code",
   "execution_count": 160,
   "metadata": {},
   "outputs": [
    {
     "data": {
      "text/plain": [
       "array([[2., 3., 4.],\n",
       "       [6., 7., 8.]])"
      ]
     },
     "execution_count": 160,
     "metadata": {},
     "output_type": "execute_result"
    }
   ],
   "source": [
    "mat_test1 + np.ones(shape=mat_test1.shape)"
   ]
  },
  {
   "attachments": {},
   "cell_type": "markdown",
   "metadata": {},
   "source": [
    "And what about we sum matrix with vector? Is this mathematically valid?"
   ]
  },
  {
   "cell_type": "code",
   "execution_count": 161,
   "metadata": {},
   "outputs": [
    {
     "data": {
      "text/plain": [
       "array([[1.],\n",
       "       [1.]])"
      ]
     },
     "execution_count": 161,
     "metadata": {},
     "output_type": "execute_result"
    }
   ],
   "source": [
    "np.ones(shape=(2, 1))"
   ]
  },
  {
   "cell_type": "code",
   "execution_count": 162,
   "metadata": {},
   "outputs": [
    {
     "data": {
      "text/plain": [
       "array([[1, 2, 3],\n",
       "       [5, 6, 7]])"
      ]
     },
     "execution_count": 162,
     "metadata": {},
     "output_type": "execute_result"
    }
   ],
   "source": [
    "mat_test1"
   ]
  },
  {
   "cell_type": "code",
   "execution_count": 163,
   "metadata": {},
   "outputs": [
    {
     "data": {
      "text/plain": [
       "array([[2., 3., 4.],\n",
       "       [6., 7., 8.]])"
      ]
     },
     "execution_count": 163,
     "metadata": {},
     "output_type": "execute_result"
    }
   ],
   "source": [
    "mat_test1 + np.ones(shape=(2, 1))"
   ]
  },
  {
   "attachments": {},
   "cell_type": "markdown",
   "metadata": {},
   "source": [
    "Hold on, how is this possible? It is possible due to broadcasting. It's good to know that it exists, but we will not go into describing all the details. Just to say, be careful.\n",
    "\n",
    "How about we fiddle with matrices and vectors. \n",
    "\n",
    "Did you know you can create matrix by using vector, and vice versa?"
   ]
  },
  {
   "cell_type": "code",
   "execution_count": 164,
   "metadata": {},
   "outputs": [
    {
     "data": {
      "text/plain": [
       "array([[1, 2, 3],\n",
       "       [5, 6, 7]])"
      ]
     },
     "execution_count": 164,
     "metadata": {},
     "output_type": "execute_result"
    }
   ],
   "source": [
    "mat_test1"
   ]
  },
  {
   "cell_type": "code",
   "execution_count": 165,
   "metadata": {},
   "outputs": [
    {
     "data": {
      "text/plain": [
       "array([1, 2, 3, 5, 6, 7])"
      ]
     },
     "execution_count": 165,
     "metadata": {},
     "output_type": "execute_result"
    }
   ],
   "source": [
    "mat_test1.flatten()"
   ]
  },
  {
   "cell_type": "code",
   "execution_count": 166,
   "metadata": {},
   "outputs": [
    {
     "data": {
      "text/plain": [
       "array([[1, 2, 3, 5, 6, 7]])"
      ]
     },
     "execution_count": 166,
     "metadata": {},
     "output_type": "execute_result"
    }
   ],
   "source": [
    "mat_test1.reshape(1, -1)"
   ]
  },
  {
   "attachments": {},
   "cell_type": "markdown",
   "metadata": {},
   "source": [
    "This reshapes your NumPy array so that it **certainly have 1 row**, while NumPy should deal with number of columns.\n",
    "\n",
    "How about we reshape it back, but not in the same shape?"
   ]
  },
  {
   "cell_type": "code",
   "execution_count": 167,
   "metadata": {},
   "outputs": [
    {
     "data": {
      "text/plain": [
       "array([9, 2, 4, 1, 5, 5, 7, 3, 4, 0])"
      ]
     },
     "execution_count": 167,
     "metadata": {},
     "output_type": "execute_result"
    }
   ],
   "source": [
    "arr_test2"
   ]
  },
  {
   "cell_type": "code",
   "execution_count": 168,
   "metadata": {},
   "outputs": [
    {
     "data": {
      "text/plain": [
       "array([[9, 2],\n",
       "       [4, 1],\n",
       "       [5, 5],\n",
       "       [7, 3],\n",
       "       [4, 0]])"
      ]
     },
     "execution_count": 168,
     "metadata": {},
     "output_type": "execute_result"
    }
   ],
   "source": [
    "arr_test2.reshape(5, -1)"
   ]
  },
  {
   "attachments": {},
   "cell_type": "markdown",
   "metadata": {},
   "source": [
    "This required that the resulting NumPy array contains exactly 5 rows, and the rest is up to NumPy to figure out. We can be explicit as well:"
   ]
  },
  {
   "cell_type": "code",
   "execution_count": 169,
   "metadata": {},
   "outputs": [
    {
     "data": {
      "text/plain": [
       "array([[9, 2],\n",
       "       [4, 1],\n",
       "       [5, 5],\n",
       "       [7, 3],\n",
       "       [4, 0]])"
      ]
     },
     "execution_count": 169,
     "metadata": {},
     "output_type": "execute_result"
    }
   ],
   "source": [
    "arr_test2.reshape(5, 2)"
   ]
  },
  {
   "attachments": {},
   "cell_type": "markdown",
   "metadata": {},
   "source": [
    "Works like a charm. \n",
    "\n",
    "And now, how about we want to select specific rows and columns in matrix?"
   ]
  },
  {
   "attachments": {},
   "cell_type": "markdown",
   "metadata": {},
   "source": [
    "### NumPy slicing"
   ]
  },
  {
   "cell_type": "code",
   "execution_count": 170,
   "metadata": {},
   "outputs": [
    {
     "data": {
      "text/plain": [
       "array([[1, 2, 3],\n",
       "       [5, 6, 7]])"
      ]
     },
     "execution_count": 170,
     "metadata": {},
     "output_type": "execute_result"
    }
   ],
   "source": [
    "mat_test1"
   ]
  },
  {
   "cell_type": "code",
   "execution_count": 171,
   "metadata": {},
   "outputs": [
    {
     "data": {
      "text/plain": [
       "array([3, 7])"
      ]
     },
     "execution_count": 171,
     "metadata": {},
     "output_type": "execute_result"
    }
   ],
   "source": [
    "mat_test1[:, 2] # third column"
   ]
  },
  {
   "cell_type": "code",
   "execution_count": 172,
   "metadata": {},
   "outputs": [
    {
     "data": {
      "text/plain": [
       "array([5, 6, 7])"
      ]
     },
     "execution_count": 172,
     "metadata": {},
     "output_type": "execute_result"
    }
   ],
   "source": [
    "mat_test1[1, :] # second row... indexing starts from 0"
   ]
  },
  {
   "cell_type": "code",
   "execution_count": 173,
   "metadata": {},
   "outputs": [
    {
     "data": {
      "text/plain": [
       "3"
      ]
     },
     "execution_count": 173,
     "metadata": {},
     "output_type": "execute_result"
    }
   ],
   "source": [
    "mat_test1[0, 2] # first row, third column"
   ]
  },
  {
   "attachments": {},
   "cell_type": "markdown",
   "metadata": {},
   "source": [
    "We can do some Pythonic slicing too:"
   ]
  },
  {
   "cell_type": "code",
   "execution_count": 174,
   "metadata": {},
   "outputs": [
    {
     "data": {
      "text/plain": [
       "array([9, 2, 4, 1, 5, 5, 7, 3, 4, 0])"
      ]
     },
     "execution_count": 174,
     "metadata": {},
     "output_type": "execute_result"
    }
   ],
   "source": [
    "arr_test2"
   ]
  },
  {
   "cell_type": "code",
   "execution_count": 175,
   "metadata": {},
   "outputs": [
    {
     "data": {
      "text/plain": [
       "array([9, 2, 4])"
      ]
     },
     "execution_count": 175,
     "metadata": {},
     "output_type": "execute_result"
    }
   ],
   "source": [
    "arr_test2[:3] # slice until forth element"
   ]
  },
  {
   "cell_type": "code",
   "execution_count": 176,
   "metadata": {},
   "outputs": [
    {
     "data": {
      "text/plain": [
       "array([5, 7, 3, 4, 0])"
      ]
     },
     "execution_count": 176,
     "metadata": {},
     "output_type": "execute_result"
    }
   ],
   "source": [
    "arr_test2[5:] # slice from sixth element"
   ]
  },
  {
   "cell_type": "code",
   "execution_count": 177,
   "metadata": {},
   "outputs": [
    {
     "data": {
      "text/plain": [
       "array([5, 7, 3])"
      ]
     },
     "execution_count": 177,
     "metadata": {},
     "output_type": "execute_result"
    }
   ],
   "source": [
    "arr_test2[5: -2] # slice from sixth element until third from the back"
   ]
  },
  {
   "cell_type": "code",
   "execution_count": 178,
   "metadata": {},
   "outputs": [
    {
     "data": {
      "text/plain": [
       "array([9, 4, 5, 7, 4])"
      ]
     },
     "execution_count": 178,
     "metadata": {},
     "output_type": "execute_result"
    }
   ],
   "source": [
    "arr_test2[::2] # take every second element starting from the beginning"
   ]
  },
  {
   "attachments": {},
   "cell_type": "markdown",
   "metadata": {},
   "source": [
    "Combinations are endless and so is the fun with NumPy."
   ]
  },
  {
   "attachments": {},
   "cell_type": "markdown",
   "metadata": {},
   "source": [
    "### Basic NumPy algebra"
   ]
  },
  {
   "attachments": {},
   "cell_type": "markdown",
   "metadata": {},
   "source": [
    "And the last thing we want to show you is... maths. Linear algebra and some really simple functions with matrices and vectors.\n",
    "\n",
    "We already saw that we can multiply vector or matrix with scalar:"
   ]
  },
  {
   "cell_type": "code",
   "execution_count": 179,
   "metadata": {},
   "outputs": [
    {
     "data": {
      "text/plain": [
       "array([[1, 2, 3],\n",
       "       [5, 6, 7]])"
      ]
     },
     "execution_count": 179,
     "metadata": {},
     "output_type": "execute_result"
    }
   ],
   "source": [
    "mat_test1"
   ]
  },
  {
   "cell_type": "code",
   "execution_count": 180,
   "metadata": {},
   "outputs": [
    {
     "data": {
      "text/plain": [
       "array([[ 2,  4,  6],\n",
       "       [10, 12, 14]])"
      ]
     },
     "execution_count": 180,
     "metadata": {},
     "output_type": "execute_result"
    }
   ],
   "source": [
    "mat_test1 * 2"
   ]
  },
  {
   "attachments": {},
   "cell_type": "markdown",
   "metadata": {},
   "source": [
    "We saw that multiplying matrix with vector is possible:"
   ]
  },
  {
   "cell_type": "code",
   "execution_count": 181,
   "metadata": {},
   "outputs": [
    {
     "data": {
      "text/plain": [
       "array([[ 5, 12, 21],\n",
       "       [25, 36, 49]])"
      ]
     },
     "execution_count": 181,
     "metadata": {},
     "output_type": "execute_result"
    }
   ],
   "source": [
    "mat_test1 * np.array([5,6,7])"
   ]
  },
  {
   "attachments": {},
   "cell_type": "markdown",
   "metadata": {},
   "source": [
    "This is the same as:"
   ]
  },
  {
   "cell_type": "code",
   "execution_count": 182,
   "metadata": {},
   "outputs": [
    {
     "data": {
      "text/plain": [
       "array([[ 5, 12, 21],\n",
       "       [25, 36, 49]])"
      ]
     },
     "execution_count": 182,
     "metadata": {},
     "output_type": "execute_result"
    }
   ],
   "source": [
    "np.multiply(mat_test1, np.array([5,6,7]))"
   ]
  },
  {
   "attachments": {},
   "cell_type": "markdown",
   "metadata": {},
   "source": [
    "But what about **dot product** of two vectors?"
   ]
  },
  {
   "cell_type": "code",
   "execution_count": 183,
   "metadata": {},
   "outputs": [
    {
     "data": {
      "text/plain": [
       "array([1, 2, 3, 4, 5])"
      ]
     },
     "execution_count": 183,
     "metadata": {},
     "output_type": "execute_result"
    }
   ],
   "source": [
    "arr_test1"
   ]
  },
  {
   "cell_type": "code",
   "execution_count": 184,
   "metadata": {},
   "outputs": [
    {
     "data": {
      "text/plain": [
       "55"
      ]
     },
     "execution_count": 184,
     "metadata": {},
     "output_type": "execute_result"
    }
   ],
   "source": [
    "_res = 0\n",
    "for i in arr_test1:\n",
    "    _res += i * i\n",
    "\n",
    "_res"
   ]
  },
  {
   "attachments": {},
   "cell_type": "markdown",
   "metadata": {},
   "source": [
    "Or we can do it like this:"
   ]
  },
  {
   "cell_type": "code",
   "execution_count": 185,
   "metadata": {},
   "outputs": [
    {
     "data": {
      "text/plain": [
       "55"
      ]
     },
     "execution_count": 185,
     "metadata": {},
     "output_type": "execute_result"
    }
   ],
   "source": [
    "np.dot(arr_test1, arr_test1)"
   ]
  },
  {
   "attachments": {},
   "cell_type": "markdown",
   "metadata": {},
   "source": [
    "And this:"
   ]
  },
  {
   "cell_type": "code",
   "execution_count": 186,
   "metadata": {},
   "outputs": [
    {
     "data": {
      "text/plain": [
       "55"
      ]
     },
     "execution_count": 186,
     "metadata": {},
     "output_type": "execute_result"
    }
   ],
   "source": [
    "arr_test1 @ arr_test1"
   ]
  },
  {
   "attachments": {},
   "cell_type": "markdown",
   "metadata": {},
   "source": [
    "And what about we take matrix and do the dot product with a vector:"
   ]
  },
  {
   "cell_type": "code",
   "execution_count": 187,
   "metadata": {},
   "outputs": [
    {
     "data": {
      "text/plain": [
       "array([[0, 2, 8],\n",
       "       [8, 4, 6]])"
      ]
     },
     "execution_count": 187,
     "metadata": {},
     "output_type": "execute_result"
    }
   ],
   "source": [
    "mat_test2 = np.random.randint(low=0, high=10, size=6).reshape(2, -2)\n",
    "\n",
    "mat_test2"
   ]
  },
  {
   "cell_type": "code",
   "execution_count": 188,
   "metadata": {},
   "outputs": [
    {
     "data": {
      "text/plain": [
       "(2, 3)"
      ]
     },
     "execution_count": 188,
     "metadata": {},
     "output_type": "execute_result"
    }
   ],
   "source": [
    "mat_test2.shape"
   ]
  },
  {
   "cell_type": "code",
   "execution_count": 189,
   "metadata": {},
   "outputs": [
    {
     "data": {
      "text/plain": [
       "array([1, 2, 3, 4, 5])"
      ]
     },
     "execution_count": 189,
     "metadata": {},
     "output_type": "execute_result"
    }
   ],
   "source": [
    "arr_test1"
   ]
  },
  {
   "cell_type": "code",
   "execution_count": 190,
   "metadata": {},
   "outputs": [],
   "source": [
    "# this will not work, why?\n",
    "# mat_test2 @ arr_test1"
   ]
  },
  {
   "cell_type": "code",
   "execution_count": 191,
   "metadata": {},
   "outputs": [
    {
     "data": {
      "text/plain": [
       "array([1, 2, 3])"
      ]
     },
     "execution_count": 191,
     "metadata": {},
     "output_type": "execute_result"
    }
   ],
   "source": [
    "arr_test1[:3]"
   ]
  },
  {
   "cell_type": "code",
   "execution_count": 192,
   "metadata": {},
   "outputs": [
    {
     "data": {
      "text/plain": [
       "array([28, 34])"
      ]
     },
     "execution_count": 192,
     "metadata": {},
     "output_type": "execute_result"
    }
   ],
   "source": [
    "mat_test2 @ arr_test1[:3]"
   ]
  },
  {
   "attachments": {},
   "cell_type": "markdown",
   "metadata": {},
   "source": [
    "We have just scratched the surface of Pandas and NumPy, but this is quite enough for you to get familiar whith the libraries and start exploring for yourself."
   ]
  },
  {
   "attachments": {},
   "cell_type": "markdown",
   "metadata": {},
   "source": []
  }
 ],
 "metadata": {
  "kernelspec": {
   "display_name": ".venv",
   "language": "python",
   "name": "python3"
  },
  "language_info": {
   "codemirror_mode": {
    "name": "ipython",
    "version": 3
   },
   "file_extension": ".py",
   "mimetype": "text/x-python",
   "name": "python",
   "nbconvert_exporter": "python",
   "pygments_lexer": "ipython3",
   "version": "3.8.10"
  },
  "orig_nbformat": 4
 },
 "nbformat": 4,
 "nbformat_minor": 2
}
